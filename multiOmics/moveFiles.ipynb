{
 "cells": [
  {
   "cell_type": "code",
   "execution_count": 1,
   "id": "90b7dc60",
   "metadata": {},
   "outputs": [
    {
     "name": "stdout",
     "output_type": "stream",
     "text": [
      "/Users/soniasharapova/miniconda3/lib/python3.9/csv.py\n"
     ]
    }
   ],
   "source": [
    "import csv\n",
    "print(csv.__file__)\n",
    "\n",
    "import os\n",
    "import shutil"
   ]
  },
  {
   "cell_type": "code",
   "execution_count": 25,
   "id": "70aba1cf",
   "metadata": {},
   "outputs": [
    {
     "data": {
      "text/plain": [
       "'/Volumes/Toshiba_blue'"
      ]
     },
     "execution_count": 25,
     "metadata": {},
     "output_type": "execute_result"
    }
   ],
   "source": [
    "os.getcwd()\n",
    "os.getcwd()\n",
    "os.listdir()\n",
    "os.chdir(\"/Volumes/Toshiba_blue\")\n",
    "os.listdir()\n",
    "os.getcwd()"
   ]
  },
  {
   "cell_type": "code",
   "execution_count": 26,
   "id": "e27c6e43",
   "metadata": {},
   "outputs": [
    {
     "data": {
      "text/plain": [
       "'/Volumes/Toshiba_blue/methylation/methylationFiles/files'"
      ]
     },
     "execution_count": 26,
     "metadata": {},
     "output_type": "execute_result"
    }
   ],
   "source": [
    "os.chdir(\"./methylation/methylationFiles/files\")\n",
    "os.getcwd()"
   ]
  },
  {
   "cell_type": "code",
   "execution_count": 31,
   "id": "b4346e8e",
   "metadata": {},
   "outputs": [
    {
     "ename": "KeyboardInterrupt",
     "evalue": "",
     "output_type": "error",
     "traceback": [
      "\u001b[0;31m---------------------------------------------------------------------------\u001b[0m",
      "\u001b[0;31mKeyboardInterrupt\u001b[0m                         Traceback (most recent call last)",
      "\u001b[0;32m<ipython-input-31-5f6a8f6dfd1a>\u001b[0m in \u001b[0;36m<module>\u001b[0;34m\u001b[0m\n\u001b[1;32m      6\u001b[0m     \u001b[0;32mfor\u001b[0m \u001b[0mfile\u001b[0m \u001b[0;32min\u001b[0m \u001b[0mfiles\u001b[0m\u001b[0;34m:\u001b[0m\u001b[0;34m\u001b[0m\u001b[0;34m\u001b[0m\u001b[0m\n\u001b[1;32m      7\u001b[0m         \u001b[0;32mif\u001b[0m \u001b[0mfile\u001b[0m\u001b[0;34m.\u001b[0m\u001b[0mendswith\u001b[0m\u001b[0;34m(\u001b[0m\u001b[0;34m\".txt\"\u001b[0m\u001b[0;34m)\u001b[0m\u001b[0;34m:\u001b[0m\u001b[0;34m\u001b[0m\u001b[0;34m\u001b[0m\u001b[0m\n\u001b[0;32m----> 8\u001b[0;31m             \u001b[0mshutil\u001b[0m\u001b[0;34m.\u001b[0m\u001b[0mcopy\u001b[0m\u001b[0;34m(\u001b[0m\u001b[0mfile\u001b[0m\u001b[0;34m,\u001b[0m \u001b[0;34m'./text'\u001b[0m\u001b[0;34m,\u001b[0m \u001b[0mfollow_symlinks\u001b[0m\u001b[0;34m=\u001b[0m\u001b[0;32mTrue\u001b[0m\u001b[0;34m)\u001b[0m\u001b[0;34m\u001b[0m\u001b[0;34m\u001b[0m\u001b[0m\n\u001b[0m\u001b[1;32m      9\u001b[0m             \u001b[0mpath\u001b[0m \u001b[0;34m=\u001b[0m \u001b[0mdirectory\u001b[0m \u001b[0;34m+\u001b[0m \u001b[0;34m'/'\u001b[0m \u001b[0;34m+\u001b[0m \u001b[0mfile\u001b[0m\u001b[0;34m\u001b[0m\u001b[0;34m\u001b[0m\u001b[0m\n",
      "\u001b[0;32m~/miniconda3/lib/python3.9/shutil.py\u001b[0m in \u001b[0;36mcopy\u001b[0;34m(src, dst, follow_symlinks)\u001b[0m\n\u001b[1;32m    416\u001b[0m     \u001b[0;32mif\u001b[0m \u001b[0mos\u001b[0m\u001b[0;34m.\u001b[0m\u001b[0mpath\u001b[0m\u001b[0;34m.\u001b[0m\u001b[0misdir\u001b[0m\u001b[0;34m(\u001b[0m\u001b[0mdst\u001b[0m\u001b[0;34m)\u001b[0m\u001b[0;34m:\u001b[0m\u001b[0;34m\u001b[0m\u001b[0;34m\u001b[0m\u001b[0m\n\u001b[1;32m    417\u001b[0m         \u001b[0mdst\u001b[0m \u001b[0;34m=\u001b[0m \u001b[0mos\u001b[0m\u001b[0;34m.\u001b[0m\u001b[0mpath\u001b[0m\u001b[0;34m.\u001b[0m\u001b[0mjoin\u001b[0m\u001b[0;34m(\u001b[0m\u001b[0mdst\u001b[0m\u001b[0;34m,\u001b[0m \u001b[0mos\u001b[0m\u001b[0;34m.\u001b[0m\u001b[0mpath\u001b[0m\u001b[0;34m.\u001b[0m\u001b[0mbasename\u001b[0m\u001b[0;34m(\u001b[0m\u001b[0msrc\u001b[0m\u001b[0;34m)\u001b[0m\u001b[0;34m)\u001b[0m\u001b[0;34m\u001b[0m\u001b[0;34m\u001b[0m\u001b[0m\n\u001b[0;32m--> 418\u001b[0;31m     \u001b[0mcopyfile\u001b[0m\u001b[0;34m(\u001b[0m\u001b[0msrc\u001b[0m\u001b[0;34m,\u001b[0m \u001b[0mdst\u001b[0m\u001b[0;34m,\u001b[0m \u001b[0mfollow_symlinks\u001b[0m\u001b[0;34m=\u001b[0m\u001b[0mfollow_symlinks\u001b[0m\u001b[0;34m)\u001b[0m\u001b[0;34m\u001b[0m\u001b[0;34m\u001b[0m\u001b[0m\n\u001b[0m\u001b[1;32m    419\u001b[0m     \u001b[0mcopymode\u001b[0m\u001b[0;34m(\u001b[0m\u001b[0msrc\u001b[0m\u001b[0;34m,\u001b[0m \u001b[0mdst\u001b[0m\u001b[0;34m,\u001b[0m \u001b[0mfollow_symlinks\u001b[0m\u001b[0;34m=\u001b[0m\u001b[0mfollow_symlinks\u001b[0m\u001b[0;34m)\u001b[0m\u001b[0;34m\u001b[0m\u001b[0;34m\u001b[0m\u001b[0m\n\u001b[1;32m    420\u001b[0m     \u001b[0;32mreturn\u001b[0m \u001b[0mdst\u001b[0m\u001b[0;34m\u001b[0m\u001b[0;34m\u001b[0m\u001b[0m\n",
      "\u001b[0;32m~/miniconda3/lib/python3.9/shutil.py\u001b[0m in \u001b[0;36mcopyfile\u001b[0;34m(src, dst, follow_symlinks)\u001b[0m\n\u001b[1;32m    266\u001b[0m             \u001b[0;32mif\u001b[0m \u001b[0m_HAS_FCOPYFILE\u001b[0m\u001b[0;34m:\u001b[0m\u001b[0;34m\u001b[0m\u001b[0;34m\u001b[0m\u001b[0m\n\u001b[1;32m    267\u001b[0m                 \u001b[0;32mtry\u001b[0m\u001b[0;34m:\u001b[0m\u001b[0;34m\u001b[0m\u001b[0;34m\u001b[0m\u001b[0m\n\u001b[0;32m--> 268\u001b[0;31m                     \u001b[0m_fastcopy_fcopyfile\u001b[0m\u001b[0;34m(\u001b[0m\u001b[0mfsrc\u001b[0m\u001b[0;34m,\u001b[0m \u001b[0mfdst\u001b[0m\u001b[0;34m,\u001b[0m \u001b[0mposix\u001b[0m\u001b[0;34m.\u001b[0m\u001b[0m_COPYFILE_DATA\u001b[0m\u001b[0;34m)\u001b[0m\u001b[0;34m\u001b[0m\u001b[0;34m\u001b[0m\u001b[0m\n\u001b[0m\u001b[1;32m    269\u001b[0m                     \u001b[0;32mreturn\u001b[0m \u001b[0mdst\u001b[0m\u001b[0;34m\u001b[0m\u001b[0;34m\u001b[0m\u001b[0m\n\u001b[1;32m    270\u001b[0m                 \u001b[0;32mexcept\u001b[0m \u001b[0m_GiveupOnFastCopy\u001b[0m\u001b[0;34m:\u001b[0m\u001b[0;34m\u001b[0m\u001b[0;34m\u001b[0m\u001b[0m\n",
      "\u001b[0;32m~/miniconda3/lib/python3.9/shutil.py\u001b[0m in \u001b[0;36m_fastcopy_fcopyfile\u001b[0;34m(fsrc, fdst, flags)\u001b[0m\n\u001b[1;32m    103\u001b[0m \u001b[0;34m\u001b[0m\u001b[0m\n\u001b[1;32m    104\u001b[0m     \u001b[0;32mtry\u001b[0m\u001b[0;34m:\u001b[0m\u001b[0;34m\u001b[0m\u001b[0;34m\u001b[0m\u001b[0m\n\u001b[0;32m--> 105\u001b[0;31m         \u001b[0mposix\u001b[0m\u001b[0;34m.\u001b[0m\u001b[0m_fcopyfile\u001b[0m\u001b[0;34m(\u001b[0m\u001b[0minfd\u001b[0m\u001b[0;34m,\u001b[0m \u001b[0moutfd\u001b[0m\u001b[0;34m,\u001b[0m \u001b[0mflags\u001b[0m\u001b[0;34m)\u001b[0m\u001b[0;34m\u001b[0m\u001b[0;34m\u001b[0m\u001b[0m\n\u001b[0m\u001b[1;32m    106\u001b[0m     \u001b[0;32mexcept\u001b[0m \u001b[0mOSError\u001b[0m \u001b[0;32mas\u001b[0m \u001b[0merr\u001b[0m\u001b[0;34m:\u001b[0m\u001b[0;34m\u001b[0m\u001b[0;34m\u001b[0m\u001b[0m\n\u001b[1;32m    107\u001b[0m         \u001b[0merr\u001b[0m\u001b[0;34m.\u001b[0m\u001b[0mfilename\u001b[0m \u001b[0;34m=\u001b[0m \u001b[0mfsrc\u001b[0m\u001b[0;34m.\u001b[0m\u001b[0mname\u001b[0m\u001b[0;34m\u001b[0m\u001b[0;34m\u001b[0m\u001b[0m\n",
      "\u001b[0;31mKeyboardInterrupt\u001b[0m: "
     ]
    }
   ],
   "source": [
    "directory = os.getcwd()\n",
    "for root,dirs,files in os.walk(directory):\n",
    "    files = [f for f in files if not f[0] == '.']\n",
    "    dirs[:] = [d for d in dirs if not d[0] == '.']\n",
    "    os.makedirs('./text', exist_ok=True)\n",
    "    for file in files:\n",
    "        if file.endswith(\".txt\"):\n",
    "            shutil.copy(file, './text', follow_symlinks=True)\n",
    "            path = directory + '/' + file"
   ]
  },
  {
   "cell_type": "code",
   "execution_count": null,
   "id": "239f8211",
   "metadata": {},
   "outputs": [],
   "source": [
    "def create_rna_methylation_sheet(methylation_sheet, gene_data, directory, is_save=True):\n",
    "    gene_id = get_all_gene_id()\n",
    "    df = pd.DataFrame(columns=gene_id)\n",
    "    gene_id = np.intersect1d(gene_data.index.unique().values, gene_id)\n",
    "    gene_data = gene_data.loc[gene_id]\n",
    "    for root,dirs,files in os.walk(directory):\n",
    "        files = [f for f in files if not f[0] == '.']\n",
    "        dirs[:] = [d for d in dirs if not d[0] == '.']\n",
    "        for file in files:\n",
    "            #print(file)\n",
    "            if file.endswith(\".txt\"):\n",
    "                path = directory + '/' + file\n",
    "                meth_data = pd.read_csv(path, sep=\"\\t\", header=None)\n",
    "                tmp = meth_data[0].apply(lambda x: x[:2])\n",
    "                cg_pairs_index = tmp[tmp == 'cg'].index\n",
    "                meth_data = meth_data.loc[cg_pairs_index]\n",
    "                location = meth_data[0].apply(lambda x: int(x[2:]))\n",
    "                meth_data.set_index(0, inplace=True)\n",
    "                map_path = './methylation/methylationFiles/temp/' + file[:-4] + '_rna_methylation_map.csv'\n",
    "                os.makedirs('./methylation/methylationFiles/temp/', exist_ok=True)  \n",
    "                if os.path.exists(map_path):\n",
    "                    rna_methylation_map = pd.read_csv(map_path, index_col=0)\n",
    "                    func = lambda x: x[1: -1].replace('\\n', '').replace('... ', '').replace(\"'\", '').split(' ') if x != '['']' else []\n",
    "                    for id in gene_id:\n",
    "                        rna_methylation_map.loc[id, '0'] = func(rna_methylation_map.loc[id, '0'])\n",
    "                else:\n",
    "                    rna_methylation_map = pd.DataFrame(index=gene_id, columns=['Indicator'])\n",
    "                    print('Generating the RNA-Methylation Map...')\n",
    "                    for id in tqdm.tqdm(gene_id):\n",
    "                        is_methylated = location.apply(lambda x: np.any(gene_data.loc[id, 'Intervals'].contains(x))).values\n",
    "                        rna_methylation_map.loc[id, 'Indicator'] = meth_data[is_methylated].index.values\n",
    "                    rna_methylation_map.to_csv(map_path)\n",
    "                    \n",
    "                for index, row in tqdm.tqdm(methylation_sheet.iterrows()):\n",
    "                    #file = './methylation/methylationFiles/files/' + row['File Name']\n",
    "                    print(file)\n",
    "                    meth_data = downloadMathylData('./methylation/methylationFiles/files/' + file)\n",
    "                    #meth_data = pd.read_table('./methylation/methylationFiles/files/' + row['File Name'], header=None)\n",
    "                    meth_data = pd.DataFrame(meth_data)\n",
    "                    #meth_data.set_index(0, inplace=True)\n",
    "                    #meth_data.fillna(value=0, inplace=True)\n",
    "                    if len(meth_data) != 485577:\n",
    "                        continue\n",
    "                    func = lambda x: np.mean(meth_data.loc[rna_methylation_map.loc[x, '0']].values)\n",
    "                    df.loc[row['Case ID'], gene_id] = np.vectorize(func)(gene_id)\n",
    "                df.fillna(value=0, inplace=True)\n",
    "                print(\"done tmp\")\n",
    "                \n",
    "                if is_save:\n",
    "                    df.to_csv('./methylation/methylationFiles/outfile.csv')\n",
    "        return df\n",
    "                "
   ]
  }
 ],
 "metadata": {
  "kernelspec": {
   "display_name": "Python 3",
   "language": "python",
   "name": "python3"
  },
  "language_info": {
   "codemirror_mode": {
    "name": "ipython",
    "version": 3
   },
   "file_extension": ".py",
   "mimetype": "text/x-python",
   "name": "python",
   "nbconvert_exporter": "python",
   "pygments_lexer": "ipython3",
   "version": "3.9.5"
  }
 },
 "nbformat": 4,
 "nbformat_minor": 5
}
