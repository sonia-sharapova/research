{
 "cells": [
  {
   "cell_type": "code",
   "execution_count": 210,
   "id": "e5140c04",
   "metadata": {},
   "outputs": [],
   "source": [
    "integer = 150\n",
    "newInt = []\n",
    "length = 0\n",
    "\n",
    "#Q1\n",
    "def reverseInt(integer):\n",
    "    newInt = \"\"\n",
    "    \n",
    "    for x in range(len(str(integer))):\n",
    "        num = integer%10\n",
    "        newInt = newInt + str(num)\n",
    "        integer = integer//10\n",
    "        \n",
    "    return int(newInt)\n",
    "    \n",
    "\n",
    "#Q2\n",
    "#def armstrong(integer):\n",
    "    \n",
    "        \n",
    "#Q3\n",
    "def checkPrime(number):\n",
    "    for x in range(2,10):\n",
    "        if number//x == 0:\n",
    "            prime = false\n",
    "        \n",
    "\n",
    "    \n",
    "#Q4 \n",
    "def iterFib():\n",
    "    last = 1\n",
    "    secLast = 0\n",
    "    num = 1\n",
    "    for x in range(20):\n",
    "        print(num)\n",
    "        num = last + secLast\n",
    "        secLast = last\n",
    "        last = num\n",
    "\n",
    "\n",
    "#Q5\n",
    "def fib(num):\n",
    "    if num == 0:\n",
    "        return 0\n",
    "    elif num == 1:\n",
    "        return 1\n",
    "    else:\n",
    "        return fibonacci(num-1)+fibonacci(num-2)\n",
    "    \n",
    "def recFib():\n",
    "    last = 1\n",
    "    secLast = 0\n",
    "    num = 1\n",
    "    for i in range(0,20):\n",
    "        print(fibonacci(i))\n",
    "    return 1\n",
    "\n",
    "\n",
    " \n",
    "#Q6\n",
    "\n",
    "\n",
    "#Q7\n",
    "\n",
    "\n",
    "#Q8\n",
    "\n",
    "\n",
    "#Q9\n",
    "\n",
    "\n",
    "#Q10\n",
    "\n",
    "\n",
    "#Q11\n",
    "\n",
    "\n",
    "#Q12\n",
    "\n",
    "\n",
    "#Q13\n",
    "\n",
    "\n",
    "#Q14\n",
    "\n",
    "\n",
    "#Q15\n",
    "\n",
    "        \n",
    "######String######\n",
    "\n",
    "#Q1\n",
    "def remChar(string, char):\n",
    "    newString = \"\"\n",
    "    for x in range(len(string)):\n",
    "        if (string[x].lower() != char.lower()):\n",
    "            newString = newString + (string[x])\n",
    "    return(newString)\n",
    "        \n",
    "\n",
    "#Q2\n",
    "def charOcc(string, char):\n",
    "    count = 0\n",
    "    for x in range(len(string)):\n",
    "        if (string[x].lower() == char.lower()):\n",
    "            count = count + 1\n",
    "    return count\n",
    "\n",
    "#Q3\n",
    "'''\n",
    "def anagrams(string1, string2):\n",
    "    for x in range(len(string1)):\n",
    "        for y in range(len(string2)):\n",
    "            if string2[y] == string1(x)\n",
    "'''\n",
    "    \n",
    "#Q4\n",
    "def palindrome(string):\n",
    "    backwards = \"\"\n",
    "    i = 1\n",
    "    for x in range(len(string)):\n",
    "        backwards = backwards + string[len(string) - i]\n",
    "        i = i + 1\n",
    "    if backwards == string:\n",
    "        return(1)\n",
    "    else:\n",
    "        return(0)\n",
    "    \n",
    "\n",
    "######Arrays######\n",
    "        \n",
    "#Q2\n",
    "def findDups(array):\n",
    "    dups = []\n",
    "    temp = []\n",
    "    for x in array:\n",
    "        if x in temp:\n",
    "            if x not in dups:\n",
    "                dups.append(x)\n",
    "        else:\n",
    "            temp.append(x)\n",
    "    return dups\n",
    "        \n",
    "        \n",
    "        \n",
    "#Q4\n",
    "def arraySizeComp(array1, array2):\n",
    "    len1 = len(array1)\n",
    "    len2 = len(array2)\n",
    "    if len1 == len2:\n",
    "        return 1\n",
    "    else:\n",
    "        return 0\n",
    "\n",
    "#Q5\n",
    "def lowHigh(array):\n",
    "    lowest = array[0]\n",
    "    highest = array[0]\n",
    "    for x in array:\n",
    "        if x < lowest:\n",
    "            lowest = x\n",
    "        elif x > highest:\n",
    "            highest = x\n",
    "    return lowest, highest\n",
    "        \n",
    "#Q6\n",
    "def secHigh(array):\n",
    "    highest=0\n",
    "    secHigh=0\n",
    "    for x in array:\n",
    "        if x > highest:\n",
    "            secHigh = highest\n",
    "            highest = x\n",
    "        elif x > secHigh:\n",
    "            secHigh = x\n",
    "    return secHigh\n",
    "        \n",
    "#Q7\n",
    "def topNums2(array):\n",
    "    topNum1 = 0\n",
    "    topNum2 = 0\n",
    "    for x in array:\n",
    "        if x > topNum1:\n",
    "            topNum2 = topNum1\n",
    "            topNum1 = x\n",
    "        elif x > topNum2:\n",
    "            topNum2 = topNum1\n",
    "    return topNum1, topNum2\n",
    "\n",
    "#Q8\n",
    "def remDup(array):\n",
    "    noDups = []\n",
    "    for x in array:\n",
    "        if x not in noDups:\n",
    "            noDups.append(x)\n",
    "    return noDups\n",
    "    \n",
    "    \n",
    "    "
   ]
  },
  {
   "cell_type": "code",
   "execution_count": 201,
   "id": "95e639a8",
   "metadata": {},
   "outputs": [
    {
     "data": {
      "text/plain": [
       "[4, 2, 10]"
      ]
     },
     "execution_count": 201,
     "metadata": {},
     "output_type": "execute_result"
    }
   ],
   "source": [
    "topNums2([1, 2, 300, 430, 10, 19, 2, 50, 31, 3, 70, 800, 70])\n",
    "remDup([1, 1, 4, 7, 2, 1, 59, 3])\n",
    "secHigh([1, 2, 8, 224, 3, 140, 4, 79, 1, 300, 140])\n",
    "lowHigh([8, 224, 3, 140, 4, 2, 79, 1, 300, 140])\n",
    "arraySizeComp([1,2, 6, 8],[8, 3, 1, 2])\n",
    "findDups([1, 2, 4, 4, 5, 7, 10, 2, 10, 2, 6])"
   ]
  },
  {
   "cell_type": "code",
   "execution_count": 202,
   "id": "9e6f3191",
   "metadata": {},
   "outputs": [
    {
     "data": {
      "text/plain": [
       "1"
      ]
     },
     "execution_count": 202,
     "metadata": {},
     "output_type": "execute_result"
    }
   ],
   "source": [
    "remChar('Hello', 'L')\n",
    "charOcc('Hello', 'L')\n",
    "palindrome('hellolleh')\n"
   ]
  },
  {
   "cell_type": "code",
   "execution_count": 203,
   "id": "9514eeb2",
   "metadata": {},
   "outputs": [
    {
     "data": {
      "text/plain": [
       "29197"
      ]
     },
     "execution_count": 203,
     "metadata": {},
     "output_type": "execute_result"
    }
   ],
   "source": [
    "reverseInt(79192)"
   ]
  },
  {
   "cell_type": "code",
   "execution_count": 212,
   "id": "76b14621",
   "metadata": {},
   "outputs": [
    {
     "name": "stdout",
     "output_type": "stream",
     "text": [
      "0\n",
      "1\n",
      "1\n",
      "2\n",
      "3\n",
      "5\n",
      "8\n",
      "13\n",
      "21\n",
      "34\n",
      "55\n",
      "89\n",
      "144\n",
      "233\n",
      "377\n",
      "610\n",
      "987\n",
      "1597\n",
      "2584\n",
      "4181\n"
     ]
    },
    {
     "data": {
      "text/plain": [
       "1"
      ]
     },
     "execution_count": 212,
     "metadata": {},
     "output_type": "execute_result"
    }
   ],
   "source": [
    "recFib()"
   ]
  },
  {
   "cell_type": "code",
   "execution_count": null,
   "id": "3c266ba0",
   "metadata": {},
   "outputs": [],
   "source": []
  }
 ],
 "metadata": {
  "kernelspec": {
   "display_name": "Python 3",
   "language": "python",
   "name": "python3"
  },
  "language_info": {
   "codemirror_mode": {
    "name": "ipython",
    "version": 3
   },
   "file_extension": ".py",
   "mimetype": "text/x-python",
   "name": "python",
   "nbconvert_exporter": "python",
   "pygments_lexer": "ipython3",
   "version": "3.9.5"
  }
 },
 "nbformat": 4,
 "nbformat_minor": 5
}
