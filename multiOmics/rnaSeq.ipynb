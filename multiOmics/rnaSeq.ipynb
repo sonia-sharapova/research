{
 "cells": [
  {
   "cell_type": "code",
   "execution_count": 1,
   "id": "26ef84b2",
   "metadata": {},
   "outputs": [
    {
     "name": "stdout",
     "output_type": "stream",
     "text": [
      "/Users/soniasharapova/miniconda3/lib/python3.9/csv.py\n"
     ]
    }
   ],
   "source": [
    "import csv\n",
    "print(csv.__file__)\n",
    "\n",
    "import os\n",
    "import shutil\n",
    "import pandas as pd\n",
    "import numpy as np\n",
    "from pandas import read_csv\n",
    "from numpy import genfromtxt\n",
    "from io import StringIO\n"
   ]
  },
  {
   "cell_type": "code",
   "execution_count": null,
   "id": "16c60ca1",
   "metadata": {},
   "outputs": [],
   "source": []
  },
  {
   "cell_type": "markdown",
   "id": "de2e644d",
   "metadata": {},
   "source": [
    "# RNA"
   ]
  },
  {
   "cell_type": "code",
   "execution_count": 2,
   "id": "06b5d322",
   "metadata": {},
   "outputs": [],
   "source": [
    "def getPatientVector(directory, csv):\n",
    "    data=downloadRnaData(csv)\n",
    "    patientArray=[]\n",
    "    patientArray.append('file_name')\n",
    "    \n",
    "    for root,dirs,files in os.walk(directory):\n",
    "        for file in files:\n",
    "            if file.endswith(\".tsv\"):\n",
    "                path = directory + '/' + file\n",
    "                #patient = file[0:file.find('.')]\n",
    "                #patientArray.append(patient)\n",
    "                patientArray.append(file)\n",
    "    \n",
    "    patients = pd.DataFrame(data=patientArray)    \n",
    "    gene_column = data.iloc[:, 1]\n",
    "    genes = patients.iloc[0].append(gene_column)\n",
    "    df = pd.DataFrame(columns=genes)\n",
    "    #df[df.columns[0]] = patients[1:]\n",
    "    return(df, genes)\n",
    "\n",
    "#getPatientVector() in parts\n",
    "def downloadRnaData(csv):\n",
    "    data=pd.read_csv(csv,sep='\\t', header=5)\n",
    "    return data\n",
    "\n",
    "def downloadClinicalData(csv):\n",
    "    data=pd.read_csv(csv,sep='\\t')\n",
    "    return data\n",
    "\n",
    "\n",
    "\n",
    "#fill empty dataframe:\n",
    "\n",
    "#for every patient, fill directory with column 7\n",
    "def testOpenFiles(directory):\n",
    "    for root,dirs,files in os.walk(directory):\n",
    "        files = [f for f in files if not f[0] == '.']\n",
    "        dirs[:] = [d for d in dirs if not d[0] == '.']\n",
    "        for file in files:\n",
    "            path = directory + '/' + file\n",
    "            print(path)\n",
    "            #patient.append(file[0:file.find('.')])\n",
    "            \n",
    "            openFile = pd.read_csv(path,sep='\\t', header=5)\n",
    "\n",
    "def fillMatrix(directory, csv, samplesheet):\n",
    "    df, genes = getPatientVector(directory, csv) \n",
    "    matrix = pd.DataFrame(columns=genes)\n",
    "    samplesheet = downloadClinicalData(samplesheet)\n",
    "    for root,dirs,files in os.walk(directory):\n",
    "        files = [f for f in files if not f[0] == '.']\n",
    "        dirs[:] = [d for d in dirs if not d[0] == '.']\n",
    "        for file in files:\n",
    "            if file.endswith(\".tsv\"):\n",
    "                path = directory + '/' + file\n",
    "                patientID = getCaseID(samplesheet, file)\n",
    "                #patient = file[0:file.find('.')]\n",
    "                print(path)\n",
    "                openFile = pd.read_csv(path,sep='\\t', header=5)\n",
    "                featList = openFile.iloc[:,7].tolist()\n",
    "                featList.insert(0,patientID)\n",
    "\n",
    "\n",
    "            #append 7th element to dataframe\n",
    "                matrix.loc[len(matrix)] = featList\n",
    "            #matrix = matrix.append(featList, ignore_index=True)\n",
    "            \n",
    "        return(matrix)\n",
    "        \n",
    "        \n",
    "def getCaseID(samplesheet, filename):\n",
    "    caseID = 0\n",
    "    for index, row in samplesheet.iterrows():\n",
    "        #print(row.iloc[1])\n",
    "        if (row.iloc[1] == filename):\n",
    "            caseID = row.iloc[5]\n",
    "    return caseID\n",
    "            \n",
    "\n",
    "def findPatient(clinicalFile, patient):\n",
    "    df = downloadClinicalData(clinicalFile)\n",
    "    \n",
    "    x = df[df['case_submitter_id']==patient].index.values\n",
    "    if x != []:\n",
    "        return df.iloc[x[0],27]\n",
    "    else:\n",
    "        return None\n",
    "\n",
    "\n",
    "\n",
    "def addYforPatient(genePatientMatrix, clinicalFile):\n",
    "    patientY = []\n",
    "    for index, row in genePatientMatrix.iterrows():\n",
    "        patientID = row['file_name']\n",
    "        \n",
    "        findPat = findPatient(clinicalFile, patientID)\n",
    "        patientY.append(findPat)\n",
    "    \n",
    "    genePatientMatrix['Y'] = patientY\n",
    "    \n",
    "    os.makedirs('/Users/soniasharapova/Documents/JunDingResearch/MultiOmics/rnaSeq', exist_ok=True)  \n",
    "    genePatientMatrix.to_csv('/Users/soniasharapova/Documents/JunDingResearch/MultiOmics/rnaSeq/out.csv')  \n",
    "    \n",
    "    return genePatientMatrix\n",
    "    \n",
    "    \n",
    "    "
   ]
  },
  {
   "cell_type": "code",
   "execution_count": 3,
   "id": "30485add",
   "metadata": {},
   "outputs": [
    {
     "name": "stdout",
     "output_type": "stream",
     "text": [
      "/Users/soniasharapova/Documents/JunDingResearch/MultiOmics/rnaSeq/testSet/newTest/6f72a3df-b4db-4f04-aa1f-644dca35d3ab.rna_seq.augmented_star_gene_counts.tsv\n",
      "/Users/soniasharapova/Documents/JunDingResearch/MultiOmics/rnaSeq/testSet/newTest/1a3dcc95-64bf-4886-9807-9511b24f30af.rna_seq.augmented_star_gene_counts.tsv\n",
      "/Users/soniasharapova/Documents/JunDingResearch/MultiOmics/rnaSeq/testSet/newTest/3a814d3d-749f-4066-b33b-3faf503d84bb.rna_seq.augmented_star_gene_counts.tsv\n"
     ]
    },
    {
     "ename": "KeyboardInterrupt",
     "evalue": "",
     "output_type": "error",
     "traceback": [
      "\u001b[0;31m---------------------------------------------------------------------------\u001b[0m",
      "\u001b[0;31mKeyboardInterrupt\u001b[0m                         Traceback (most recent call last)",
      "\u001b[0;32m<ipython-input-3-67b01b03f37b>\u001b[0m in \u001b[0;36m<module>\u001b[0;34m\u001b[0m\n\u001b[1;32m     14\u001b[0m \u001b[0;31m#downloadData(testrnaFolder)\u001b[0m\u001b[0;34m\u001b[0m\u001b[0;34m\u001b[0m\u001b[0;34m\u001b[0m\u001b[0m\n\u001b[1;32m     15\u001b[0m \u001b[0;31m#getPatientVector(directoryRna, testrnaFolder)\u001b[0m\u001b[0;34m\u001b[0m\u001b[0;34m\u001b[0m\u001b[0;34m\u001b[0m\u001b[0m\n\u001b[0;32m---> 16\u001b[0;31m \u001b[0mmatrix\u001b[0m \u001b[0;34m=\u001b[0m \u001b[0mfillMatrix\u001b[0m\u001b[0;34m(\u001b[0m\u001b[0mdirectoryRna\u001b[0m\u001b[0;34m,\u001b[0m \u001b[0mtestrnaFolder\u001b[0m\u001b[0;34m,\u001b[0m \u001b[0msample_sheet\u001b[0m\u001b[0;34m)\u001b[0m\u001b[0;34m\u001b[0m\u001b[0;34m\u001b[0m\u001b[0m\n\u001b[0m\u001b[1;32m     17\u001b[0m \u001b[0mprint\u001b[0m\u001b[0;34m(\u001b[0m\u001b[0mmatrix\u001b[0m\u001b[0;34m)\u001b[0m\u001b[0;34m\u001b[0m\u001b[0;34m\u001b[0m\u001b[0m\n\u001b[1;32m     18\u001b[0m \u001b[0;31m#findPatient(clinical, \"1502c7d7-1535-4e56-9f34-30623acd50d5\")\u001b[0m\u001b[0;34m\u001b[0m\u001b[0;34m\u001b[0m\u001b[0;34m\u001b[0m\u001b[0m\n",
      "\u001b[0;32m<ipython-input-2-ac2b003b365b>\u001b[0m in \u001b[0;36mfillMatrix\u001b[0;34m(directory, csv, samplesheet)\u001b[0m\n\u001b[1;32m     63\u001b[0m \u001b[0;34m\u001b[0m\u001b[0m\n\u001b[1;32m     64\u001b[0m             \u001b[0;31m#append 7th element to dataframe\u001b[0m\u001b[0;34m\u001b[0m\u001b[0;34m\u001b[0m\u001b[0;34m\u001b[0m\u001b[0m\n\u001b[0;32m---> 65\u001b[0;31m                 \u001b[0mmatrix\u001b[0m\u001b[0;34m.\u001b[0m\u001b[0mloc\u001b[0m\u001b[0;34m[\u001b[0m\u001b[0mlen\u001b[0m\u001b[0;34m(\u001b[0m\u001b[0mmatrix\u001b[0m\u001b[0;34m)\u001b[0m\u001b[0;34m]\u001b[0m \u001b[0;34m=\u001b[0m \u001b[0mfeatList\u001b[0m\u001b[0;34m\u001b[0m\u001b[0;34m\u001b[0m\u001b[0m\n\u001b[0m\u001b[1;32m     66\u001b[0m             \u001b[0;31m#matrix = matrix.append(featList, ignore_index=True)\u001b[0m\u001b[0;34m\u001b[0m\u001b[0;34m\u001b[0m\u001b[0;34m\u001b[0m\u001b[0m\n\u001b[1;32m     67\u001b[0m \u001b[0;34m\u001b[0m\u001b[0m\n",
      "\u001b[0;32m~/miniconda3/lib/python3.9/site-packages/pandas/core/indexing.py\u001b[0m in \u001b[0;36m__setitem__\u001b[0;34m(self, key, value)\u001b[0m\n\u001b[1;32m    721\u001b[0m \u001b[0;34m\u001b[0m\u001b[0m\n\u001b[1;32m    722\u001b[0m         \u001b[0miloc\u001b[0m \u001b[0;34m=\u001b[0m \u001b[0mself\u001b[0m \u001b[0;32mif\u001b[0m \u001b[0mself\u001b[0m\u001b[0;34m.\u001b[0m\u001b[0mname\u001b[0m \u001b[0;34m==\u001b[0m \u001b[0;34m\"iloc\"\u001b[0m \u001b[0;32melse\u001b[0m \u001b[0mself\u001b[0m\u001b[0;34m.\u001b[0m\u001b[0mobj\u001b[0m\u001b[0;34m.\u001b[0m\u001b[0miloc\u001b[0m\u001b[0;34m\u001b[0m\u001b[0;34m\u001b[0m\u001b[0m\n\u001b[0;32m--> 723\u001b[0;31m         \u001b[0miloc\u001b[0m\u001b[0;34m.\u001b[0m\u001b[0m_setitem_with_indexer\u001b[0m\u001b[0;34m(\u001b[0m\u001b[0mindexer\u001b[0m\u001b[0;34m,\u001b[0m \u001b[0mvalue\u001b[0m\u001b[0;34m,\u001b[0m \u001b[0mself\u001b[0m\u001b[0;34m.\u001b[0m\u001b[0mname\u001b[0m\u001b[0;34m)\u001b[0m\u001b[0;34m\u001b[0m\u001b[0;34m\u001b[0m\u001b[0m\n\u001b[0m\u001b[1;32m    724\u001b[0m \u001b[0;34m\u001b[0m\u001b[0m\n\u001b[1;32m    725\u001b[0m     \u001b[0;32mdef\u001b[0m \u001b[0m_validate_key\u001b[0m\u001b[0;34m(\u001b[0m\u001b[0mself\u001b[0m\u001b[0;34m,\u001b[0m \u001b[0mkey\u001b[0m\u001b[0;34m,\u001b[0m \u001b[0maxis\u001b[0m\u001b[0;34m:\u001b[0m \u001b[0mint\u001b[0m\u001b[0;34m)\u001b[0m\u001b[0;34m:\u001b[0m\u001b[0;34m\u001b[0m\u001b[0;34m\u001b[0m\u001b[0m\n",
      "\u001b[0;32m~/miniconda3/lib/python3.9/site-packages/pandas/core/indexing.py\u001b[0m in \u001b[0;36m_setitem_with_indexer\u001b[0;34m(self, indexer, value, name)\u001b[0m\n\u001b[1;32m   1722\u001b[0m \u001b[0;34m\u001b[0m\u001b[0m\n\u001b[1;32m   1723\u001b[0m             \u001b[0;32mif\u001b[0m \u001b[0mmissing\u001b[0m\u001b[0;34m:\u001b[0m\u001b[0;34m\u001b[0m\u001b[0;34m\u001b[0m\u001b[0m\n\u001b[0;32m-> 1724\u001b[0;31m                 \u001b[0mself\u001b[0m\u001b[0;34m.\u001b[0m\u001b[0m_setitem_with_indexer_missing\u001b[0m\u001b[0;34m(\u001b[0m\u001b[0mindexer\u001b[0m\u001b[0;34m,\u001b[0m \u001b[0mvalue\u001b[0m\u001b[0;34m)\u001b[0m\u001b[0;34m\u001b[0m\u001b[0;34m\u001b[0m\u001b[0m\n\u001b[0m\u001b[1;32m   1725\u001b[0m                 \u001b[0;32mreturn\u001b[0m\u001b[0;34m\u001b[0m\u001b[0;34m\u001b[0m\u001b[0m\n\u001b[1;32m   1726\u001b[0m \u001b[0;34m\u001b[0m\u001b[0m\n",
      "\u001b[0;32m~/miniconda3/lib/python3.9/site-packages/pandas/core/indexing.py\u001b[0m in \u001b[0;36m_setitem_with_indexer_missing\u001b[0;34m(self, indexer, value)\u001b[0m\n\u001b[1;32m   2029\u001b[0m                 \u001b[0mvalue\u001b[0m \u001b[0;34m=\u001b[0m \u001b[0mSeries\u001b[0m\u001b[0;34m(\u001b[0m\u001b[0mvalue\u001b[0m\u001b[0;34m,\u001b[0m \u001b[0mindex\u001b[0m\u001b[0;34m=\u001b[0m\u001b[0mself\u001b[0m\u001b[0;34m.\u001b[0m\u001b[0mobj\u001b[0m\u001b[0;34m.\u001b[0m\u001b[0mcolumns\u001b[0m\u001b[0;34m,\u001b[0m \u001b[0mname\u001b[0m\u001b[0;34m=\u001b[0m\u001b[0mindexer\u001b[0m\u001b[0;34m)\u001b[0m\u001b[0;34m\u001b[0m\u001b[0;34m\u001b[0m\u001b[0m\n\u001b[1;32m   2030\u001b[0m \u001b[0;34m\u001b[0m\u001b[0m\n\u001b[0;32m-> 2031\u001b[0;31m             \u001b[0mself\u001b[0m\u001b[0;34m.\u001b[0m\u001b[0mobj\u001b[0m\u001b[0;34m.\u001b[0m\u001b[0m_mgr\u001b[0m \u001b[0;34m=\u001b[0m \u001b[0mself\u001b[0m\u001b[0;34m.\u001b[0m\u001b[0mobj\u001b[0m\u001b[0;34m.\u001b[0m\u001b[0mappend\u001b[0m\u001b[0;34m(\u001b[0m\u001b[0mvalue\u001b[0m\u001b[0;34m)\u001b[0m\u001b[0;34m.\u001b[0m\u001b[0m_mgr\u001b[0m\u001b[0;34m\u001b[0m\u001b[0;34m\u001b[0m\u001b[0m\n\u001b[0m\u001b[1;32m   2032\u001b[0m             \u001b[0mself\u001b[0m\u001b[0;34m.\u001b[0m\u001b[0mobj\u001b[0m\u001b[0;34m.\u001b[0m\u001b[0m_maybe_update_cacher\u001b[0m\u001b[0;34m(\u001b[0m\u001b[0mclear\u001b[0m\u001b[0;34m=\u001b[0m\u001b[0;32mTrue\u001b[0m\u001b[0;34m)\u001b[0m\u001b[0;34m\u001b[0m\u001b[0;34m\u001b[0m\u001b[0m\n\u001b[1;32m   2033\u001b[0m \u001b[0;34m\u001b[0m\u001b[0m\n",
      "\u001b[0;32m~/miniconda3/lib/python3.9/site-packages/pandas/core/frame.py\u001b[0m in \u001b[0;36mappend\u001b[0;34m(self, other, ignore_index, verify_integrity, sort)\u001b[0m\n\u001b[1;32m   8942\u001b[0m             \u001b[0mcombined_columns\u001b[0m \u001b[0;34m=\u001b[0m \u001b[0mself\u001b[0m\u001b[0;34m.\u001b[0m\u001b[0mcolumns\u001b[0m\u001b[0;34m.\u001b[0m\u001b[0mappend\u001b[0m\u001b[0;34m(\u001b[0m\u001b[0midx_diff\u001b[0m\u001b[0;34m)\u001b[0m\u001b[0;34m\u001b[0m\u001b[0;34m\u001b[0m\u001b[0m\n\u001b[1;32m   8943\u001b[0m             other = (\n\u001b[0;32m-> 8944\u001b[0;31m                 \u001b[0mother\u001b[0m\u001b[0;34m.\u001b[0m\u001b[0mreindex\u001b[0m\u001b[0;34m(\u001b[0m\u001b[0mcombined_columns\u001b[0m\u001b[0;34m,\u001b[0m \u001b[0mcopy\u001b[0m\u001b[0;34m=\u001b[0m\u001b[0;32mFalse\u001b[0m\u001b[0;34m)\u001b[0m\u001b[0;34m\u001b[0m\u001b[0;34m\u001b[0m\u001b[0m\n\u001b[0m\u001b[1;32m   8945\u001b[0m                 \u001b[0;34m.\u001b[0m\u001b[0mto_frame\u001b[0m\u001b[0;34m(\u001b[0m\u001b[0;34m)\u001b[0m\u001b[0;34m\u001b[0m\u001b[0;34m\u001b[0m\u001b[0m\n\u001b[1;32m   8946\u001b[0m                 \u001b[0;34m.\u001b[0m\u001b[0mT\u001b[0m\u001b[0;34m.\u001b[0m\u001b[0minfer_objects\u001b[0m\u001b[0;34m(\u001b[0m\u001b[0;34m)\u001b[0m\u001b[0;34m\u001b[0m\u001b[0;34m\u001b[0m\u001b[0m\n",
      "\u001b[0;32m~/miniconda3/lib/python3.9/site-packages/pandas/core/generic.py\u001b[0m in \u001b[0;36minfer_objects\u001b[0;34m(self)\u001b[0m\n\u001b[1;32m   6028\u001b[0m         \u001b[0;31m# native numpy numeric types\u001b[0m\u001b[0;34m\u001b[0m\u001b[0;34m\u001b[0m\u001b[0;34m\u001b[0m\u001b[0m\n\u001b[1;32m   6029\u001b[0m         return self._constructor(\n\u001b[0;32m-> 6030\u001b[0;31m             \u001b[0mself\u001b[0m\u001b[0;34m.\u001b[0m\u001b[0m_mgr\u001b[0m\u001b[0;34m.\u001b[0m\u001b[0mconvert\u001b[0m\u001b[0;34m(\u001b[0m\u001b[0mdatetime\u001b[0m\u001b[0;34m=\u001b[0m\u001b[0;32mTrue\u001b[0m\u001b[0;34m,\u001b[0m \u001b[0mnumeric\u001b[0m\u001b[0;34m=\u001b[0m\u001b[0;32mFalse\u001b[0m\u001b[0;34m,\u001b[0m \u001b[0mtimedelta\u001b[0m\u001b[0;34m=\u001b[0m\u001b[0;32mTrue\u001b[0m\u001b[0;34m,\u001b[0m \u001b[0mcopy\u001b[0m\u001b[0;34m=\u001b[0m\u001b[0;32mTrue\u001b[0m\u001b[0;34m)\u001b[0m\u001b[0;34m\u001b[0m\u001b[0;34m\u001b[0m\u001b[0m\n\u001b[0m\u001b[1;32m   6031\u001b[0m         ).__finalize__(self, method=\"infer_objects\")\n\u001b[1;32m   6032\u001b[0m \u001b[0;34m\u001b[0m\u001b[0m\n",
      "\u001b[0;32m~/miniconda3/lib/python3.9/site-packages/pandas/core/internals/managers.py\u001b[0m in \u001b[0;36mconvert\u001b[0;34m(self, copy, datetime, numeric, timedelta)\u001b[0m\n\u001b[1;32m    425\u001b[0m         \u001b[0mtimedelta\u001b[0m\u001b[0;34m:\u001b[0m \u001b[0mbool\u001b[0m \u001b[0;34m=\u001b[0m \u001b[0;32mTrue\u001b[0m\u001b[0;34m,\u001b[0m\u001b[0;34m\u001b[0m\u001b[0;34m\u001b[0m\u001b[0m\n\u001b[1;32m    426\u001b[0m     ) -> T:\n\u001b[0;32m--> 427\u001b[0;31m         return self.apply(\n\u001b[0m\u001b[1;32m    428\u001b[0m             \u001b[0;34m\"convert\"\u001b[0m\u001b[0;34m,\u001b[0m\u001b[0;34m\u001b[0m\u001b[0;34m\u001b[0m\u001b[0m\n\u001b[1;32m    429\u001b[0m             \u001b[0mcopy\u001b[0m\u001b[0;34m=\u001b[0m\u001b[0mcopy\u001b[0m\u001b[0;34m,\u001b[0m\u001b[0;34m\u001b[0m\u001b[0;34m\u001b[0m\u001b[0m\n",
      "\u001b[0;32m~/miniconda3/lib/python3.9/site-packages/pandas/core/internals/managers.py\u001b[0m in \u001b[0;36mapply\u001b[0;34m(self, f, align_keys, ignore_failures, **kwargs)\u001b[0m\n\u001b[1;32m    325\u001b[0m                     \u001b[0mapplied\u001b[0m \u001b[0;34m=\u001b[0m \u001b[0mb\u001b[0m\u001b[0;34m.\u001b[0m\u001b[0mapply\u001b[0m\u001b[0;34m(\u001b[0m\u001b[0mf\u001b[0m\u001b[0;34m,\u001b[0m \u001b[0;34m**\u001b[0m\u001b[0mkwargs\u001b[0m\u001b[0;34m)\u001b[0m\u001b[0;34m\u001b[0m\u001b[0;34m\u001b[0m\u001b[0m\n\u001b[1;32m    326\u001b[0m                 \u001b[0;32melse\u001b[0m\u001b[0;34m:\u001b[0m\u001b[0;34m\u001b[0m\u001b[0;34m\u001b[0m\u001b[0m\n\u001b[0;32m--> 327\u001b[0;31m                     \u001b[0mapplied\u001b[0m \u001b[0;34m=\u001b[0m \u001b[0mgetattr\u001b[0m\u001b[0;34m(\u001b[0m\u001b[0mb\u001b[0m\u001b[0;34m,\u001b[0m \u001b[0mf\u001b[0m\u001b[0;34m)\u001b[0m\u001b[0;34m(\u001b[0m\u001b[0;34m**\u001b[0m\u001b[0mkwargs\u001b[0m\u001b[0;34m)\u001b[0m\u001b[0;34m\u001b[0m\u001b[0;34m\u001b[0m\u001b[0m\n\u001b[0m\u001b[1;32m    328\u001b[0m             \u001b[0;32mexcept\u001b[0m \u001b[0;34m(\u001b[0m\u001b[0mTypeError\u001b[0m\u001b[0;34m,\u001b[0m \u001b[0mNotImplementedError\u001b[0m\u001b[0;34m)\u001b[0m\u001b[0;34m:\u001b[0m\u001b[0;34m\u001b[0m\u001b[0;34m\u001b[0m\u001b[0m\n\u001b[1;32m    329\u001b[0m                 \u001b[0;32mif\u001b[0m \u001b[0;32mnot\u001b[0m \u001b[0mignore_failures\u001b[0m\u001b[0;34m:\u001b[0m\u001b[0;34m\u001b[0m\u001b[0;34m\u001b[0m\u001b[0m\n",
      "\u001b[0;32m~/miniconda3/lib/python3.9/site-packages/pandas/core/internals/blocks.py\u001b[0m in \u001b[0;36mnewfunc\u001b[0;34m(self, *args, **kwargs)\u001b[0m\n\u001b[1;32m    139\u001b[0m         \u001b[0;32melse\u001b[0m\u001b[0;34m:\u001b[0m\u001b[0;34m\u001b[0m\u001b[0;34m\u001b[0m\u001b[0m\n\u001b[1;32m    140\u001b[0m             \u001b[0;31m# Split and operate column-by-column\u001b[0m\u001b[0;34m\u001b[0m\u001b[0;34m\u001b[0m\u001b[0;34m\u001b[0m\u001b[0m\n\u001b[0;32m--> 141\u001b[0;31m             \u001b[0;32mreturn\u001b[0m \u001b[0mself\u001b[0m\u001b[0;34m.\u001b[0m\u001b[0msplit_and_operate\u001b[0m\u001b[0;34m(\u001b[0m\u001b[0mmeth\u001b[0m\u001b[0;34m,\u001b[0m \u001b[0;34m*\u001b[0m\u001b[0margs\u001b[0m\u001b[0;34m,\u001b[0m \u001b[0;34m**\u001b[0m\u001b[0mkwargs\u001b[0m\u001b[0;34m)\u001b[0m\u001b[0;34m\u001b[0m\u001b[0;34m\u001b[0m\u001b[0m\n\u001b[0m\u001b[1;32m    142\u001b[0m \u001b[0;34m\u001b[0m\u001b[0m\n\u001b[1;32m    143\u001b[0m     \u001b[0;32mreturn\u001b[0m \u001b[0mcast\u001b[0m\u001b[0;34m(\u001b[0m\u001b[0mF\u001b[0m\u001b[0;34m,\u001b[0m \u001b[0mnewfunc\u001b[0m\u001b[0;34m)\u001b[0m\u001b[0;34m\u001b[0m\u001b[0;34m\u001b[0m\u001b[0m\n",
      "\u001b[0;32m~/miniconda3/lib/python3.9/site-packages/pandas/core/internals/blocks.py\u001b[0m in \u001b[0;36msplit_and_operate\u001b[0;34m(self, func, *args, **kwargs)\u001b[0m\n\u001b[1;32m    504\u001b[0m         \u001b[0mres_blocks\u001b[0m \u001b[0;34m=\u001b[0m \u001b[0;34m[\u001b[0m\u001b[0;34m]\u001b[0m\u001b[0;34m\u001b[0m\u001b[0;34m\u001b[0m\u001b[0m\n\u001b[1;32m    505\u001b[0m         \u001b[0;32mfor\u001b[0m \u001b[0mnb\u001b[0m \u001b[0;32min\u001b[0m \u001b[0mself\u001b[0m\u001b[0;34m.\u001b[0m\u001b[0m_split\u001b[0m\u001b[0;34m(\u001b[0m\u001b[0;34m)\u001b[0m\u001b[0;34m:\u001b[0m\u001b[0;34m\u001b[0m\u001b[0;34m\u001b[0m\u001b[0m\n\u001b[0;32m--> 506\u001b[0;31m             \u001b[0mrbs\u001b[0m \u001b[0;34m=\u001b[0m \u001b[0mfunc\u001b[0m\u001b[0;34m(\u001b[0m\u001b[0mnb\u001b[0m\u001b[0;34m,\u001b[0m \u001b[0;34m*\u001b[0m\u001b[0margs\u001b[0m\u001b[0;34m,\u001b[0m \u001b[0;34m**\u001b[0m\u001b[0mkwargs\u001b[0m\u001b[0;34m)\u001b[0m\u001b[0;34m\u001b[0m\u001b[0;34m\u001b[0m\u001b[0m\n\u001b[0m\u001b[1;32m    507\u001b[0m             \u001b[0mres_blocks\u001b[0m\u001b[0;34m.\u001b[0m\u001b[0mextend\u001b[0m\u001b[0;34m(\u001b[0m\u001b[0mrbs\u001b[0m\u001b[0;34m)\u001b[0m\u001b[0;34m\u001b[0m\u001b[0;34m\u001b[0m\u001b[0m\n\u001b[1;32m    508\u001b[0m         \u001b[0;32mreturn\u001b[0m \u001b[0mres_blocks\u001b[0m\u001b[0;34m\u001b[0m\u001b[0;34m\u001b[0m\u001b[0m\n",
      "\u001b[0;32m~/miniconda3/lib/python3.9/site-packages/pandas/core/internals/blocks.py\u001b[0m in \u001b[0;36mconvert\u001b[0;34m(self, copy, datetime, numeric, timedelta)\u001b[0m\n\u001b[1;32m   1839\u001b[0m         )\n\u001b[1;32m   1840\u001b[0m         \u001b[0mres_values\u001b[0m \u001b[0;34m=\u001b[0m \u001b[0mensure_block_shape\u001b[0m\u001b[0;34m(\u001b[0m\u001b[0mres_values\u001b[0m\u001b[0;34m,\u001b[0m \u001b[0mself\u001b[0m\u001b[0;34m.\u001b[0m\u001b[0mndim\u001b[0m\u001b[0;34m)\u001b[0m\u001b[0;34m\u001b[0m\u001b[0;34m\u001b[0m\u001b[0m\n\u001b[0;32m-> 1841\u001b[0;31m         \u001b[0;32mreturn\u001b[0m \u001b[0;34m[\u001b[0m\u001b[0mself\u001b[0m\u001b[0;34m.\u001b[0m\u001b[0mmake_block\u001b[0m\u001b[0;34m(\u001b[0m\u001b[0mres_values\u001b[0m\u001b[0;34m)\u001b[0m\u001b[0;34m]\u001b[0m\u001b[0;34m\u001b[0m\u001b[0;34m\u001b[0m\u001b[0m\n\u001b[0m\u001b[1;32m   1842\u001b[0m \u001b[0;34m\u001b[0m\u001b[0m\n\u001b[1;32m   1843\u001b[0m \u001b[0;34m\u001b[0m\u001b[0m\n",
      "\u001b[0;32m~/miniconda3/lib/python3.9/site-packages/pandas/core/internals/blocks.py\u001b[0m in \u001b[0;36mmake_block\u001b[0;34m(self, values, placement)\u001b[0m\n\u001b[1;32m    257\u001b[0m         \u001b[0;31m# TODO: perf by not going through new_block\u001b[0m\u001b[0;34m\u001b[0m\u001b[0;34m\u001b[0m\u001b[0;34m\u001b[0m\u001b[0m\n\u001b[1;32m    258\u001b[0m         \u001b[0;31m# We assume maybe_coerce_values has already been called\u001b[0m\u001b[0;34m\u001b[0m\u001b[0;34m\u001b[0m\u001b[0;34m\u001b[0m\u001b[0m\n\u001b[0;32m--> 259\u001b[0;31m         \u001b[0;32mreturn\u001b[0m \u001b[0mnew_block\u001b[0m\u001b[0;34m(\u001b[0m\u001b[0mvalues\u001b[0m\u001b[0;34m,\u001b[0m \u001b[0mplacement\u001b[0m\u001b[0;34m=\u001b[0m\u001b[0mplacement\u001b[0m\u001b[0;34m,\u001b[0m \u001b[0mndim\u001b[0m\u001b[0;34m=\u001b[0m\u001b[0mself\u001b[0m\u001b[0;34m.\u001b[0m\u001b[0mndim\u001b[0m\u001b[0;34m)\u001b[0m\u001b[0;34m\u001b[0m\u001b[0;34m\u001b[0m\u001b[0m\n\u001b[0m\u001b[1;32m    260\u001b[0m \u001b[0;34m\u001b[0m\u001b[0m\n\u001b[1;32m    261\u001b[0m     \u001b[0;34m@\u001b[0m\u001b[0mfinal\u001b[0m\u001b[0;34m\u001b[0m\u001b[0;34m\u001b[0m\u001b[0m\n",
      "\u001b[0;32m~/miniconda3/lib/python3.9/site-packages/pandas/core/internals/blocks.py\u001b[0m in \u001b[0;36mnew_block\u001b[0;34m(values, placement, ndim, klass)\u001b[0m\n\u001b[1;32m   1930\u001b[0m \u001b[0;34m\u001b[0m\u001b[0m\n\u001b[1;32m   1931\u001b[0m     \u001b[0mvalues\u001b[0m\u001b[0;34m,\u001b[0m \u001b[0m_\u001b[0m \u001b[0;34m=\u001b[0m \u001b[0mextract_pandas_array\u001b[0m\u001b[0;34m(\u001b[0m\u001b[0mvalues\u001b[0m\u001b[0;34m,\u001b[0m \u001b[0;32mNone\u001b[0m\u001b[0;34m,\u001b[0m \u001b[0mndim\u001b[0m\u001b[0;34m)\u001b[0m\u001b[0;34m\u001b[0m\u001b[0;34m\u001b[0m\u001b[0m\n\u001b[0;32m-> 1932\u001b[0;31m     \u001b[0mcheck_ndim\u001b[0m\u001b[0;34m(\u001b[0m\u001b[0mvalues\u001b[0m\u001b[0;34m,\u001b[0m \u001b[0mplacement\u001b[0m\u001b[0;34m,\u001b[0m \u001b[0mndim\u001b[0m\u001b[0;34m)\u001b[0m\u001b[0;34m\u001b[0m\u001b[0;34m\u001b[0m\u001b[0m\n\u001b[0m\u001b[1;32m   1933\u001b[0m \u001b[0;34m\u001b[0m\u001b[0m\n\u001b[1;32m   1934\u001b[0m     \u001b[0;32mif\u001b[0m \u001b[0mklass\u001b[0m \u001b[0;32mis\u001b[0m \u001b[0;32mNone\u001b[0m\u001b[0;34m:\u001b[0m\u001b[0;34m\u001b[0m\u001b[0;34m\u001b[0m\u001b[0m\n",
      "\u001b[0;32m~/miniconda3/lib/python3.9/site-packages/pandas/core/internals/blocks.py\u001b[0m in \u001b[0;36mcheck_ndim\u001b[0;34m(values, placement, ndim)\u001b[0m\n\u001b[1;32m   1971\u001b[0m                 \u001b[0;34mf\"values.ndim != ndim [{values.ndim} != {ndim}]\"\u001b[0m\u001b[0;34m\u001b[0m\u001b[0;34m\u001b[0m\u001b[0m\n\u001b[1;32m   1972\u001b[0m             )\n\u001b[0;32m-> 1973\u001b[0;31m         \u001b[0;32mif\u001b[0m \u001b[0mlen\u001b[0m\u001b[0;34m(\u001b[0m\u001b[0mplacement\u001b[0m\u001b[0;34m)\u001b[0m \u001b[0;34m!=\u001b[0m \u001b[0mlen\u001b[0m\u001b[0;34m(\u001b[0m\u001b[0mvalues\u001b[0m\u001b[0;34m)\u001b[0m\u001b[0;34m:\u001b[0m\u001b[0;34m\u001b[0m\u001b[0;34m\u001b[0m\u001b[0m\n\u001b[0m\u001b[1;32m   1974\u001b[0m             raise ValueError(\n\u001b[1;32m   1975\u001b[0m                 \u001b[0;34mf\"Wrong number of items passed {len(values)}, \"\u001b[0m\u001b[0;34m\u001b[0m\u001b[0;34m\u001b[0m\u001b[0m\n",
      "\u001b[0;31mKeyboardInterrupt\u001b[0m: "
     ]
    }
   ],
   "source": [
    "rnaFolder = '/Users/soniasharapova/Documents/JunDingResearch/MultiOmics/rnaSeq/testSet/newTest'\n",
    "clinical = '/Users/soniasharapova/Documents/JunDingResearch/MultiOmics/clinical.project-TCGA-BRCA.2022-07-26/clinical.tsv'\n",
    "\n",
    "directoryRna = os.path.join(\"c:\\\\\",rnaFolder)\n",
    "\n",
    "testrnaFolder = \"/Users/soniasharapova/Documents/JunDingResearch/MultiOmics/rnaSeq/testSet/newTest/0f382cf1-3e52-4078-bf12-cc6ba998ed3f.rna_seq.augmented_star_gene_counts.tsv\"\n",
    "\n",
    "test =          '/Users/soniasharapova/Documents/JunDingResearch/MultiOmics/rnaSeq/testSet/newTest/1a3dcc95-64bf-4886-9807-9511b24f30af.rna_seq.augmented_star_gene_counts.tsv'\n",
    "\n",
    "#patients = getPatientID(directoryRna)\n",
    "sample_sheet = '/Users/soniasharapova/Downloads/rnaSeq_sample_sheet.tsv'\n",
    "#test = removeLines(downloadData(testrnaFolder), 6)\n",
    "#genes = genesArray(test)\n",
    "#downloadData(testrnaFolder)\n",
    "#getPatientVector(directoryRna, testrnaFolder)\n",
    "matrix = fillMatrix(directoryRna, testrnaFolder, sample_sheet)\n",
    "print(matrix)\n",
    "#findPatient(clinical, \"1502c7d7-1535-4e56-9f34-30623acd50d5\")\n",
    "#addGeneNames(patients, genes)\n",
    "\n",
    "#addYforPatient(matrix, clinical)\n",
    "\n",
    "#testOpenFiles(directoryRna)\n",
    "#genesArray(test)"
   ]
  },
  {
   "cell_type": "code",
   "execution_count": null,
   "id": "f0cc4056",
   "metadata": {},
   "outputs": [],
   "source": [
    "addYforPatient(matrix, clinical)\n"
   ]
  },
  {
   "cell_type": "code",
   "execution_count": null,
   "id": "abace932",
   "metadata": {},
   "outputs": [],
   "source": [
    "#cd /Volumes/Toshiba_blue\\ 1 \n",
    "\n",
    "\n",
    "\n",
    "\n",
    "os.getcwd()\n",
    "os.chdir(\"../../..\")\n",
    "os.getcwd()\n",
    "os.listdir()\n",
    "os.chdir(\"/Volumes/Toshiba_blue\")\n",
    "os.listdir()\n",
    "os.getcwd()\n",
    "\n",
    "#os.chdir(\"/Volumes/Toshiba_blue 1\")"
   ]
  },
  {
   "cell_type": "code",
   "execution_count": null,
   "id": "ae1067ce",
   "metadata": {},
   "outputs": [],
   "source": [
    "os.getcwd()\n",
    "rnaFolder = './rnaSeq/rnaSeqFiles/files'\n",
    "clinical = './clinical.tsv'\n",
    "sample_sheet = './rnaSeq/rnaSeqSampleSheet.tsv'\n",
    "#directoryRna = os.path.join(\"c:\\\\\",rnaFolder)\n",
    "testrnaFolder = './rnaSeq/rnaSeqFiles/files/0a9e33db-2527-4cc3-8669-a7c10fed7a7f.rna_seq.augmented_star_gene_counts.tsv'\n",
    "\n",
    "#testrnaFolder = \"/Users/soniasharapova/Documents/JunDingResearch/MultiOmics/rnaSeq/testSet/newTest/0f382cf1-3e52-4078-bf12-cc6ba998ed3f.rna_seq.augmented_star_gene_counts.tsv\"\n",
    "\n",
    "#test =          '/Users/soniasharapova/Documents/JunDingResearch/MultiOmics/rnaSeq/testSet/newTest/1a3dcc95-64bf-4886-9807-9511b24f30af.rna_seq.augmented_star_gene_counts.tsv'\n",
    "\n",
    "#patients = getPatientID(directoryRna)\n",
    "#sample_sheet = '/Users/soniasharapova/Downloads/rnaSeq_sample_sheet.tsv'\n",
    "\n",
    "matrix = fillMatrix(rnaFolder, testrnaFolder, sample_sheet)\n",
    "print(matrix)\n",
    "#addYforPatient(matrix, clinical)"
   ]
  },
  {
   "cell_type": "markdown",
   "id": "853301a0",
   "metadata": {},
   "source": [
    "# miRNA"
   ]
  },
  {
   "cell_type": "code",
   "execution_count": null,
   "id": "3c93b045",
   "metadata": {},
   "outputs": [],
   "source": [
    "#read data\n",
    "\n",
    "def getUniqueID(data):\n",
    "    uniqueArray = []\n",
    "\n",
    "    for index, row in data.iterrows():\n",
    "        ident = row.iloc[0]\n",
    "        if ident not in uniqueArray:\n",
    "            uniqueArray.append(ident)\n",
    "    return uniqueArray\n",
    "\n",
    "def spaceSeparated(array):\n",
    "      \n",
    "    return ' '.join(array)\n",
    "      \n",
    "\n",
    "def readCountSum(IDlist, csvData):\n",
    "    sumArray = []\n",
    "    for ident in IDlist:\n",
    "        for \n",
    "        if csvData[0] == ident:\n",
    "            sumArray.append()\n",
    "    \n",
    "    \n",
    "    "
   ]
  },
  {
   "cell_type": "code",
   "execution_count": null,
   "id": "ff5b96a2",
   "metadata": {},
   "outputs": [],
   "source": [
    "miRnaFolder = '/Users/soniasharapova/Documents/JunDingResearch/MultiOmics/miRNASeq/testSet/42files/0bb63e02-f74a-4acc-b000-b87bd5abcd71.mirbase21.isoforms.quantification.txt'\n",
    "clinical = '/Users/soniasharapova/Documents/JunDingResearch/MultiOmics/clinical.project-TCGA-BRCA.2022-07-26/clinical.tsv'\n",
    "\n",
    "data = downloadData(miRnaFolder)\n",
    "uniqueArray = getUniqueID(data)\n",
    "print(spaceSeparated(uniqueArray))"
   ]
  },
  {
   "cell_type": "code",
   "execution_count": null,
   "id": "6e96b872",
   "metadata": {},
   "outputs": [],
   "source": [
    "\n",
    "\n",
    "directoryMiRna = os.path.join(\"c:\\\\\",miRnaFolder)\n",
    "\n"
   ]
  },
  {
   "cell_type": "markdown",
   "id": "575066fd",
   "metadata": {},
   "source": [
    "# Methylation"
   ]
  },
  {
   "cell_type": "code",
   "execution_count": null,
   "id": "46e5f489",
   "metadata": {},
   "outputs": [],
   "source": []
  },
  {
   "cell_type": "code",
   "execution_count": null,
   "id": "db79c2a4",
   "metadata": {},
   "outputs": [],
   "source": [
    "methylationFolder = '/Users/soniasharapova/Documents/JunDingResearch/MultiOmics/methylation/testSet/42files'\n",
    "clinical = '/Users/soniasharapova/Documents/JunDingResearch/MultiOmics/clinical.project-TCGA-BRCA.2022-07-26/clinical.tsv'\n",
    "\n",
    "directoryMethylation = os.path.join(\"c:\\\\\",methylationFolder)\n",
    "\n",
    "\n",
    "matrix = getPatientID(methylationFolder, 6)\n"
   ]
  },
  {
   "cell_type": "code",
   "execution_count": null,
   "id": "9d33c286",
   "metadata": {},
   "outputs": [],
   "source": []
  },
  {
   "cell_type": "code",
   "execution_count": null,
   "id": "7b3ea664",
   "metadata": {},
   "outputs": [],
   "source": []
  }
 ],
 "metadata": {
  "kernelspec": {
   "display_name": "Python 3 (ipykernel)",
   "language": "python",
   "name": "python3"
  },
  "language_info": {
   "codemirror_mode": {
    "name": "ipython",
    "version": 3
   },
   "file_extension": ".py",
   "mimetype": "text/x-python",
   "name": "python",
   "nbconvert_exporter": "python",
   "pygments_lexer": "ipython3",
   "version": "3.13.1"
  }
 },
 "nbformat": 4,
 "nbformat_minor": 5
}
