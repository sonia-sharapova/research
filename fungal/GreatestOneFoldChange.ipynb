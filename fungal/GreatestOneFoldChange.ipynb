{
 "cells": [
  {
   "cell_type": "code",
   "execution_count": 11,
   "metadata": {},
   "outputs": [],
   "source": [
    "import csv\n",
    "\n",
    "foldChange = []\n",
    "\n",
    "with open('/Users/Sonia/Work/JunDingResearch/CollectedGeneData/fcFull.csv', 'r') as fcFull:\n",
    "    foldChangeFull = csv.reader(fcFull)\n",
    "    \n",
    "    # skip header\n",
    "    next(foldChangeFull)\n",
    "    \n",
    "    with open('combinedGreatestFoldChange.csv', 'w') as outFilefc:\n",
    "    \n",
    "        write_outfile_fc = csv.writer(outFilefc)\n",
    "    \n",
    "        foldChange.append(\"Gene\")\n",
    "        foldChange.append(\"Fold Change\")\n",
    "        write_outfile_fc.writerow(foldChange)\n",
    "    \n",
    "        foldChange = []\n",
    "    \n",
    "        for line in foldChangeFull:\n",
    "            \n",
    "            if abs(float(line[1])) > abs(float(line[2])):\n",
    "                foldChange.append(line[0])\n",
    "                foldChange.append(abs(float(line[1])))\n",
    "            if abs(float(line[2])) > abs(float(line[1])):\n",
    "                foldChange.append(line[0])\n",
    "                foldChange.append(abs(float(line[2])))\n",
    "\n",
    "            write_outfile_fc.writerow(foldChange)\n",
    "            foldChange = []\n",
    "            "
   ]
  },
  {
   "cell_type": "code",
   "execution_count": null,
   "metadata": {
    "collapsed": true
   },
   "outputs": [],
   "source": []
  }
 ],
 "metadata": {
  "kernelspec": {
   "display_name": "Python 3",
   "language": "python",
   "name": "python3"
  },
  "language_info": {
   "codemirror_mode": {
    "name": "ipython",
    "version": 3
   },
   "file_extension": ".py",
   "mimetype": "text/x-python",
   "name": "python",
   "nbconvert_exporter": "python",
   "pygments_lexer": "ipython3",
   "version": "3.6.1"
  }
 },
 "nbformat": 4,
 "nbformat_minor": 2
}
