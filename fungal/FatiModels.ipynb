{
 "cells": [
  {
   "cell_type": "code",
   "execution_count": 1,
   "id": "1be4858d",
   "metadata": {},
   "outputs": [],
   "source": [
    "import numpy as np\n",
    "import copy\n",
    "import time\n",
    "import pytz\n",
    "import datetime\n",
    "import math\n",
    "import re\n",
    "import os\n",
    "import pandas as pd\n",
    "from sklearn.linear_model import LogisticRegression\n",
    "from sklearn.tree import DecisionTreeClassifier\n",
    "from sklearn.ensemble import RandomForestRegressor, GradientBoostingClassifier\n",
    "from sklearn.naive_bayes import BernoulliNB, MultinomialNB, GaussianNB\n",
    "from sklearn.neural_network import MLPClassifier\n",
    "from sklearn.preprocessing import MinMaxScaler, StandardScaler\n",
    "from sklearn.model_selection import train_test_split\n",
    "from sklearn.metrics import accuracy_score, f1_score, precision_score, recall_score, classification_report, confusion_matrix, ConfusionMatrixDisplay\n",
    "from sklearn.discriminant_analysis import LinearDiscriminantAnalysis\n",
    "from sklearn.utils import shuffle\n",
    "import matplotlib.pyplot as plt\n",
    "import seaborn as sns\n",
    "\n",
    "# whether or not to split into train and test\n",
    "split_data = True"
   ]
  },
  {
   "cell_type": "code",
   "execution_count": 2,
   "id": "e1c62b76",
   "metadata": {},
   "outputs": [],
   "source": [
    "def removeHeader(data):\n",
    "    newData = data[1:]\n",
    "    return newData\n",
    " \n",
    "import matplotlib.pyplot as plt \n",
    "import pandas as pd \n",
    "\n",
    "def getDiff(y_pred, y_test):\n",
    "\n",
    "    #print(y_pred[0] - float(y_test[0]))\n",
    "    \n",
    "    diffArray = []\n",
    "    \n",
    "    for i in range(len(y_test)):\n",
    "        diffArray.append(y_pred[i] - float(y_test[i]))\n",
    "        \n",
    "    return diffArray\n",
    "\n",
    "def plotDiff(diffArray):\n",
    "    \n",
    "    #print(features)\n",
    "    \n",
    "    labels = []\n",
    "    for x in range(len(y_pred)):\n",
    "        labels.append(x)\n",
    "        \n",
    "        \n",
    "    fig = plt.figure()\n",
    "    plt.scatter(labels, diffArray)\n",
    "    plt.show()\n",
    "    \n",
    "def removeFeat(diffArray):\n",
    "    greatest = 0\n",
    "    greatInd = 0\n",
    "    #i = 0\n",
    "    \n",
    "    for x in range(len(diffArray)):\n",
    "        if diffArray[x] > greatest:\n",
    "            greatest = diffArray[x]\n",
    "            greatInd = x\n",
    "        #i = i + 1\n",
    "    #print(diffArray[greatInd])\n",
    "    del diffArray[greatInd]\n",
    "    return(diffArray)\n",
    "        \n",
    "    "
   ]
  },
  {
   "cell_type": "code",
   "execution_count": 3,
   "id": "3b3e7281",
   "metadata": {},
   "outputs": [],
   "source": [
    "from pandas import read_csv\n",
    "from sklearn.model_selection import train_test_split\n",
    " \n",
    "# load the dataset\n",
    "def load_dataset(filename, features, disease):\n",
    "    # load the dataset as a pandas DataFrame\n",
    "    data = read_csv(filename, header=None)\n",
    "    dataset = data.values\n",
    "    \n",
    "    #print(dataset.shape)\n",
    "    #print(dataset[:,features])\n",
    "    labels = dataset[0][features]\n",
    "    \n",
    "    dataset = splitByDis(dataset, disease)\n",
    "\n",
    "    newDataset = dataset[:,features]\n",
    "    # split into input (X) and output (y) variables\n",
    "    \n",
    "    #print(newDataset)\n",
    "\n",
    "    newDataset = removeHeader(newDataset)\n",
    "    \n",
    "    #print(newDataset)\n",
    "\n",
    "    X = newDataset[:, :-1]\n",
    "    y = newDataset[:,-1]\n",
    "    \n",
    "\n",
    "    return X, y\n",
    " \n",
    "# load the dataset\n",
    "\n",
    "\n",
    "def getTrainTest(csv, features, disease):\n",
    "    X, y = load_dataset(csv, features, disease)\n",
    "    # split into train and test sets\n",
    "    X_train, X_test, y_train, y_test = train_test_split(X, y, test_size=0.33, shuffle=False)\n",
    "    features = y\n",
    "    \n",
    "    return X_train, X_test, y_train, y_test\n",
    "\n",
    "\n",
    "\n",
    "def convertLabels(csv, features):\n",
    "    data = read_csv(csv, header=None)\n",
    "    dataset = data.values\n",
    "    #print(dataset.shape)\n",
    "    #print(dataset[:,features])\n",
    "    labels = dataset[0][features]\n",
    "    \n",
    "    #newDataset = dataset[:,features]\n",
    "    \n",
    "    print(features)\n",
    "    print(labels)\n",
    "    \n",
    "    return labels\n",
    "    \n",
    "    \n"
   ]
  },
  {
   "cell_type": "code",
   "execution_count": null,
   "id": "1fc03357",
   "metadata": {},
   "outputs": [],
   "source": []
  },
  {
   "cell_type": "code",
   "execution_count": 94,
   "id": "77a31e06",
   "metadata": {},
   "outputs": [
    {
     "name": "stdout",
     "output_type": "stream",
     "text": [
      "??? [2 1 6 0 3 5 4]\n",
      "featureSubset [2 1 6 0 3 5 4]\n",
      "featsCopy [2 1 6 0 3 5 4]\n",
      "featsCopy[x] 2\n",
      "featsCopy [2 1 6 0 3 5 4]\n",
      "featsCopy[x] 1\n",
      "featsCopy [2 1 6 0 3 5 4]\n",
      "featsCopy[x] 6\n",
      "featsCopy [2 1 6 0 3 5 4]\n",
      "featsCopy[x] 0\n",
      "featsCopy [2 1 6 0 3 5 4]\n",
      "featsCopy[x] 3\n",
      "featsCopy [2 1 6 0 3 5 4]\n",
      "[2 1 6 0 3 5 4]\n",
      "0\n",
      "[97.78853535257157, 97.78853535257157, 97.78853535257157, 97.78853535257157, 97.78853535257157]\n",
      "??? [0 1 2 3 4]\n",
      "featureSubset [1 2 3 4]\n",
      "featsCopy [1 2 3 4]\n",
      "featsCopy[x] 1\n",
      "featsCopy [1 2 3 4]\n",
      "featsCopy[x] 2\n",
      "featsCopy [1 2 3 4]\n",
      "[1 2 3 4]\n",
      "1\n",
      "[96.27759686815094, 96.27759686815094]\n",
      "??? [0 1]\n",
      "featureSubset []\n",
      "featsCopy []\n",
      "[]\n",
      "2\n",
      "[]\n"
     ]
    },
    {
     "ename": "ValueError",
     "evalue": "not enough values to unpack (expected 2, got 0)",
     "output_type": "error",
     "traceback": [
      "\u001b[0;31m---------------------------------------------------------------------------\u001b[0m",
      "\u001b[0;31mValueError\u001b[0m                                Traceback (most recent call last)",
      "\u001b[0;32m<ipython-input-94-9793f6110072>\u001b[0m in \u001b[0;36m<module>\u001b[0;34m\u001b[0m\n\u001b[1;32m    134\u001b[0m \u001b[0mfeatures\u001b[0m \u001b[0;34m=\u001b[0m \u001b[0;34m[\u001b[0m\u001b[0;36m0\u001b[0m\u001b[0;34m,\u001b[0m\u001b[0;36m1\u001b[0m\u001b[0;34m,\u001b[0m\u001b[0;36m2\u001b[0m\u001b[0;34m,\u001b[0m\u001b[0;36m3\u001b[0m\u001b[0;34m,\u001b[0m\u001b[0;36m4\u001b[0m\u001b[0;34m,\u001b[0m\u001b[0;36m5\u001b[0m\u001b[0;34m,\u001b[0m\u001b[0;36m6\u001b[0m\u001b[0;34m,\u001b[0m\u001b[0;36m7\u001b[0m\u001b[0;34m]\u001b[0m\u001b[0;34m\u001b[0m\u001b[0;34m\u001b[0m\u001b[0m\n\u001b[1;32m    135\u001b[0m \u001b[0;34m\u001b[0m\u001b[0m\n\u001b[0;32m--> 136\u001b[0;31m \u001b[0mpredsDiaFCF\u001b[0m \u001b[0;34m=\u001b[0m \u001b[0mbestFeats\u001b[0m\u001b[0;34m(\u001b[0m\u001b[0;34m'/Users/soniasharapova/Documents/FatiResearch/combinedCSV/fatty/combDiaFatty.csv'\u001b[0m\u001b[0;34m,\u001b[0m \u001b[0mfeatures\u001b[0m\u001b[0;34m,\u001b[0m \u001b[0;36m1\u001b[0m\u001b[0;34m)\u001b[0m\u001b[0;34m\u001b[0m\u001b[0;34m\u001b[0m\u001b[0m\n\u001b[0m\u001b[1;32m    137\u001b[0m \u001b[0mconvertLabels\u001b[0m\u001b[0;34m(\u001b[0m\u001b[0;34m'/Users/soniasharapova/Documents/FatiResearch/combinedCSV/fatty/combDiaFatty.csv'\u001b[0m\u001b[0;34m,\u001b[0m \u001b[0mpredsDiaFCF\u001b[0m\u001b[0;34m)\u001b[0m\u001b[0;34m\u001b[0m\u001b[0;34m\u001b[0m\u001b[0m\n\u001b[1;32m    138\u001b[0m \u001b[0;34m\u001b[0m\u001b[0m\n",
      "\u001b[0;32m<ipython-input-94-9793f6110072>\u001b[0m in \u001b[0;36mbestFeats\u001b[0;34m(csv, feats, disease)\u001b[0m\n\u001b[1;32m    119\u001b[0m \u001b[0;34m\u001b[0m\u001b[0m\n\u001b[1;32m    120\u001b[0m \u001b[0;34m\u001b[0m\u001b[0m\n\u001b[0;32m--> 121\u001b[0;31m     \u001b[0mpredIters\u001b[0m \u001b[0;34m=\u001b[0m \u001b[0mpredictionsIter\u001b[0m\u001b[0;34m(\u001b[0m\u001b[0mcsv\u001b[0m\u001b[0;34m,\u001b[0m \u001b[0mfeats\u001b[0m\u001b[0;34m,\u001b[0m \u001b[0mdisease\u001b[0m\u001b[0;34m,\u001b[0m \u001b[0mpermutationNp\u001b[0m\u001b[0;34m)\u001b[0m\u001b[0;34m\u001b[0m\u001b[0;34m\u001b[0m\u001b[0m\n\u001b[0m\u001b[1;32m    122\u001b[0m \u001b[0;34m\u001b[0m\u001b[0m\n\u001b[1;32m    123\u001b[0m     \u001b[0mprint\u001b[0m\u001b[0;34m(\u001b[0m\u001b[0;34m\"!!!\"\u001b[0m\u001b[0;34m,\u001b[0m \u001b[0mpredIters\u001b[0m\u001b[0;34m)\u001b[0m\u001b[0;34m\u001b[0m\u001b[0;34m\u001b[0m\u001b[0m\n",
      "\u001b[0;32m<ipython-input-94-9793f6110072>\u001b[0m in \u001b[0;36mpredictionsIter\u001b[0;34m(csv, feats, disease, permutationNp)\u001b[0m\n\u001b[1;32m     44\u001b[0m \u001b[0;34m\u001b[0m\u001b[0m\n\u001b[1;32m     45\u001b[0m         \u001b[0mL\u001b[0m\u001b[0;34m.\u001b[0m\u001b[0msort\u001b[0m\u001b[0;34m(\u001b[0m\u001b[0;34m)\u001b[0m\u001b[0;34m\u001b[0m\u001b[0;34m\u001b[0m\u001b[0m\n\u001b[0;32m---> 46\u001b[0;31m         \u001b[0msorted_l\u001b[0m\u001b[0;34m,\u001b[0m\u001b[0mpermutation\u001b[0m \u001b[0;34m=\u001b[0m \u001b[0mzip\u001b[0m\u001b[0;34m(\u001b[0m\u001b[0;34m*\u001b[0m\u001b[0mL\u001b[0m\u001b[0;34m)\u001b[0m\u001b[0;34m\u001b[0m\u001b[0;34m\u001b[0m\u001b[0m\n\u001b[0m\u001b[1;32m     47\u001b[0m         \u001b[0mpermutationNp\u001b[0m \u001b[0;34m=\u001b[0m \u001b[0mnp\u001b[0m\u001b[0;34m.\u001b[0m\u001b[0marray\u001b[0m\u001b[0;34m(\u001b[0m\u001b[0mpermutation\u001b[0m\u001b[0;34m)\u001b[0m\u001b[0;34m\u001b[0m\u001b[0;34m\u001b[0m\u001b[0m\n\u001b[1;32m     48\u001b[0m         \u001b[0miterated\u001b[0m\u001b[0;34m.\u001b[0m\u001b[0mappend\u001b[0m\u001b[0;34m(\u001b[0m\u001b[0mpermutationNp\u001b[0m\u001b[0;34m[\u001b[0m\u001b[0;34m-\u001b[0m\u001b[0;36m1\u001b[0m\u001b[0;34m]\u001b[0m\u001b[0;34m)\u001b[0m\u001b[0;34m\u001b[0m\u001b[0;34m\u001b[0m\u001b[0m\n",
      "\u001b[0;31mValueError\u001b[0m: not enough values to unpack (expected 2, got 0)"
     ]
    }
   ],
   "source": [
    "from sklearn.linear_model import LinearRegression\n",
    "\n",
    "import pandas as pd\n",
    "import numpy as np\n",
    "from sklearn import datasets, linear_model\n",
    "from sklearn.linear_model import LinearRegression\n",
    "import statsmodels.api as sm\n",
    "from scipy import stats\n",
    "#getTrainTest('/Users/soniasharapova/Documents/FatiResearch/dummyDataset.csv', features)\n",
    "\n",
    "\n",
    "def predictionsIter(csv, feats, disease, permutationNp):\n",
    "    \n",
    "\n",
    "    length = len(feats)\n",
    "    \n",
    "    predIters=[]\n",
    "    iterated=[]\n",
    "    \n",
    "    for y in range(length - 1):\n",
    "        featurePred=[]\n",
    "        featureSubset = permutationNp[y:]\n",
    "        featsCopy = featureSubset\n",
    "\n",
    "        print(\"featureSubset\", featureSubset)\n",
    "        print(\"featsCopy\", featsCopy)\n",
    "        length = len(featureSubset)\n",
    "        #predIter = predictions(csv, featureSubset, disease)\n",
    "        #predIters.append(predIter)\n",
    "        #print(predIters)\n",
    "        \n",
    "        for x in range(length-2):\n",
    "            print(\"featsCopy[x]\", featsCopy[x])\n",
    "            np.append(featsCopy[:x], featsCopy[(x+1):])\n",
    "            print(\"featsCopy\", featsCopy)\n",
    "            predict = predictions(csv, featsCopy, disease)\n",
    "            featurePred.append(predict)\n",
    "            featsCopy = []\n",
    "            featsCopy = featureSubset \n",
    "        print(featureSubset)\n",
    "        print(y)\n",
    "        print(featurePred)\n",
    "        L = [ (featurePred[i],i) for i in range(len(featurePred)) ]\n",
    "\n",
    "        L.sort()\n",
    "        sorted_l,permutation = zip(*L)\n",
    "        permutationNp = np.array(permutation)\n",
    "        iterated.append(permutationNp[-1])\n",
    "        print(\"???\", permutationNp) \n",
    "\n",
    "\n",
    "def predictions(csv, feats, disease):\n",
    "    X_train, X_test, y_train, y_test = getTrainTest(csv, feats, disease)\n",
    "\n",
    "    clf = LinearRegression()\n",
    "    #clf = RandomForestRegressor()\n",
    "\n",
    "    clf.fit(X_train, y_train)\n",
    "    y_pred = clf.predict(X_test)\n",
    "    #print(y_pred)\n",
    "    \n",
    "    #print(clf.coef_)\n",
    "\n",
    "    #print(y_pred)\n",
    "    #print(y_test)\n",
    "    \n",
    "    #print(y_pred)\n",
    "    #print(np.array(y_test).astype(float))\n",
    "    pred = np.linalg.norm(y_pred - np.array(y_test).astype(float))\n",
    "    #print(pred)\n",
    "    return(pred)\n",
    "\n",
    "\n",
    "'''\n",
    "def remWorstFeat(features, predictions):\n",
    "    worst = 1000\n",
    "    for x in range(len(predictions)):\n",
    "      \n",
    "        if(predictions[x] < predictions[worst]):\n",
    "            worst = x\n",
    "            #print(worst)\n",
    "    del features[x]\n",
    "    return features\n",
    "'''\n",
    "\n",
    "def splitByDis(csv, dis):\n",
    "    csv = removeHeader(csv)\n",
    "    csvSubset = []\n",
    "    for row in csv:\n",
    "        if int(row[-2]) == dis:\n",
    "            csvSubset.append(row)\n",
    "    csvSubset = np.array(csvSubset)\n",
    "    return csvSubset\n",
    "    \n",
    "def bestFeats(csv, feats, disease):\n",
    "    featurePred=[]\n",
    "    featsCopy = feats\n",
    "    #print(feats)\n",
    "    #print(featsCopy)\n",
    "    length = len(feats)\n",
    "    \n",
    "    #predictions for CF (1)\n",
    "    #predictions for Healthy (2)\n",
    "    #predictions for COPD (3)\n",
    "    \n",
    "    for x in range(length-1):\n",
    "        featsCopy = featsCopy[:x] + featsCopy[(x+1):]\n",
    "        predict = predictions(csv, featsCopy, disease)\n",
    "        featurePred.append(predict)\n",
    "        featsCopy = []\n",
    "        featsCopy = feats        \n",
    "    #featurePred shows the prediction if this feature was removed. If score is low, this means prediction would be lower if this was removed\n",
    "    L = [ (featurePred[i],i) for i in range(len(featurePred)) ]\n",
    "\n",
    "    L.sort()\n",
    "    sorted_l,permutation = zip(*L)\n",
    "    permutationNp = np.array(permutation)\n",
    "    print(\"???\", permutationNp) \n",
    "\n",
    "    \n",
    "    predIters = predictionsIter(csv, feats, disease, permutationNp)\n",
    "        \n",
    "    print(\"!!!\", predIters)\n",
    "    \n",
    "    print(featurePred) \n",
    "    #print(predIters) \n",
    "    return permutationNp\n",
    "\n",
    "\n",
    "\n",
    "    \n",
    "#features = [0,1,2,3,4,5,6,7,8,9,10,11,12,13,14,15,16,17,18,19,20,21,22,23,24,25,26,27,28,29,30,31,32,33,34,35,36,37,\n",
    "            #38,39,40,41,42,43,44,45,46,47]\n",
    "features = [0,1,2,3,4,5,6,7]\n",
    "\n",
    "predsDiaFCF = bestFeats('/Users/soniasharapova/Documents/FatiResearch/combinedCSV/fatty/combDiaFatty.csv', features, 1)\n",
    "convertLabels('/Users/soniasharapova/Documents/FatiResearch/combinedCSV/fatty/combDiaFatty.csv', predsDiaFCF)\n",
    "\n"
   ]
  },
  {
   "cell_type": "markdown",
   "id": "b3e736a3",
   "metadata": {},
   "source": [
    "# Fatty"
   ]
  },
  {
   "cell_type": "markdown",
   "id": "8dcf4b92",
   "metadata": {},
   "source": [
    "Comb Dia Fatty"
   ]
  },
  {
   "cell_type": "code",
   "execution_count": 72,
   "id": "f83e381f",
   "metadata": {},
   "outputs": [
    {
     "name": "stdout",
     "output_type": "stream",
     "text": [
      "??? [2 1 6 0 3 5 4]\n",
      "[24.628339239091524, 24.45239110367443, 24.062383036945246, 24.86575645220897, 26.208563966357577, 25.04632612236095, 24.57500540566084]\n",
      "[2 1 6 0 3 5 4]\n",
      "['BMI' 'Age' 'Disease (CF=1,H=2,copd=3)' 'Gender(1=F)' 'Sub' 'FEV1%' 'Vis']\n",
      "??? [3 6 1 0 5 2 4]\n",
      "[15.019649291697355, 14.152551039580482, 17.687017573412362, 13.584549663070321, 18.868123773916416, 16.93026930469916, 13.888161872810244]\n",
      "[3 6 1 0 5 2 4]\n",
      "['Sub' 'Disease (CF=1,H=2,copd=3)' 'Age' 'Gender(1=F)' 'FEV1%' 'BMI' 'Vis']\n",
      "??? [3 2 6 5 0 1 4]\n",
      "[10.571214890378451, 10.605008075385262, 9.756012893460854, 9.417375169655266, 10.718716335771346, 10.133694242900209, 10.103990095202475]\n",
      "[3 2 6 5 0 1 4]\n",
      "['Sub' 'BMI' 'Disease (CF=1,H=2,copd=3)' 'FEV1%' 'Gender(1=F)' 'Age' 'Vis']\n"
     ]
    },
    {
     "data": {
      "text/plain": [
       "array(['Sub', 'BMI', 'Disease (CF=1,H=2,copd=3)', 'FEV1%', 'Gender(1=F)',\n",
       "       'Age', 'Vis'], dtype=object)"
      ]
     },
     "execution_count": 72,
     "metadata": {},
     "output_type": "execute_result"
    }
   ],
   "source": [
    "predsDiaFCF = bestFeats('/Users/soniasharapova/Documents/FatiResearch/combinedCSV/fatty/combDiaFatty.csv', features, 1)\n",
    "convertLabels('/Users/soniasharapova/Documents/FatiResearch/combinedCSV/fatty/combDiaFatty.csv', predsDiaFCF)\n",
    "\n",
    "predsDiaFHealthy = bestFeats('/Users/soniasharapova/Documents/FatiResearch/combinedCSV/fatty/combDiaFatty.csv', features, 2)\n",
    "convertLabels('/Users/soniasharapova/Documents/FatiResearch/combinedCSV/fatty/combDiaFatty.csv', predsDiaFHealthy)\n",
    "\n",
    "predsDiaFCOPD = bestFeats('/Users/soniasharapova/Documents/FatiResearch/combinedCSV/fatty/combDiaFatty.csv', features, 3)\n",
    "convertLabels('/Users/soniasharapova/Documents/FatiResearch/combinedCSV/fatty/combDiaFatty.csv', predsDiaFCOPD)\n"
   ]
  },
  {
   "cell_type": "markdown",
   "id": "5b25d73d",
   "metadata": {},
   "source": [
    "Comb Pecs Fatty"
   ]
  },
  {
   "cell_type": "code",
   "execution_count": 6,
   "id": "adc1c8e1",
   "metadata": {},
   "outputs": [
    {
     "name": "stdout",
     "output_type": "stream",
     "text": [
      "[41.52615669576034, 45.44168661224779, 44.01572097785328, 38.47681860157886, 41.2996220381423, 32.1532829868478, 32.396620088712694, 46.091188607113104, 0.0]\n",
      "[8 5 6 3 4 0 2 1 7]\n",
      "['Pecs Fatty%' 'FEV1%' 'FVC % ' 'Sub' 'Vis' 'Gender(1=F)' 'BMI' 'Age'\n",
      " 'Disease (CF=1,H=2,copd=3)']\n",
      "[29.596295211884783, 31.392832342230346, 29.056544529248388, 40.705084584341414, 33.389884637747706, 31.846755889454666, 37.14749389358259, 42.539792018687024, 0.0]\n",
      "[8 2 0 1 5 4 6 3 7]\n",
      "['Pecs Fatty%' 'BMI' 'Gender(1=F)' 'Age' 'FEV1%' 'Vis' 'FVC % ' 'Sub'\n",
      " 'Disease (CF=1,H=2,copd=3)']\n",
      "[12.514664150828803, 31.98427970307864, 37.84560856395361, 20.035572764857346, 15.100370528748785, 12.435171657226007, 14.552950894175058, 19.744174077275577, 0.0]\n",
      "[8 5 0 6 4 7 3 1 2]\n",
      "['Pecs Fatty%' 'FEV1%' 'Gender(1=F)' 'FVC % ' 'Vis'\n",
      " 'Disease (CF=1,H=2,copd=3)' 'Sub' 'Age' 'BMI']\n"
     ]
    }
   ],
   "source": [
    "predsPecsFCF = bestFeats('/Users/soniasharapova/Documents/FatiResearch/combinedCSV/fatty/combPecsFatty.csv', features, 1)\n",
    "convertLabels('/Users/soniasharapova/Documents/FatiResearch/combinedCSV/fatty/combPecsFatty.csv', predsPecsFCF)\n",
    "\n",
    "predsPecsFHealthy = bestFeats('/Users/soniasharapova/Documents/FatiResearch/combinedCSV/fatty/combPecsFatty.csv', features, 2)\n",
    "convertLabels('/Users/soniasharapova/Documents/FatiResearch/combinedCSV/fatty/combPecsFatty.csv', predsPecsFHealthy)\n",
    "\n",
    "predsPecsFCOPD = bestFeats('/Users/soniasharapova/Documents/FatiResearch/combinedCSV/fatty/combPecsFatty.csv', features, 3)\n",
    "convertLabels('/Users/soniasharapova/Documents/FatiResearch/combinedCSV/fatty/combPecsFatty.csv', predsPecsFCOPD)\n"
   ]
  },
  {
   "cell_type": "markdown",
   "id": "8cac3bf1",
   "metadata": {},
   "source": [
    "Comb Para Fatty"
   ]
  },
  {
   "cell_type": "code",
   "execution_count": 7,
   "id": "2d6890e5",
   "metadata": {},
   "outputs": [
    {
     "name": "stdout",
     "output_type": "stream",
     "text": [
      "[46.615377389732124, 34.103254728819785, 37.40779842250722, 39.80035649639739, 40.268008442870396, 33.78114081167288, 35.99417805343154, 40.47462596396224, 0.0]\n",
      "[8 5 1 6 2 3 4 7 0]\n",
      "['Para Fatty%' 'FEV1%' 'Age' 'FVC % ' 'BMI' 'Sub' 'Vis'\n",
      " 'Disease (CF=1,H=2,copd=3)' 'Gender(1=F)']\n",
      "[46.99542289447723, 49.21953229592538, 46.70383702957177, 58.3095081465515, 47.28350421481455, 45.37668049970915, 46.87041258838695, 46.785519803400156, 0.0]\n",
      "[8 5 2 7 6 0 4 1 3]\n",
      "['Para Fatty%' 'FEV1%' 'BMI' 'Disease (CF=1,H=2,copd=3)' 'FVC % '\n",
      " 'Gender(1=F)' 'Vis' 'Age' 'Sub']\n",
      "[29.82032380021011, 31.772007212021, 48.13868090533803, 37.579828107446794, 28.649009213189444, 29.07032989288526, 26.826515445832875, 46.22288797221579, 0.0]\n",
      "[8 6 4 5 0 1 3 7 2]\n",
      "['Para Fatty%' 'FVC % ' 'Vis' 'FEV1%' 'Gender(1=F)' 'Age' 'Sub'\n",
      " 'Disease (CF=1,H=2,copd=3)' 'BMI']\n"
     ]
    }
   ],
   "source": [
    "predsParaFCF = bestFeats('/Users/soniasharapova/Documents/FatiResearch/combinedCSV/fatty/combParaFatty.csv', features, 1)\n",
    "convertLabels('/Users/soniasharapova/Documents/FatiResearch/combinedCSV/fatty/combParaFatty.csv', predsParaFCF)\n",
    "\n",
    "predsParaFHealthy = bestFeats('/Users/soniasharapova/Documents/FatiResearch/combinedCSV/fatty/combParaFatty.csv', features, 2)\n",
    "convertLabels('/Users/soniasharapova/Documents/FatiResearch/combinedCSV/fatty/combParaFatty.csv', predsParaFHealthy)\n",
    "\n",
    "predsParaFCOPD = bestFeats('/Users/soniasharapova/Documents/FatiResearch/combinedCSV/fatty/combParaFatty.csv', features, 3)\n",
    "convertLabels('/Users/soniasharapova/Documents/FatiResearch/combinedCSV/fatty/combParaFatty.csv', predsParaFCOPD)\n"
   ]
  },
  {
   "cell_type": "markdown",
   "id": "ca03975c",
   "metadata": {},
   "source": [
    "Comb Abd Fatty"
   ]
  },
  {
   "cell_type": "code",
   "execution_count": 8,
   "id": "03038e5d",
   "metadata": {},
   "outputs": [
    {
     "name": "stdout",
     "output_type": "stream",
     "text": [
      "[41.964418726724446, 32.50883236630417, 39.87305740783789, 40.20079263644784, 40.407222207444256, 38.603804324966255, 39.86411802575015, 39.8839081425823, 0.0]\n",
      "[8 1 5 6 2 7 3 4 0]\n",
      "['Abd Fatty%' 'Age' 'FEV1%' 'FVC % ' 'BMI' 'Disease (CF=1,H=2,copd=3)'\n",
      " 'Sub' 'Vis' 'Gender(1=F)']\n",
      "[37.63738872137609, 34.80318557408691, 33.34098499820637, 32.05625654338098, 40.51301622356212, 35.42503692372685, 35.365099970555946, 35.87539527287004, 0.0]\n",
      "[8 3 2 1 6 5 7 0 4]\n",
      "['Abd Fatty%' 'Sub' 'BMI' 'Age' 'FVC % ' 'FEV1%'\n",
      " 'Disease (CF=1,H=2,copd=3)' 'Gender(1=F)' 'Vis']\n",
      "[17.62560309276487, 36.59225163980832, 22.529606192085986, 19.709209759842317, 28.649092847617187, 16.137573641461135, 17.80826390009203, 101.34439296756295, 0.0]\n",
      "[8 5 0 6 3 2 4 1 7]\n",
      "['Abd Fatty%' 'FEV1%' 'Gender(1=F)' 'FVC % ' 'Sub' 'BMI' 'Vis' 'Age'\n",
      " 'Disease (CF=1,H=2,copd=3)']\n"
     ]
    }
   ],
   "source": [
    "predsAbdFCF = bestFeats('/Users/soniasharapova/Documents/FatiResearch/combinedCSV/fatty/combAbdFatty.csv', features, 1)\n",
    "convertLabels('/Users/soniasharapova/Documents/FatiResearch/combinedCSV/fatty/combAbdFatty.csv', predsAbdFCF)\n",
    "\n",
    "predsAbdFHealthy = bestFeats('/Users/soniasharapova/Documents/FatiResearch/combinedCSV/fatty/combAbdFatty.csv', features, 2)\n",
    "convertLabels('/Users/soniasharapova/Documents/FatiResearch/combinedCSV/fatty/combAbdFatty.csv', predsAbdFHealthy)\n",
    "\n",
    "predsAbdFCOPD = bestFeats('/Users/soniasharapova/Documents/FatiResearch/combinedCSV/fatty/combAbdFatty.csv', features, 3)\n",
    "convertLabels('/Users/soniasharapova/Documents/FatiResearch/combinedCSV/fatty/combAbdFatty.csv', predsAbdFCOPD)\n"
   ]
  },
  {
   "cell_type": "markdown",
   "id": "1a074878",
   "metadata": {},
   "source": [
    "# Muscle"
   ]
  },
  {
   "cell_type": "markdown",
   "id": "470c19d7",
   "metadata": {},
   "source": [
    "Comb Dia Muscle"
   ]
  },
  {
   "cell_type": "code",
   "execution_count": 9,
   "id": "1bb1fc3e",
   "metadata": {},
   "outputs": [
    {
     "name": "stdout",
     "output_type": "stream",
     "text": [
      "[115.99192554053283, 57.366474768141295, 59.38989844767796, 63.99707786992012, 40.516757440875395, 48.3708358144619, 47.9914534174915, 58.6182810925753, 0.0]\n",
      "[8 4 6 5 1 7 2 3 0]\n",
      "['Dia Muscle V' 'Vis' 'FVC % ' 'FEV1%' 'Age' 'Disease (CF=1,H=2,copd=3)'\n",
      " 'BMI' 'Sub' 'Gender(1=F)']\n",
      "[30.061426340190824, 48.63016281110297, 35.905271744429804, 40.747180254043, 35.837312264332255, 37.04049246205861, 30.01509679168624, 30.24285609007544, 0.0]\n",
      "[8 6 0 7 4 2 5 3 1]\n",
      "['Dia Muscle V' 'FVC % ' 'Gender(1=F)' 'Disease (CF=1,H=2,copd=3)' 'Vis'\n",
      " 'BMI' 'FEV1%' 'Sub' 'Age']\n",
      "[42.06657163380987, 24.71538862758898, 28.08961757982862, 36.14825090829356, 24.13381637718797, 27.663048411100966, 33.45208679045552, 95.1698524722391, 0.0]\n",
      "[8 4 1 5 2 6 3 0 7]\n",
      "['Dia Muscle V' 'Vis' 'Age' 'FEV1%' 'BMI' 'FVC % ' 'Sub' 'Gender(1=F)'\n",
      " 'Disease (CF=1,H=2,copd=3)']\n"
     ]
    }
   ],
   "source": [
    "predsDiaMCF = bestFeats('/Users/soniasharapova/Documents/FatiResearch/combinedCSV/muscle/combDiaM.csv', features, 1)\n",
    "convertLabels('/Users/soniasharapova/Documents/FatiResearch/combinedCSV/muscle/combDiaM.csv', predsDiaMCF)\n",
    "\n",
    "predsDiaMHealthy = bestFeats('/Users/soniasharapova/Documents/FatiResearch/combinedCSV/muscle/combDiaM.csv', features, 2)\n",
    "convertLabels('/Users/soniasharapova/Documents/FatiResearch/combinedCSV/muscle/combDiaM.csv', predsDiaMHealthy)\n",
    "\n",
    "predsDiaMCOPD = bestFeats('/Users/soniasharapova/Documents/FatiResearch/combinedCSV/muscle/combDiaM.csv', features, 3)\n",
    "convertLabels('/Users/soniasharapova/Documents/FatiResearch/combinedCSV/muscle/combDiaM.csv', predsDiaMCOPD)\n"
   ]
  },
  {
   "cell_type": "markdown",
   "id": "747860da",
   "metadata": {},
   "source": [
    "Comb Pecs Muscle"
   ]
  },
  {
   "cell_type": "code",
   "execution_count": 10,
   "id": "aac71807",
   "metadata": {},
   "outputs": [
    {
     "name": "stdout",
     "output_type": "stream",
     "text": [
      "[57.7424996626513, 62.692050212427745, 42.596474000027605, 62.15828355967397, 44.854052407618305, 45.376413712666974, 49.682237965848984, 63.032054889215026, 0.0]\n",
      "[8 2 4 5 6 0 3 1 7]\n",
      "['Pecs M ' 'BMI' 'Vis' 'FEV1%' 'FVC % ' 'Gender(1=F)' 'Sub' 'Age'\n",
      " 'Disease (CF=1,H=2,copd=3)']\n",
      "[40.62713604531786, 36.373106943043354, 32.85531223794909, 31.90855162188341, 32.96656815608536, 31.38229429602735, 35.296557871535626, 33.39535648326442, 0.0]\n",
      "[8 5 3 2 4 7 6 1 0]\n",
      "['Pecs M ' 'FEV1%' 'Sub' 'BMI' 'Vis' 'Disease (CF=1,H=2,copd=3)' 'FVC % '\n",
      " 'Age' 'Gender(1=F)']\n",
      "[21.914083511726968, 24.905433917381277, 26.147595356009283, 21.09238214439041, 21.247016795203614, 21.041726511444917, 20.650466479233692, 40.788367601723465, 0.0]\n",
      "[8 6 5 3 4 0 1 2 7]\n",
      "['Pecs M ' 'FVC % ' 'FEV1%' 'Sub' 'Vis' 'Gender(1=F)' 'Age' 'BMI'\n",
      " 'Disease (CF=1,H=2,copd=3)']\n"
     ]
    }
   ],
   "source": [
    "predsPecsMCF = bestFeats('/Users/soniasharapova/Documents/FatiResearch/combinedCSV/muscle/combPecsM.csv', features, 1)\n",
    "convertLabels('/Users/soniasharapova/Documents/FatiResearch/combinedCSV/muscle/combPecsM.csv', predsPecsMCF)\n",
    "\n",
    "predsPecsMHealthy = bestFeats('/Users/soniasharapova/Documents/FatiResearch/combinedCSV/muscle/combPecsM.csv', features, 2)\n",
    "convertLabels('/Users/soniasharapova/Documents/FatiResearch/combinedCSV/muscle/combPecsM.csv', predsPecsMHealthy)\n",
    "\n",
    "predsPecsMCOPD = bestFeats('/Users/soniasharapova/Documents/FatiResearch/combinedCSV/muscle/combPecsM.csv', features, 3)\n",
    "convertLabels('/Users/soniasharapova/Documents/FatiResearch/combinedCSV/muscle/combPecsM.csv', predsPecsMCOPD)\n"
   ]
  },
  {
   "cell_type": "markdown",
   "id": "dc0c500a",
   "metadata": {},
   "source": [
    "Comb Para Muscle"
   ]
  },
  {
   "cell_type": "code",
   "execution_count": 11,
   "id": "b733e622",
   "metadata": {},
   "outputs": [
    {
     "name": "stdout",
     "output_type": "stream",
     "text": [
      "[44.401748120621384, 21.99700806793793, 25.740734194943787, 22.198882366042206, 21.0954012370127, 23.798844305417582, 23.271462118828204, 25.61151416951684, 0.0]\n",
      "[8 4 1 3 6 5 7 2 0]\n",
      "['Para M' 'Vis' 'Age' 'Sub' 'FVC % ' 'FEV1%' 'Disease (CF=1,H=2,copd=3)'\n",
      " 'BMI' 'Gender(1=F)']\n",
      "[24.08631604635591, 17.961471024463847, 20.405237531507513, 19.55090997535605, 20.61693383105177, 17.482932465884804, 21.287469107207176, 20.235241668711982, 0.0]\n",
      "[8 5 1 3 7 2 4 6 0]\n",
      "['Para M' 'FEV1%' 'Age' 'Sub' 'Disease (CF=1,H=2,copd=3)' 'BMI' 'Vis'\n",
      " 'FVC % ' 'Gender(1=F)']\n",
      "[17.531558724983352, 18.95729583479339, 23.675091586450304, 15.78219977430005, 15.947702983686755, 15.794612755442074, 14.528951540566691, 32.308729901033196, 0.0]\n",
      "[8 6 3 5 4 0 1 2 7]\n",
      "['Para M' 'FVC % ' 'Sub' 'FEV1%' 'Vis' 'Gender(1=F)' 'Age' 'BMI'\n",
      " 'Disease (CF=1,H=2,copd=3)']\n"
     ]
    }
   ],
   "source": [
    "predsParaMCF = bestFeats('/Users/soniasharapova/Documents/FatiResearch/combinedCSV/muscle/combParaM.csv', features, 1)\n",
    "convertLabels('/Users/soniasharapova/Documents/FatiResearch/combinedCSV/muscle/combParaM.csv', predsParaMCF)\n",
    "\n",
    "predsParaMHealthy = bestFeats('/Users/soniasharapova/Documents/FatiResearch/combinedCSV/muscle/combParaM.csv', features, 2)\n",
    "convertLabels('/Users/soniasharapova/Documents/FatiResearch/combinedCSV/muscle/combParaM.csv', predsParaMHealthy)\n",
    "\n",
    "predsParaMCOPD = bestFeats('/Users/soniasharapova/Documents/FatiResearch/combinedCSV/muscle/combParaM.csv', features, 3)\n",
    "convertLabels('/Users/soniasharapova/Documents/FatiResearch/combinedCSV/muscle/combParaM.csv', predsParaMCOPD)\n"
   ]
  },
  {
   "cell_type": "markdown",
   "id": "ab12bd5f",
   "metadata": {},
   "source": [
    "Comb Abd Muscle"
   ]
  },
  {
   "cell_type": "code",
   "execution_count": 12,
   "id": "4efb957b",
   "metadata": {},
   "outputs": [
    {
     "name": "stdout",
     "output_type": "stream",
     "text": [
      "[100.82192373933894, 54.987894764167976, 73.75844183129492, 40.542129663884396, 37.77979962929295, 53.04714749291209, 49.45377345903523, 65.29162735735154, 0.0]\n",
      "[8 4 3 6 5 1 7 2 0]\n",
      "['Abd M' 'Vis' 'Sub' 'FVC % ' 'FEV1%' 'Age' 'Disease (CF=1,H=2,copd=3)'\n",
      " 'BMI' 'Gender(1=F)']\n",
      "[41.25647821020792, 42.5900613692166, 50.257357522097216, 45.23343145448755, 45.66652236760984, 47.72203591679434, 45.598181305613764, 45.23573571644825, 0.0]\n",
      "[8 0 1 3 7 6 4 5 2]\n",
      "['Abd M' 'Gender(1=F)' 'Age' 'Sub' 'Disease (CF=1,H=2,copd=3)' 'FVC % '\n",
      " 'Vis' 'FEV1%' 'BMI']\n",
      "[16.089286063791203, 32.92183730566178, 15.896662066859523, 25.561615306967948, 28.517617569628275, 22.150047869813925, 20.028873642763934, 28.457109810257077, 0.0]\n",
      "[8 2 0 6 5 3 7 4 1]\n",
      "['Abd M' 'BMI' 'Gender(1=F)' 'FVC % ' 'FEV1%' 'Sub'\n",
      " 'Disease (CF=1,H=2,copd=3)' 'Vis' 'Age']\n"
     ]
    }
   ],
   "source": [
    "predsAbdMCF = bestFeats('/Users/soniasharapova/Documents/FatiResearch/combinedCSV/muscle/combAbdM.csv', features, 1)\n",
    "convertLabels('/Users/soniasharapova/Documents/FatiResearch/combinedCSV/muscle/combAbdM.csv', predsAbdMCF)\n",
    "\n",
    "predsAbdMHealthy = bestFeats('/Users/soniasharapova/Documents/FatiResearch/combinedCSV/muscle/combAbdM.csv', features, 2)\n",
    "convertLabels('/Users/soniasharapova/Documents/FatiResearch/combinedCSV/muscle/combAbdM.csv', predsAbdMHealthy)\n",
    "\n",
    "predsAbdMCOPD = bestFeats('/Users/soniasharapova/Documents/FatiResearch/combinedCSV/muscle/combAbdM.csv', features, 3)\n",
    "convertLabels('/Users/soniasharapova/Documents/FatiResearch/combinedCSV/muscle/combAbdM.csv', predsAbdMCOPD)\n"
   ]
  },
  {
   "cell_type": "code",
   "execution_count": null,
   "id": "4844114b",
   "metadata": {},
   "outputs": [],
   "source": []
  },
  {
   "cell_type": "code",
   "execution_count": 13,
   "id": "f445439a",
   "metadata": {},
   "outputs": [
    {
     "ename": "NameError",
     "evalue": "name 'X_train' is not defined",
     "output_type": "error",
     "traceback": [
      "\u001b[0;31m---------------------------------------------------------------------------\u001b[0m",
      "\u001b[0;31mNameError\u001b[0m                                 Traceback (most recent call last)",
      "\u001b[0;32m<ipython-input-13-bdca3af32414>\u001b[0m in \u001b[0;36m<module>\u001b[0;34m\u001b[0m\n\u001b[1;32m      1\u001b[0m \u001b[0;31m# create model and fit it\u001b[0m\u001b[0;34m\u001b[0m\u001b[0;34m\u001b[0m\u001b[0;34m\u001b[0m\u001b[0m\n\u001b[1;32m      2\u001b[0m \u001b[0mmodel\u001b[0m \u001b[0;34m=\u001b[0m \u001b[0mRandomForestRegressor\u001b[0m\u001b[0;34m(\u001b[0m\u001b[0;34m)\u001b[0m\u001b[0;34m\u001b[0m\u001b[0;34m\u001b[0m\u001b[0m\n\u001b[0;32m----> 3\u001b[0;31m \u001b[0mmodel\u001b[0m\u001b[0;34m.\u001b[0m\u001b[0mfit\u001b[0m\u001b[0;34m(\u001b[0m\u001b[0mX_train\u001b[0m\u001b[0;34m,\u001b[0m \u001b[0my_train\u001b[0m\u001b[0;34m)\u001b[0m\u001b[0;34m\u001b[0m\u001b[0;34m\u001b[0m\u001b[0m\n\u001b[0m\u001b[1;32m      4\u001b[0m \u001b[0;34m\u001b[0m\u001b[0m\n\u001b[1;32m      5\u001b[0m \u001b[0my_pred\u001b[0m \u001b[0;34m=\u001b[0m \u001b[0mmodel\u001b[0m\u001b[0;34m.\u001b[0m\u001b[0mpredict\u001b[0m\u001b[0;34m(\u001b[0m\u001b[0mX_test\u001b[0m\u001b[0;34m)\u001b[0m\u001b[0;34m\u001b[0m\u001b[0;34m\u001b[0m\u001b[0m\n",
      "\u001b[0;31mNameError\u001b[0m: name 'X_train' is not defined"
     ]
    }
   ],
   "source": [
    "# create model and fit it\n",
    "model = RandomForestRegressor()\n",
    "model.fit(X_train, y_train)\n",
    "\n",
    "y_pred = model.predict(X_test)\n",
    "\n",
    "print(y_pred)\n",
    "print(y_test)\n",
    "    \n",
    "print(np.linalg.norm(y_pred - np.array(y_test).astype(float)))\n"
   ]
  },
  {
   "cell_type": "code",
   "execution_count": 6,
   "id": "526a7e73",
   "metadata": {},
   "outputs": [
    {
     "ename": "NameError",
     "evalue": "name 'X_train' is not defined",
     "output_type": "error",
     "traceback": [
      "\u001b[0;31m---------------------------------------------------------------------------\u001b[0m",
      "\u001b[0;31mNameError\u001b[0m                                 Traceback (most recent call last)",
      "\u001b[0;32m<ipython-input-6-49897e8a8367>\u001b[0m in \u001b[0;36m<module>\u001b[0;34m\u001b[0m\n\u001b[1;32m      2\u001b[0m \u001b[0;34m\u001b[0m\u001b[0m\n\u001b[1;32m      3\u001b[0m \u001b[0mclf\u001b[0m \u001b[0;34m=\u001b[0m \u001b[0msvm\u001b[0m\u001b[0;34m.\u001b[0m\u001b[0mSVR\u001b[0m\u001b[0;34m(\u001b[0m\u001b[0;34m)\u001b[0m\u001b[0;34m\u001b[0m\u001b[0;34m\u001b[0m\u001b[0m\n\u001b[0;32m----> 4\u001b[0;31m \u001b[0mclf\u001b[0m\u001b[0;34m.\u001b[0m\u001b[0mfit\u001b[0m\u001b[0;34m(\u001b[0m\u001b[0mX_train\u001b[0m\u001b[0;34m,\u001b[0m \u001b[0my_train\u001b[0m\u001b[0;34m)\u001b[0m\u001b[0;34m\u001b[0m\u001b[0;34m\u001b[0m\u001b[0m\n\u001b[0m\u001b[1;32m      5\u001b[0m \u001b[0mprint\u001b[0m\u001b[0;34m(\u001b[0m\u001b[0;34m\"SVR\"\u001b[0m\u001b[0;34m)\u001b[0m\u001b[0;34m\u001b[0m\u001b[0;34m\u001b[0m\u001b[0m\n\u001b[1;32m      6\u001b[0m \u001b[0mprint\u001b[0m\u001b[0;34m(\u001b[0m\u001b[0mclf\u001b[0m\u001b[0;34m.\u001b[0m\u001b[0mpredict\u001b[0m\u001b[0;34m(\u001b[0m\u001b[0mX_test\u001b[0m\u001b[0;34m)\u001b[0m\u001b[0;34m)\u001b[0m\u001b[0;34m\u001b[0m\u001b[0;34m\u001b[0m\u001b[0m\n",
      "\u001b[0;31mNameError\u001b[0m: name 'X_train' is not defined"
     ]
    }
   ],
   "source": [
    "from sklearn import metrics, svm\n",
    "\n",
    "clf = svm.SVR()\n",
    "clf.fit(X_train, y_train)\n",
    "print(\"SVR\")\n",
    "print(clf.predict(X_test))\n",
    "print(y_test)\n",
    "\n",
    "print(np.linalg.norm(y_pred - np.array(y_test).astype(float)))\n"
   ]
  },
  {
   "cell_type": "code",
   "execution_count": null,
   "id": "f4a8b200",
   "metadata": {},
   "outputs": [],
   "source": []
  },
  {
   "cell_type": "code",
   "execution_count": null,
   "id": "5af6c376",
   "metadata": {},
   "outputs": [],
   "source": []
  }
 ],
 "metadata": {
  "kernelspec": {
   "display_name": "Python 3 (ipykernel)",
   "language": "python",
   "name": "python3"
  },
  "language_info": {
   "codemirror_mode": {
    "name": "ipython",
    "version": 3
   },
   "file_extension": ".py",
   "mimetype": "text/x-python",
   "name": "python",
   "nbconvert_exporter": "python",
   "pygments_lexer": "ipython3",
   "version": "3.13.1"
  }
 },
 "nbformat": 4,
 "nbformat_minor": 5
}
