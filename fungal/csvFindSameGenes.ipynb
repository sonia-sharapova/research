{
 "cells": [
  {
   "cell_type": "code",
   "execution_count": 4,
   "id": "69e322aa",
   "metadata": {},
   "outputs": [
    {
     "name": "stdout",
     "output_type": "stream",
     "text": [
      "['mirna.hsa.let.7a.1', 'mirna.hsa.let.7a.2', 'mirna.hsa.let.7a.3', 'mirna.hsa.let.7b', 'mirna.hsa.let.7c', 'mirna.hsa.let.7d', 'mirna.hsa.let.7e', 'mirna.hsa.let.7f.1', 'mirna.hsa.let.7f.2', 'mirna.hsa.let.7g', 'mirna.hsa.let.7i', 'mirna.hsa.mir.100', 'mirna.hsa.mir.101.1', 'mirna.hsa.mir.101.2', 'mirna.hsa.mir.103.1', 'mirna.hsa.mir.103.2', 'mirna.hsa.mir.106a', 'mirna.hsa.mir.106b', 'mirna.hsa.mir.107', 'mirna.hsa.mir.10a', 'mirna.hsa.mir.10b', 'mirna.hsa.mir.125a', 'mirna.hsa.mir.125b.1', 'mirna.hsa.mir.126', 'mirna.hsa.mir.127', 'mirna.hsa.mir.128.1', 'mirna.hsa.mir.128.2', 'mirna.hsa.mir.1287', 'mirna.hsa.mir.1301', 'mirna.hsa.mir.1307', 'mirna.hsa.mir.130a', 'mirna.hsa.mir.130b', 'mirna.hsa.mir.132', 'mirna.hsa.mir.134', 'mirna.hsa.mir.139', 'mirna.hsa.mir.140', 'mirna.hsa.mir.141', 'mirna.hsa.mir.142', 'mirna.hsa.mir.143', 'mirna.hsa.mir.144', 'mirna.hsa.mir.145', 'mirna.hsa.mir.146a', 'mirna.hsa.mir.146b', 'mirna.hsa.mir.148a', 'mirna.hsa.mir.148b', 'mirna.hsa.mir.149', 'mirna.hsa.mir.150', 'mirna.hsa.mir.151', 'mirna.hsa.mir.152', 'mirna.hsa.mir.155', 'mirna.hsa.mir.15a', 'mirna.hsa.mir.15b', 'mirna.hsa.mir.16.1', 'mirna.hsa.mir.16.2', 'mirna.hsa.mir.17', 'mirna.hsa.mir.181a.1', 'mirna.hsa.mir.181a.2', 'mirna.hsa.mir.181b.1', 'mirna.hsa.mir.181c', 'mirna.hsa.mir.181d', 'mirna.hsa.mir.182', 'mirna.hsa.mir.183', 'mirna.hsa.mir.185', 'mirna.hsa.mir.186', 'mirna.hsa.mir.191', 'mirna.hsa.mir.192', 'mirna.hsa.mir.193a', 'mirna.hsa.mir.193b', 'mirna.hsa.mir.194.1', 'mirna.hsa.mir.194.2', 'mirna.hsa.mir.195', 'mirna.hsa.mir.196a.1', 'mirna.hsa.mir.196b', 'mirna.hsa.mir.197', 'mirna.hsa.mir.199a.1', 'mirna.hsa.mir.199a.2', 'mirna.hsa.mir.199b', 'mirna.hsa.mir.19b.2', 'mirna.hsa.mir.200a', 'mirna.hsa.mir.200b', 'mirna.hsa.mir.200c', 'mirna.hsa.mir.203', 'mirna.hsa.mir.205', 'mirna.hsa.mir.20a', 'mirna.hsa.mir.21', 'mirna.hsa.mir.210', 'mirna.hsa.mir.214', 'mirna.hsa.mir.218.2', 'mirna.hsa.mir.22', 'mirna.hsa.mir.221', 'mirna.hsa.mir.222', 'mirna.hsa.mir.223', 'mirna.hsa.mir.2355', 'mirna.hsa.mir.23a', 'mirna.hsa.mir.23b', 'mirna.hsa.mir.24.1', 'mirna.hsa.mir.24.2', 'mirna.hsa.mir.25', 'mirna.hsa.mir.26a.2', 'mirna.hsa.mir.26b', 'mirna.hsa.mir.27a', 'mirna.hsa.mir.27b', 'mirna.hsa.mir.28', 'mirna.hsa.mir.29a', 'mirna.hsa.mir.29b.1', 'mirna.hsa.mir.29b.2', 'mirna.hsa.mir.29c', 'mirna.hsa.mir.3065', 'mirna.hsa.mir.3074', 'mirna.hsa.mir.30a', 'mirna.hsa.mir.30b', 'mirna.hsa.mir.30c.2', 'mirna.hsa.mir.30d', 'mirna.hsa.mir.30e', 'mirna.hsa.mir.32', 'mirna.hsa.mir.320a', 'mirna.hsa.mir.324', 'mirna.hsa.mir.328', 'mirna.hsa.mir.330', 'mirna.hsa.mir.331', 'mirna.hsa.mir.337', 'mirna.hsa.mir.338', 'mirna.hsa.mir.339', 'mirna.hsa.mir.340', 'mirna.hsa.mir.342', 'mirna.hsa.mir.345', 'mirna.hsa.mir.34a', 'mirna.hsa.mir.3607', 'mirna.hsa.mir.361', 'mirna.hsa.mir.3613', 'mirna.hsa.mir.3647', 'mirna.hsa.mir.365.1', 'mirna.hsa.mir.365.2', 'mirna.hsa.mir.3653', 'mirna.hsa.mir.374a', 'mirna.hsa.mir.374b', 'mirna.hsa.mir.375', 'mirna.hsa.mir.378', 'mirna.hsa.mir.379', 'mirna.hsa.mir.381', 'mirna.hsa.mir.409', 'mirna.hsa.mir.423', 'mirna.hsa.mir.424', 'mirna.hsa.mir.425', 'mirna.hsa.mir.429', 'mirna.hsa.mir.451', 'mirna.hsa.mir.452', 'mirna.hsa.mir.454', 'mirna.hsa.mir.455', 'mirna.hsa.mir.484', 'mirna.hsa.mir.486', 'mirna.hsa.mir.497', 'mirna.hsa.mir.500a', 'mirna.hsa.mir.501', 'mirna.hsa.mir.505', 'mirna.hsa.mir.532', 'mirna.hsa.mir.539', 'mirna.hsa.mir.542', 'mirna.hsa.mir.574', 'mirna.hsa.mir.576', 'mirna.hsa.mir.582', 'mirna.hsa.mir.584', 'mirna.hsa.mir.589', 'mirna.hsa.mir.590', 'mirna.hsa.mir.625', 'mirna.hsa.mir.628', 'mirna.hsa.mir.629', 'mirna.hsa.mir.660', 'mirna.hsa.mir.664', 'mirna.hsa.mir.7.1', 'mirna.hsa.mir.708', 'mirna.hsa.mir.744', 'mirna.hsa.mir.769', 'mirna.hsa.mir.874', 'mirna.hsa.mir.9.1', 'mirna.hsa.mir.9.2', 'mirna.hsa.mir.92a.1', 'mirna.hsa.mir.92a.2', 'mirna.hsa.mir.92b', 'mirna.hsa.mir.93', 'mirna.hsa.mir.96', 'mirna.hsa.mir.98', 'mirna.hsa.mir.99a', 'mirna.hsa.mir.99b', 'Y']\n",
      "['mrna.RTN2', 'mrna.NDRG2', 'mrna.CCDC113', 'mrna.FAM63A', 'mrna.ACADS', 'mrna.GMDS', 'mrna.HLA.H', 'mrna.SEMA4A', 'mrna.ETS2', 'mrna.LIMD2', 'mrna.NME3', 'mrna.ZEB1', 'mrna.CDCP1', 'mrna.GIYD2', 'mrna.RTKN2', 'mrna.MANSC1', 'mrna.TAGLN', 'mrna.IFIT3', 'mrna.ARL4C', 'mrna.HTRA1', 'mrna.KIF13B', 'mrna.CPPED1', 'mrna.SKAP2', 'mrna.ASPM', 'mrna.KDM4B', 'mrna.TBXAS1', 'mrna.MT1X', 'mrna.MED13L', 'mrna.SNORA8', 'mrna.RGS1', 'mrna.CBX6', 'mrna.WWC2', 'mrna.TNFRSF12A', 'mrna.ZNF552', 'mrna.MAPRE2', 'mrna.SEMA5A', 'mrna.STAT5A', 'mrna.FLI1', 'mrna.COL15A1', 'mrna.C7orf55', 'mrna.ASF1B', 'mrna.FUT8', 'mrna.LASS4', 'mrna.SQLE', 'mrna.GPC4', 'mrna.AKAP12', 'mrna.AGL', 'mrna.ADAMTS4', 'mrna.EPHB3', 'mrna.MAP3K1', 'mrna.PRNP', 'mrna.PROM2', 'mrna.SLCO3A1', 'mrna.SNHG1', 'mrna.PRKCDBP', 'mrna.MXI1', 'mrna.CSF1R', 'mrna.TANC2', 'mrna.SLC19A2', 'mrna.RHOU', 'mrna.C4orf34', 'mrna.LRIG1', 'mrna.DOCK8', 'mrna.BOC', 'mrna.C11orf52', 'mrna.S100A16', 'mrna.NRARP', 'mrna.TTC23', 'mrna.TBC1D4', 'mrna.DEPDC6', 'mrna.ILDR1', 'mrna.SDC1', 'mrna.STC2', 'mrna.DTWD2', 'mrna.TCF4', 'mrna.ITPR2', 'mrna.DPYD', 'mrna.NME1', 'mrna.EGLN3', 'mrna.CD302', 'mrna.AHR', 'mrna.LAPTM4B', 'mrna.OCLN', 'mrna.HIST1H2BK', 'mrna.HDAC11', 'mrna.C18orf1', 'mrna.C6orf192', 'mrna.AMPD3', 'mrna.COL6A1', 'mrna.RAB3IL1', 'mrna.APBB1IP', 'mrna.PSIP1', 'mrna.EIF2AK2', 'mrna.CSRP2', 'mrna.EIF4EBP3', 'mrna.LYN', 'mrna.WDR76', 'mrna.SAMD9L', 'mrna.ASPH', 'mrna.RBL1', 'mrna.SLC43A3', 'mrna.HN1', 'mrna.TTC39A', 'mrna.MTL5', 'mrna.NES', 'mrna.APOD', 'mrna.RIN3', 'mrna.ALCAM', 'mrna.C1orf38', 'mrna.PLCD3', 'mrna.BSPRY', 'mrna.NTN4', 'mrna.IL1R1', 'mrna.EMP3', 'mrna.ZKSCAN1', 'mrna.FMNL2', 'mrna.OGFRL1', 'mrna.IRF5', 'mrna.IGSF3', 'mrna.DBP', 'mrna.CNN2', 'mrna.CAMK2D', 'mrna.SIGIRR', 'mrna.AKAP9', 'mrna.ICA1', 'mrna.FGD5', 'mrna.DSG2', 'mrna.E2F1', 'mrna.QSOX1', 'mrna.TOB1', 'mrna.CSF3R', 'mrna.SHROOM3', 'mrna.CCDC80', 'mrna.FRMD6', 'mrna.CXCL12', 'mrna.CCNA2', 'mrna.TIGD5', 'mrna.ALDH6A1', 'mrna.POSTN', 'mrna.FZD4', 'mrna.NCAPG2', 'mrna.SDC4', 'mrna.SNED1', 'mrna.PLEKHA4', 'mrna.KCNAB2', 'mrna.SH3KBP1', 'mrna.IGSF9', 'mrna.DNLZ', 'mrna.S1PR3', 'mrna.PTPRE', 'mrna.FLJ23867', 'mrna.PLSCR1', 'mrna.LMO4', 'mrna.IFITM2', 'mrna.LRRC25', 'mrna.TST', 'mrna.NCF4', 'mrna.NCOA7', 'mrna.IL4R', 'mrna.CCDC64B', 'mrna.SGPP1', 'mrna.RUNX3', 'mrna.SLC5A6', 'mrna.IFIH1', 'mrna.PREX1', 'mrna.PLAUR', 'mrna.CDK18', 'mrna.SLC43A2', 'mrna.GK', 'mrna.ICAM2', 'mrna.YPEL2', 'mrna.CBR1', 'mrna.MEX3A', 'mrna.ZNRF3', 'mrna.PTPRM', 'mrna.C1orf162', 'mrna.GAS6', 'mrna.C1QB', 'mrna.PVRL4', 'mrna.CTSK', 'mrna.MRVI1', 'mrna.LEF1', 'mrna.PLCD4', 'mrna.ZNF37B', 'mrna.MEGF9', 'mrna.GINS2', 'mrna.FAM13A', 'mrna.CPT1A', 'mrna.SNX10', 'mrna.TRIM45', 'mrna.ELP2', 'mrna.ALOX5', 'mrna.AMN1', 'mrna.CERCAM', 'mrna.SEMA3C', 'mrna.KRT8', 'mrna.TP53INP2', 'mrna.JAM3', 'mrna.ZNF680', 'mrna.PBX1', 'Y']\n",
      "['protein.14.3.3_epsilon', 'protein.4E.BP1', 'protein.4E.BP1_pS65', 'protein.4E.BP1_pT37', 'protein.4E.BP1_pT70', 'protein.53BP1', 'protein.A.Raf_pS299', 'protein.ACC1', 'protein.ACC_pS79', 'protein.AMPK_alpha', 'protein.AMPK_pT172', 'protein.ANLN', 'protein.AR', 'protein.ARID1A', 'protein.ASNS', 'protein.ATM', 'protein.Akt', 'protein.Akt_pS473', 'protein.Akt_pT308', 'protein.Annexin_I', 'protein.B.Raf', 'protein.Bak', 'protein.Bax', 'protein.Bcl.2', 'protein.Bcl.xL', 'protein.Beclin', 'protein.Bid', 'protein.Bim', 'protein.C.Raf', 'protein.C.Raf_pS338', 'protein.CD31', 'protein.CD49b', 'protein.CDK1', 'protein.Caspase.7_cleavedD198', 'protein.Caveolin.1', 'protein.Chk1', 'protein.Chk1_pS345', 'protein.Chk2', 'protein.Chk2_pT68', 'protein.Claudin.7', 'protein.Collagen_VI', 'protein.Cyclin_B1', 'protein.Cyclin_D1', 'protein.Cyclin_E1', 'protein.DJ.1', 'protein.Dvl3', 'protein.E.Cadherin', 'protein.EGFR', 'protein.EGFR_pY1068', 'protein.EGFR_pY1173', 'protein.ER.alpha', 'protein.ER.alpha_pS118', 'protein.ERK2', 'protein.FOXO3a', 'protein.Fibronectin', 'protein.GAB2', 'protein.GATA3', 'protein.GSK3.alpha.beta', 'protein.GSK3.alpha.beta_pS21_S9', 'protein.HER2', 'protein.HER2_pY1248', 'protein.HER3', 'protein.HER3_pY1289', 'protein.HSP70', 'protein.IGFBP2', 'protein.INPP4B', 'protein.IRS1', 'protein.JNK2', 'protein.JNK_pT183_pT185', 'protein.K.Ras', 'protein.Ku80', 'protein.LBK1', 'protein.Lck', 'protein.MAPK_pT202_Y204', 'protein.MEK1', 'protein.MEK1_pS217_S221', 'protein.MIG.6', 'protein.Mre11', 'protein.N.Cadherin', 'protein.NF.kB.p65_pS536', 'protein.NF2', 'protein.Notch1', 'protein.P.Cadherin', 'protein.PAI.1', 'protein.PCNA', 'protein.PDCD4', 'protein.PDK1_pS241', 'protein.PI3K.p110.alpha', 'protein.PKC.alpha', 'protein.PKC.alpha_pS657', 'protein.PKC.delta_pS664', 'protein.PR', 'protein.PRAS40_pT246', 'protein.PRDX1', 'protein.PTEN', 'protein.Paxillin', 'protein.Pea.15', 'protein.RBM3', 'protein.Rad50', 'protein.Rb_pS807_S811', 'protein.S6', 'protein.S6_pS235_S236', 'protein.S6_pS240_S244', 'protein.SCD1', 'protein.STAT3_pY705', 'protein.STAT5.alpha', 'protein.Shc_pY317', 'protein.Smad1', 'protein.Smad3', 'protein.Smad4', 'protein.Src', 'protein.Src_pY416', 'protein.Src_pY527', 'protein.Stathmin', 'protein.Syk', 'protein.Transglutaminase', 'protein.Tuberin', 'protein.VEGFR2', 'protein.XBP1', 'protein.XRCC1', 'protein.YAP_pS127', 'protein.YB.1', 'protein.YB.1_pS102', 'protein.alpha.Catenin', 'protein.beta.Catenin', 'protein.c.Kit', 'protein.c.Met_pY1235', 'protein.c.Myc', 'protein.eEF2', 'protein.eEF2K', 'protein.eIF4E', 'protein.mTOR', 'protein.mTOR_pS2448', 'protein.p27', 'protein.p27_pT157', 'protein.p27_pT198', 'protein.p38_MAPK', 'protein.p38_pT180_Y182', 'protein.p53', 'protein.p70S6K', 'protein.p70S6K_pT389', 'protein.p90RSK_pT359_S363', 'Y']\n"
     ]
    }
   ],
   "source": [
    "import pandas as pd\n",
    "\n",
    "def headerTest(dataset):\n",
    "    labels = list(dataset)\n",
    "    return labels\n",
    "\n",
    "#def stripModule:\n",
    "    \n",
    "\"\"\"data = read_csv(filename, header=None)\n",
    "dataset = data.values\n",
    "    #print(dataset.shape)\n",
    "    #print(dataset[:,features])\n",
    "labels = dataset[0][features]\n",
    "    \n",
    "    \n",
    "\n",
    "newDataset = dataset[:,features]\n",
    "    \n",
    "#find the shared genes among csvs\n",
    "\"\"\"\n",
    "\n",
    "datasetMirna = pd.read_csv('/Users/soniasharapova/Documents/MultiOmics/mirnaCategorical.csv')\n",
    "datasetMrna = pd.read_csv('/Users/soniasharapova/Documents/MultiOmics/mrnaCategorical.csv')\n",
    "datasetProt = pd.read_csv('/Users/soniasharapova/Documents/MultiOmics/protCategorical.csv')\n",
    "\n",
    "\n",
    "print(headerTest(datasetMirna))\n",
    "print(headerTest(datasetMrna))\n",
    "print(headerTest(datasetProt))"
   ]
  },
  {
   "cell_type": "code",
   "execution_count": null,
   "id": "b931176c",
   "metadata": {},
   "outputs": [],
   "source": []
  }
 ],
 "metadata": {
  "kernelspec": {
   "display_name": "Python 3",
   "language": "python",
   "name": "python3"
  },
  "language_info": {
   "codemirror_mode": {
    "name": "ipython",
    "version": 3
   },
   "file_extension": ".py",
   "mimetype": "text/x-python",
   "name": "python",
   "nbconvert_exporter": "python",
   "pygments_lexer": "ipython3",
   "version": "3.9.5"
  }
 },
 "nbformat": 4,
 "nbformat_minor": 5
}
