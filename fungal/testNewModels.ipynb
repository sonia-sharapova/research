{
 "cells": [
  {
   "cell_type": "code",
   "execution_count": 297,
   "id": "366b80e9",
   "metadata": {},
   "outputs": [],
   "source": [
    "import numpy as np\n",
    "import copy\n",
    "import time\n",
    "import pytz\n",
    "import datetime\n",
    "import math\n",
    "import re\n",
    "import os\n",
    "import pandas as pd\n",
    "from pandas import read_csv\n",
    "from sklearn.linear_model import LogisticRegression\n",
    "from sklearn.tree import DecisionTreeClassifier\n",
    "from sklearn.ensemble import RandomForestRegressor, GradientBoostingClassifier\n",
    "from sklearn.naive_bayes import BernoulliNB, MultinomialNB, GaussianNB\n",
    "from sklearn.neural_network import MLPClassifier\n",
    "from sklearn.preprocessing import MinMaxScaler, StandardScaler\n",
    "from sklearn.model_selection import train_test_split\n",
    "from sklearn.metrics import accuracy_score, f1_score, precision_score, recall_score, classification_report, confusion_matrix, ConfusionMatrixDisplay\n",
    "from sklearn.discriminant_analysis import LinearDiscriminantAnalysis\n",
    "from sklearn.utils import shuffle\n",
    "from sklearn.model_selection import train_test_split\n",
    "from sklearn.linear_model import LinearRegression\n",
    "import matplotlib.pyplot as plt\n",
    "import seaborn as sns\n",
    "import numpy as np\n",
    "from sklearn import datasets, linear_model\n",
    "import statsmodels.api as sm\n",
    "from scipy import stats\n",
    "\n",
    "from sklearn import metrics, svm\n",
    "\n",
    "# whether or not to split into train and test\n",
    "split_data = True"
   ]
  },
  {
   "cell_type": "code",
   "execution_count": 542,
   "id": "10a274fa",
   "metadata": {},
   "outputs": [
    {
     "name": "stdout",
     "output_type": "stream",
     "text": [
      "Correlation\n",
      "[0.5600174847286669, 0.5572153808914947, 0.5749675394683829, 0.5705316655879499, 0.2813536811083175, 0.5895608792403082, 0.568306584133312]\n",
      "[4 1 0 6 3 2 5]\n",
      "['Vis' 'Age' 'Gender(1=F)' 'Disease (CF=1,H=2,copd=3)' 'Sub' 'BMI' 'FEV1%']\n",
      "0.5288504593083474\n",
      "variance:  0.010305322340470265\n"
     ]
    }
   ],
   "source": [
    "import numpy as np\n",
    "import matplotlib.pyplot as plt\n",
    "import pandas as pd\n",
    "import statsmodels.api as sm\n",
    "\n",
    "#dataset = pd.read_csv('/Users/soniasharapova/Documents/FatiResearch/combinedCSV/fatty/combDiaFatty.csv')\n",
    "\n",
    "\n",
    "def getTrainTest(csv, labels, disease):\n",
    "    #print(csv)\n",
    "    #print(csv.loc[:, labels])\n",
    "\n",
    "    csv = csv.loc[:, labels]\n",
    "\n",
    "    #csv = csv[0][features]\n",
    "    #newDataset = csv[:,features]\n",
    "    X = csv.iloc[:, :-1].values\n",
    "    #print(X)\n",
    "    y = csv.iloc[:, -1].values    # split into train and test sets\n",
    "    #print(y)\n",
    "    X_train, X_test, y_train, y_test = train_test_split(X, y, test_size=0.33, shuffle=False)\n",
    "    features = y\n",
    "    \n",
    "    return X_train, X_test, y_train, y_test\n",
    "\n",
    "\n",
    "def splitByDis(csv, dis):\n",
    "    csvSubset = pd.DataFrame()\n",
    "        \n",
    "    new_column_name = \"Disease (CF=1,H=2,copd=3)\"\n",
    "    new_val = csv.columns.get_loc(new_column_name)\n",
    "\n",
    "    index = new_val\n",
    "    for row in csv.iterrows():\n",
    "        if row[1][index] == float(dis):\n",
    "            #print(row[1])\n",
    "            csvSubset = csvSubset.append(row[1])\n",
    "            #print(csvSubset)\n",
    "    csvSubset = pd.DataFrame(data=csvSubset)\n",
    "    #print(csvSubset)\n",
    "    return csvSubset\n",
    "\n",
    "def convertLabels(csv, features):\n",
    "    data = read_csv(csv, header=None)\n",
    "    dataset = data.values\n",
    "    #print(dataset.shape)\n",
    "    #print(dataset[:,features])\n",
    "    labels = dataset[0][features]\n",
    "    \n",
    "    #newDataset = dataset[:,features]\n",
    "    \n",
    "    #print(features)\n",
    "    #print(labels)\n",
    "    \n",
    "    return labels\n",
    "\n",
    "\n",
    "def predictions(csv, feats, disease):\n",
    "    \n",
    "    dataset = pd.read_csv(csv)\n",
    "    dataset = splitByDis(dataset, disease)\n",
    "    \n",
    "    labels = convertLabels(csv, feats)\n",
    "    X_train, X_test, y_train, y_test = getTrainTest(dataset, labels, disease)\n",
    "    \n",
    "    #model = svm.SVR()\n",
    "    #model = sm.OLS(y_train, X_train).fit() ## sm.OLS(output, input)\n",
    "    #model.fit(X_train, y_train)\n",
    "    model = LinearRegression()\n",
    "    #model = RandomForestRegressor()\n",
    "    model.fit(X_train, y_train)\n",
    "    \n",
    "    \n",
    "\n",
    "    y_pred = model.predict(X_test)\n",
    "    pred = np.linalg.norm(y_pred - np.array(y_test).astype(float))\n",
    "    #print(pred)\n",
    "    #print(y_test)\n",
    "    corr = correlation(y_pred, y_test)\n",
    "    return(pred, y_test, corr)\n",
    "\n",
    "import seaborn as sns\n",
    "import matplotlib.pyplot as plt\n",
    "\n",
    "\n",
    "def correlation(y_pred, y_test):\n",
    "    covariance = np.cov(y_pred, y_test)\n",
    "    #print(\"Covariance matrix of x:\\n\", np.cov(a))\n",
    "    #print(\"\\nCovariance matrix of the said arrays:\\n\", covariance)\n",
    "\n",
    "    pred = ['y_pred', 'y_test']\n",
    "    \n",
    "    correlation = abs(np.corrcoef(y_pred, y_test))\n",
    "    # plotting correlation heatmap\n",
    "    #dataplot = sns.heatmap(correlation, cmap=\"YlGnBu\", annot=True, vmax=1, vmin=-1, xticklabels=pred, yticklabels=pred)\n",
    "  \n",
    "    #displaying heatmap\n",
    "    #plt.show()\n",
    "    \n",
    "    return(correlation[0][1])\n",
    "    \n",
    "def correlationArray(correlation):\n",
    "    return correlation[0][1]\n",
    "\n",
    "def corrAverage(correlationArray):\n",
    "    sumCorr = 0\n",
    "    #print(x.type())\n",
    "    for x in correlationArray:\n",
    "        sumCorr = sumCorr + abs(float(x))\n",
    "    mean = sumCorr / len(correlationArray)\n",
    "    return mean\n",
    "    \n",
    "def bestFeatsDis(csv, feats, disease):\n",
    "    featurePred=[]\n",
    "    featureCorrs=[]\n",
    "    featsCopy = feats\n",
    "    length = len(feats)\n",
    "    \n",
    "    for x in range(length-1):\n",
    "        featsCopy = featsCopy[:x] + featsCopy[(x+1):]\n",
    "        predict = predictions(csv, featsCopy, disease)\n",
    "        featurePred.append(predict[0])\n",
    "        featureCorrs.append(predict[2])\n",
    "        featsCopy = []\n",
    "        featsCopy = feats   \n",
    "        \n",
    "    #print(\"Prediction\")\n",
    "    #print(featurePred)\n",
    "    #print(predict[1])\n",
    "\n",
    "    #featurePred shows the prediction if this feature was removed. If score is low, this means prediction would be lower if this was removed\n",
    "    \n",
    "    L = [ (featurePred[i],i) for i in range(len(featurePred)) ]\n",
    "    L.sort()\n",
    "    sorted_l,permutationL = zip(*L)\n",
    "    permutationNpL = np.array(permutationL)\n",
    "    #print(permutationNpL)\n",
    "    #print(convertLabels(csv, permutationNpL))\n",
    "    #featureCorrs shows the prediction if this feature was removed. If score is low, this means prediction would be lower if this was removed\n",
    "\n",
    "    \n",
    "    print(\"Correlation\")\n",
    "    print(featureCorrs)\n",
    "\n",
    "    N = [ (abs(featureCorrs[j]),j) for j in range(len(featureCorrs)) ]\n",
    "    N.sort()\n",
    "    sorted_n,permutationN = zip(*N)\n",
    "    permutationNpN = np.array(permutationN)\n",
    "        \n",
    "    print(permutationNpN)\n",
    "    print(convertLabels(csv, permutationNpN))\n",
    "\n",
    "    featurePred = np.array(featurePred)\n",
    "   \n",
    "    '''a = np.array(featurePred)\n",
    "    print(\"Shape of array:\\n\", np.shape(a))\n",
    "    print(\"Covariance matrix of x:\\n\", np.cov(a))'''\n",
    "\n",
    "    corrAvg = 0.0\n",
    "    corrAvg = corrAverage(featureCorrs)\n",
    "    #return permutationNpL, permutationNpN\n",
    "    \n",
    "    print(corrAvg)\n",
    "    print(\"variance: \", np.var(featureCorrs))\n",
    "\n",
    "    return(corrAvg)\n",
    "\n",
    "features = [0,1,2,3,4,5,6,7]\n",
    "predsCOPD = bestFeatsDis('/Users/soniasharapova/Documents/FatiResearch/combinedCSV/fatty/combDiaFatty.csv', features, 1)\n",
    "#print(convertLabels('/Users/soniasharapova/Documents/FatiResearch/combinedCSV/fatty/combDiaFatty.csv', predsCOPD[0]))\n",
    "#print(convertLabels('/Users/soniasharapova/Documents/FatiResearch/combinedCSV/fatty/combDiaFatty.csv', predsCOPD[1]))\n",
    "\n"
   ]
  },
  {
   "cell_type": "markdown",
   "id": "986683bc",
   "metadata": {},
   "source": [
    "# Combined"
   ]
  },
  {
   "cell_type": "markdown",
   "id": "ec199cbf",
   "metadata": {},
   "source": [
    "Fatty"
   ]
  },
  {
   "cell_type": "code",
   "execution_count": 543,
   "id": "72bafdde",
   "metadata": {},
   "outputs": [],
   "source": [
    "features = [0,1,2,3,4,5,6,7]"
   ]
  },
  {
   "cell_type": "code",
   "execution_count": 544,
   "id": "2e294a6b",
   "metadata": {},
   "outputs": [
    {
     "name": "stdout",
     "output_type": "stream",
     "text": [
      "Correlation\n",
      "[0.5600174847286669, 0.5572153808914947, 0.5749675394683829, 0.5705316655879499, 0.2813536811083175, 0.5895608792403082, 0.568306584133312]\n",
      "[4 1 0 6 3 2 5]\n",
      "['Vis' 'Age' 'Gender(1=F)' 'Disease (CF=1,H=2,copd=3)' 'Sub' 'BMI' 'FEV1%']\n",
      "0.5288504593083474\n",
      "variance:  0.010305322340470265\n",
      "-------------\n",
      "Correlation\n",
      "[0.7786979089986925, 0.7967328785608243, 0.6554695327455743, 0.7863866226767174, 0.05312060009703143, 0.47813301613541287, 0.7968234913643207]\n",
      "[4 5 2 0 3 1 6]\n",
      "['Vis' 'FEV1%' 'BMI' 'Gender(1=F)' 'Sub' 'Age' 'Disease (CF=1,H=2,copd=3)']\n",
      "0.6207662929397962\n",
      "variance:  0.06544329492189596\n",
      "-------------\n",
      "Correlation\n",
      "[0.4850846096402811, 0.34439218024411744, 0.47396361243946805, 0.5452100072854054, 0.5083640217171398, 0.4867456008617312, 0.4906919659790554]\n",
      "[1 2 0 5 6 4 3]\n",
      "['Age' 'BMI' 'Gender(1=F)' 'FEV1%' 'Disease (CF=1,H=2,copd=3)' 'Vis' 'Sub']\n",
      "0.4763502854524569\n",
      "variance:  0.0033678875915121634\n",
      "-------------\n"
     ]
    }
   ],
   "source": [
    "predsDiaFCF = bestFeatsDis('/Users/soniasharapova/Documents/FatiResearch/combinedCSV/fatty/combDiaFatty.csv', features, 1)\n",
    "#print(convertLabels('/Users/soniasharapova/Documents/FatiResearch/combinedCSV/fatty/combDiaFatty.csv', predsDiaFCF))\n",
    "print(\"-------------\")\n",
    "predsDiaFHealthy = bestFeatsDis('/Users/soniasharapova/Documents/FatiResearch/combinedCSV/fatty/combDiaFatty.csv', features, 2)\n",
    "#print(convertLabels('/Users/soniasharapova/Documents/FatiResearch/combinedCSV/fatty/combDiaFatty.csv', predsDiaFHealthy))\n",
    "print(\"-------------\")\n",
    "predsDiaFCOPD = bestFeatsDis('/Users/soniasharapova/Documents/FatiResearch/combinedCSV/fatty/combDiaFatty.csv', features, 3)\n",
    "#print(convertLabels('/Users/soniasharapova/Documents/FatiResearch/combinedCSV/fatty/combDiaFatty.csv', predsDiaFCOPD))\n",
    "print(\"-------------\")"
   ]
  },
  {
   "cell_type": "code",
   "execution_count": 545,
   "id": "2000a65c",
   "metadata": {},
   "outputs": [
    {
     "name": "stdout",
     "output_type": "stream",
     "text": [
      "Correlation\n",
      "[0.34275907048458265, 0.7292553120928807, 0.7295792360707828, 0.6448297314703745, 0.4438295419634945, 0.6624456475395205, 0.702301235980601]\n",
      "[0 4 3 5 6 1 2]\n",
      "['Gender(1=F)' 'Vis' 'Sub' 'FEV1%' 'Disease (CF=1,H=2,copd=3)' 'Age' 'BMI']\n",
      "0.6078571108003195\n",
      "variance:  0.02000034131125693\n",
      "-------------\n",
      "Correlation\n",
      "[0.052100738008495684, 0.5615602922589971, 0.4333060143587857, 0.6476015761292223, 0.5793186944776886, 0.6451492635880504, 0.5798039233002242]\n",
      "[0 2 1 4 6 5 3]\n",
      "['Gender(1=F)' 'BMI' 'Age' 'Vis' 'Disease (CF=1,H=2,copd=3)' 'FEV1%' 'Sub']\n",
      "0.4998343574459234\n",
      "variance:  0.037766567085400674\n",
      "-------------\n",
      "Correlation\n",
      "[0.27610448781913943, 0.043836373391699664, 0.44490001781353505, 0.5225490004611386, 0.2809113596440854, 0.4751771918051641, 0.2822332065360919]\n",
      "[1 0 4 6 2 5 3]\n",
      "['Age' 'Gender(1=F)' 'Vis' 'Disease (CF=1,H=2,copd=3)' 'BMI' 'FEV1%' 'Sub']\n",
      "0.3322445196386935\n",
      "variance:  0.02297199888719661\n",
      "-------------\n"
     ]
    }
   ],
   "source": [
    "predsPecsFCF = bestFeatsDis('/Users/soniasharapova/Documents/FatiResearch/combinedCSV/fatty/combPecsFatty.csv', features, 1)\n",
    "print(\"-------------\")\n",
    "predsPecsFHealthy = bestFeatsDis('/Users/soniasharapova/Documents/FatiResearch/combinedCSV/fatty/combPecsFatty.csv', features, 2)\n",
    "print(\"-------------\")\n",
    "predsPecsFCOPD = bestFeatsDis('/Users/soniasharapova/Documents/FatiResearch/combinedCSV/fatty/combPecsFatty.csv', features, 3)\n",
    "print(\"-------------\")"
   ]
  },
  {
   "cell_type": "code",
   "execution_count": 546,
   "id": "a5bc0260",
   "metadata": {},
   "outputs": [
    {
     "name": "stdout",
     "output_type": "stream",
     "text": [
      "Correlation\n",
      "[0.5227015912327785, 0.7639289367287504, 0.25940808076722566, 0.3216862934179975, 0.31522576285110343, 0.5533215323390014, 0.24571847995275542]\n",
      "[6 2 4 3 0 5 1]\n",
      "['Disease (CF=1,H=2,copd=3)' 'BMI' 'Vis' 'Sub' 'Gender(1=F)' 'FEV1%' 'Age']\n",
      "0.4259986681842303\n",
      "variance:  0.03188064451875868\n",
      "-------------\n",
      "Correlation\n",
      "[0.3149694970429295, 0.33045867750589847, 0.048798643373222, 0.6399857727987376, 0.1805647883031071, 0.2688960418169388, 0.2155721309250378]\n",
      "[2 4 6 5 0 1 3]\n",
      "['BMI' 'Vis' 'Disease (CF=1,H=2,copd=3)' 'FEV1%' 'Gender(1=F)' 'Age' 'Sub']\n",
      "0.2856065073951245\n",
      "variance:  0.02867919240464616\n",
      "-------------\n",
      "Correlation\n",
      "[0.3093384436153423, 0.10342601764542828, 0.15859083171437807, 0.27089748690137155, 0.3415453203731132, 0.32648198666579176, 0.1948807475691448]\n",
      "[1 2 6 3 0 5 4]\n",
      "['Age' 'BMI' 'Disease (CF=1,H=2,copd=3)' 'Sub' 'Gender(1=F)' 'FEV1%' 'Vis']\n",
      "0.24359440492636714\n",
      "variance:  0.007254039230971254\n",
      "-------------\n"
     ]
    }
   ],
   "source": [
    "predsParaFCF = bestFeatsDis('/Users/soniasharapova/Documents/FatiResearch/combinedCSV/fatty/combParaFatty.csv', features, 1)\n",
    "print(\"-------------\")\n",
    "predsParaFHealthy = bestFeatsDis('/Users/soniasharapova/Documents/FatiResearch/combinedCSV/fatty/combParaFatty.csv', features, 2)\n",
    "print(\"-------------\")\n",
    "predsParaFCOPD = bestFeatsDis('/Users/soniasharapova/Documents/FatiResearch/combinedCSV/fatty/combParaFatty.csv', features, 3)\n",
    "print(\"-------------\")"
   ]
  },
  {
   "cell_type": "code",
   "execution_count": 547,
   "id": "bbf51ff1",
   "metadata": {},
   "outputs": [
    {
     "name": "stdout",
     "output_type": "stream",
     "text": [
      "Correlation\n",
      "[0.009574474023372909, 0.754606523968775, 0.5156437342207632, 0.5372990358185793, 0.6815134676126055, 0.2642630134901144, 0.39193746875394264]\n",
      "[0 5 6 2 3 4 1]\n",
      "['Gender(1=F)' 'FEV1%' 'Disease (CF=1,H=2,copd=3)' 'BMI' 'Sub' 'Vis' 'Age']\n",
      "0.4506911025554504\n",
      "variance:  0.05573637541324556\n",
      "-------------\n",
      "Correlation\n",
      "[0.10601262341376232, 0.08617959449267554, 0.07137208523031172, 0.1032664044917293, 0.10406690655213162, 0.07220470068529695, 0.015094858524288504]\n",
      "[6 2 5 1 3 4 0]\n",
      "['Disease (CF=1,H=2,copd=3)' 'BMI' 'FEV1%' 'Age' 'Sub' 'Vis' 'Gender(1=F)']\n",
      "0.07974245334145658\n",
      "variance:  0.0008832580309447957\n",
      "-------------\n",
      "Correlation\n",
      "[0.7888753679968006, 0.6374523183820726, 0.8304602407035137, 0.8659486764731475, 0.7958241368380261, 0.788003027073508, 0.8028444626543051]\n",
      "[1 5 0 4 6 2 3]\n",
      "['Age' 'FEV1%' 'Gender(1=F)' 'Vis' 'Disease (CF=1,H=2,copd=3)' 'BMI' 'Sub']\n",
      "0.7870583185887677\n",
      "variance:  0.004402800966419281\n",
      "-------------\n"
     ]
    }
   ],
   "source": [
    "predsAbdFCF = bestFeatsDis('/Users/soniasharapova/Documents/FatiResearch/combinedCSV/fatty/combAbdFatty.csv', features, 1)\n",
    "print(\"-------------\")\n",
    "predsAbdFHealthy = bestFeatsDis('/Users/soniasharapova/Documents/FatiResearch/combinedCSV/fatty/combAbdFatty.csv', features, 2)\n",
    "print(\"-------------\")\n",
    "predsAbdFCOPD = bestFeatsDis('/Users/soniasharapova/Documents/FatiResearch/combinedCSV/fatty/combAbdFatty.csv', features, 3)\n",
    "print(\"-------------\")"
   ]
  },
  {
   "cell_type": "code",
   "execution_count": null,
   "id": "1fa318cd",
   "metadata": {},
   "outputs": [],
   "source": []
  },
  {
   "cell_type": "code",
   "execution_count": 548,
   "id": "ee5490a5",
   "metadata": {},
   "outputs": [
    {
     "name": "stdout",
     "output_type": "stream",
     "text": [
      "[0.7870583185887677, 0.6207662929397962, 0.6078571108003195, 0.5288504593083474, 0.4998343574459234, 0.4763502854524569, 0.4506911025554504, 0.4259986681842303, 0.3322445196386935, 0.2856065073951245, 0.24359440492636714, 0.07974245334145658]\n"
     ]
    },
    {
     "data": {
      "image/png": "[encoded data removed]",
      "text/plain": [
       "<Figure size 432x288 with 1 Axes>"
      ]
     },
     "metadata": {
      "needs_background": "light"
     },
     "output_type": "display_data"
    },
    {
     "name": "stdout",
     "output_type": "stream",
     "text": [
      "Prediction Ranking for Fatty% by Muscle Group and Disease\n"
     ]
    }
   ],
   "source": [
    "\n",
    "predsFatty = [[predsDiaFCF, \"Dia CF\"], [predsDiaFHealthy, \"Dia Healthy\"], [predsDiaFCOPD, \"Dia COPD\"], \n",
    "               [predsPecsFCF, \"Pecs CF\"], [predsPecsFHealthy, \"Pecs Healthy\"],[predsPecsFCOPD,\"Pecs COPD\"],\n",
    "               [predsParaFCF, \"Para CF\"],[predsParaFHealthy, \"Para Healthy\"], [predsParaFCOPD, \"Para COPD\"],\n",
    "               [predsAbdFCF, \"Abd CF\"],[predsAbdFHealthy, \"Abd Healthy\"],[predsAbdFCOPD, \"Abd COPD\"]]\n",
    "\n",
    "def getKey(item):\n",
    "    return item[0]\n",
    "\n",
    "sortedPred = sorted(predsFatty, key=getKey, reverse = True)\n",
    "\n",
    "def split(predictions):\n",
    "    pred=[]\n",
    "    name=[]\n",
    "    for x in predictions:\n",
    "        pred.append(x[0])\n",
    "        name.append(x[1])\n",
    "    return pred, name\n",
    "\n",
    "pair = split(sortedPred)\n",
    "preds = pair[0]\n",
    "names = pair[1]\n",
    "\n",
    "def plotCorrsComb(preds, names, title):\n",
    "    import matplotlib.pyplot as plt\n",
    "    dates = preds\n",
    "    height = preds\n",
    "    bars = names\n",
    "    y_pos = np.arange(len(bars))\n",
    "    plt.bar(y_pos, height)\n",
    "    plt.xticks(y_pos, bars)\n",
    "    plt.ylabel(\"Correlation\")\n",
    "    plt.xlabel(\"Muscle Group\")\n",
    "\n",
    "    plt.title(title)\n",
    "    plt.gcf().autofmt_xdate()\n",
    "    plt.show()\n",
    "    \n",
    "print(preds)\n",
    "plotCorrsComb(preds, names, 'Prediction Ranking for Fatty%') \n",
    "print('Prediction Ranking for Fatty% by Muscle Group and Disease')"
   ]
  },
  {
   "cell_type": "code",
   "execution_count": 549,
   "id": "d98d73d3",
   "metadata": {},
   "outputs": [],
   "source": [
    "features = [0,1,2,3,4,5,6]"
   ]
  },
  {
   "cell_type": "code",
   "execution_count": 550,
   "id": "18745a3e",
   "metadata": {},
   "outputs": [
    {
     "name": "stdout",
     "output_type": "stream",
     "text": [
      "Correlation\n",
      "[0.32660867794490644, 0.46683033761829706, 0.494927157797994, 0.32052338577032496, 0.49050436590256846, 0.42604248246292376]\n",
      "[3 0 5 1 4 2]\n",
      "['BMI' 'Gender(1=F)' 'Disease (CF=1,H=2,copd=3)' 'Age' 'FEV1%' 'Height']\n",
      "0.4209060679161691\n",
      "variance:  0.0052378577936921175\n",
      "-------------\n",
      "Correlation\n",
      "[0.4105441403262274, 0.3303349852332617, 0.4751227222480227, 0.4834749563829727, 0.1307121336676992, 0.4698084723674198]\n",
      "[4 1 0 5 2 3]\n",
      "['FEV1%' 'Age' 'Gender(1=F)' 'Disease (CF=1,H=2,copd=3)' 'Height' 'BMI']\n",
      "0.38333290170426726\n",
      "variance:  0.015549718282206672\n",
      "-------------\n",
      "Correlation\n",
      "[0.7542404703347233, 0.7254936737714281, 0.45493352204540927, 0.777357843544639, 0.745309709400198, 0.7447096814688894]\n",
      "[2 1 5 4 0 3]\n",
      "['Height' 'Age' 'Disease (CF=1,H=2,copd=3)' 'FEV1%' 'Gender(1=F)' 'BMI']\n",
      "0.7003408167608812\n",
      "variance:  0.012280833174338953\n",
      "-------------\n"
     ]
    }
   ],
   "source": [
    "predsDiaMCF = bestFeatsDis('/Users/soniasharapova/Documents/FatiResearch/combinedCSV/muscle/combDiaM.csv', features, 1)\n",
    "print(\"-------------\")\n",
    "predsDiaMHealthy = bestFeatsDis('/Users/soniasharapova/Documents/FatiResearch/combinedCSV/muscle/combDiaM.csv', features, 2)\n",
    "print(\"-------------\")\n",
    "predsDiaMCOPD = bestFeatsDis('/Users/soniasharapova/Documents/FatiResearch/combinedCSV/muscle/combDiaM.csv', features, 3)\n",
    "print(\"-------------\")"
   ]
  },
  {
   "cell_type": "code",
   "execution_count": 551,
   "id": "be07c24d",
   "metadata": {},
   "outputs": [
    {
     "name": "stdout",
     "output_type": "stream",
     "text": [
      "Correlation\n",
      "[0.4793830579455198, 0.07559454420512875, 0.2744695402078185, 0.4609189509941178, 0.5133666996570402, 0.4668681257212878]\n",
      "[1 2 3 5 0 4]\n",
      "['Age' 'Height' 'BMI' 'Disease (CF=1,H=2,copd=3)' 'Gender(1=F)' 'FEV1%']\n",
      "0.3784334864551522\n",
      "variance:  0.0242570420589745\n",
      "-------------\n",
      "Correlation\n",
      "[0.02732951240192682, 0.4414048547365654, 0.35503132139919313, 0.5994706531934915, 0.45869127347736144, 0.5163105991808755]\n",
      "[0 2 1 4 5 3]\n",
      "['Gender(1=F)' 'Height' 'Age' 'FEV1%' 'Disease (CF=1,H=2,copd=3)' 'BMI']\n",
      "0.3997063690649023\n",
      "variance:  0.03323011360205582\n",
      "-------------\n",
      "Correlation\n",
      "[0.7025123651381365, 0.6452920580244303, 0.6644399809049878, 0.5052760899451408, 0.5194526432065889, 0.5213839596370217]\n",
      "[3 4 5 1 2 0]\n",
      "['BMI' 'FEV1%' 'Disease (CF=1,H=2,copd=3)' 'Age' 'Height' 'Gender(1=F)']\n",
      "0.5930595161427177\n",
      "variance:  0.0063441037321897605\n",
      "-------------\n"
     ]
    }
   ],
   "source": [
    "predsPecsMCF = bestFeatsDis('/Users/soniasharapova/Documents/FatiResearch/combinedCSV/muscle/combPecsM.csv', features, 1)\n",
    "print(\"-------------\")\n",
    "predsPecsMHealthy = bestFeatsDis('/Users/soniasharapova/Documents/FatiResearch/combinedCSV/muscle/combPecsM.csv', features, 2)\n",
    "print(\"-------------\")\n",
    "predsPecsMCOPD = bestFeatsDis('/Users/soniasharapova/Documents/FatiResearch/combinedCSV/muscle/combPecsM.csv', features, 3)\n",
    "print(\"-------------\")"
   ]
  },
  {
   "cell_type": "code",
   "execution_count": 563,
   "id": "5831ac5f",
   "metadata": {},
   "outputs": [
    {
     "ename": "TypeError",
     "evalue": "predictions() takes 2 positional arguments but 3 were given",
     "output_type": "error",
     "traceback": [
      "\u001b[0;31m---------------------------------------------------------------------------\u001b[0m",
      "\u001b[0;31mTypeError\u001b[0m                                 Traceback (most recent call last)",
      "\u001b[0;32m<ipython-input-563-88f8d4ff3d94>\u001b[0m in \u001b[0;36m<module>\u001b[0;34m\u001b[0m\n\u001b[0;32m----> 1\u001b[0;31m \u001b[0mpredsParaMCF\u001b[0m \u001b[0;34m=\u001b[0m \u001b[0mbestFeatsDis\u001b[0m\u001b[0;34m(\u001b[0m\u001b[0;34m'/Users/soniasharapova/Documents/FatiResearch/combinedCSV/muscle/combParaM.csv'\u001b[0m\u001b[0;34m,\u001b[0m \u001b[0mfeatures\u001b[0m\u001b[0;34m,\u001b[0m \u001b[0;36m1\u001b[0m\u001b[0;34m)\u001b[0m\u001b[0;34m\u001b[0m\u001b[0;34m\u001b[0m\u001b[0m\n\u001b[0m\u001b[1;32m      2\u001b[0m \u001b[0mprint\u001b[0m\u001b[0;34m(\u001b[0m\u001b[0;34m\"-------------\"\u001b[0m\u001b[0;34m)\u001b[0m\u001b[0;34m\u001b[0m\u001b[0;34m\u001b[0m\u001b[0m\n\u001b[1;32m      3\u001b[0m \u001b[0mpredsParaMHealthy\u001b[0m \u001b[0;34m=\u001b[0m \u001b[0mbestFeatsDis\u001b[0m\u001b[0;34m(\u001b[0m\u001b[0;34m'/Users/soniasharapova/Documents/FatiResearch/combinedCSV/muscle/combParaM.csv'\u001b[0m\u001b[0;34m,\u001b[0m \u001b[0mfeatures\u001b[0m\u001b[0;34m,\u001b[0m \u001b[0;36m2\u001b[0m\u001b[0;34m)\u001b[0m\u001b[0;34m\u001b[0m\u001b[0;34m\u001b[0m\u001b[0m\n\u001b[1;32m      4\u001b[0m \u001b[0mprint\u001b[0m\u001b[0;34m(\u001b[0m\u001b[0;34m\"-------------\"\u001b[0m\u001b[0;34m)\u001b[0m\u001b[0;34m\u001b[0m\u001b[0;34m\u001b[0m\u001b[0m\n\u001b[1;32m      5\u001b[0m \u001b[0mpredsParaMCOPD\u001b[0m \u001b[0;34m=\u001b[0m \u001b[0mbestFeatsDis\u001b[0m\u001b[0;34m(\u001b[0m\u001b[0;34m'/Users/soniasharapova/Documents/FatiResearch/combinedCSV/muscle/combParaM.csv'\u001b[0m\u001b[0;34m,\u001b[0m \u001b[0mfeatures\u001b[0m\u001b[0;34m,\u001b[0m \u001b[0;36m3\u001b[0m\u001b[0;34m)\u001b[0m\u001b[0;34m\u001b[0m\u001b[0;34m\u001b[0m\u001b[0m\n",
      "\u001b[0;32m<ipython-input-542-978a2e1ca241>\u001b[0m in \u001b[0;36mbestFeatsDis\u001b[0;34m(csv, feats, disease)\u001b[0m\n\u001b[1;32m    119\u001b[0m     \u001b[0;32mfor\u001b[0m \u001b[0mx\u001b[0m \u001b[0;32min\u001b[0m \u001b[0mrange\u001b[0m\u001b[0;34m(\u001b[0m\u001b[0mlength\u001b[0m\u001b[0;34m-\u001b[0m\u001b[0;36m1\u001b[0m\u001b[0;34m)\u001b[0m\u001b[0;34m:\u001b[0m\u001b[0;34m\u001b[0m\u001b[0;34m\u001b[0m\u001b[0m\n\u001b[1;32m    120\u001b[0m         \u001b[0mfeatsCopy\u001b[0m \u001b[0;34m=\u001b[0m \u001b[0mfeatsCopy\u001b[0m\u001b[0;34m[\u001b[0m\u001b[0;34m:\u001b[0m\u001b[0mx\u001b[0m\u001b[0;34m]\u001b[0m \u001b[0;34m+\u001b[0m \u001b[0mfeatsCopy\u001b[0m\u001b[0;34m[\u001b[0m\u001b[0;34m(\u001b[0m\u001b[0mx\u001b[0m\u001b[0;34m+\u001b[0m\u001b[0;36m1\u001b[0m\u001b[0;34m)\u001b[0m\u001b[0;34m:\u001b[0m\u001b[0;34m]\u001b[0m\u001b[0;34m\u001b[0m\u001b[0;34m\u001b[0m\u001b[0m\n\u001b[0;32m--> 121\u001b[0;31m         \u001b[0mpredict\u001b[0m \u001b[0;34m=\u001b[0m \u001b[0mpredictions\u001b[0m\u001b[0;34m(\u001b[0m\u001b[0mcsv\u001b[0m\u001b[0;34m,\u001b[0m \u001b[0mfeatsCopy\u001b[0m\u001b[0;34m,\u001b[0m \u001b[0mdisease\u001b[0m\u001b[0;34m)\u001b[0m\u001b[0;34m\u001b[0m\u001b[0;34m\u001b[0m\u001b[0m\n\u001b[0m\u001b[1;32m    122\u001b[0m         \u001b[0mfeaturePred\u001b[0m\u001b[0;34m.\u001b[0m\u001b[0mappend\u001b[0m\u001b[0;34m(\u001b[0m\u001b[0mpredict\u001b[0m\u001b[0;34m[\u001b[0m\u001b[0;36m0\u001b[0m\u001b[0;34m]\u001b[0m\u001b[0;34m)\u001b[0m\u001b[0;34m\u001b[0m\u001b[0;34m\u001b[0m\u001b[0m\n\u001b[1;32m    123\u001b[0m         \u001b[0mfeatureCorrs\u001b[0m\u001b[0;34m.\u001b[0m\u001b[0mappend\u001b[0m\u001b[0;34m(\u001b[0m\u001b[0mpredict\u001b[0m\u001b[0;34m[\u001b[0m\u001b[0;36m2\u001b[0m\u001b[0;34m]\u001b[0m\u001b[0;34m)\u001b[0m\u001b[0;34m\u001b[0m\u001b[0;34m\u001b[0m\u001b[0m\n",
      "\u001b[0;31mTypeError\u001b[0m: predictions() takes 2 positional arguments but 3 were given"
     ]
    }
   ],
   "source": [
    "predsParaMCF = bestFeatsDis('/Users/soniasharapova/Documents/FatiResearch/combinedCSV/muscle/combParaM.csv', features, 1)\n",
    "print(\"-------------\")\n",
    "predsParaMHealthy = bestFeatsDis('/Users/soniasharapova/Documents/FatiResearch/combinedCSV/muscle/combParaM.csv', features, 2)\n",
    "print(\"-------------\")\n",
    "predsParaMCOPD = bestFeatsDis('/Users/soniasharapova/Documents/FatiResearch/combinedCSV/muscle/combParaM.csv', features, 3)\n",
    "print(\"-------------\")"
   ]
  },
  {
   "cell_type": "code",
   "execution_count": 553,
   "id": "a5c74359",
   "metadata": {},
   "outputs": [
    {
     "name": "stdout",
     "output_type": "stream",
     "text": [
      "Correlation\n",
      "[0.45777130478554157, 0.5468828006228927, 0.5413423081620191, 0.48280224037717345, 0.5204660540740692, 0.5777490551854697]\n",
      "[0 3 4 2 1 5]\n",
      "['Gender(1=F)' 'BMI' 'FEV1%' 'Height' 'Age' 'Disease (CF=1,H=2,copd=3)']\n",
      "0.5211689605345277\n",
      "variance:  0.0016268724474818367\n",
      "-------------\n",
      "Correlation\n",
      "[0.18833912809810022, 0.3419725654287832, 0.41183109470992113, 0.5642030629255976, 0.4434674472950646, 0.44022722682714155]\n",
      "[0 1 2 5 4 3]\n",
      "['Gender(1=F)' 'Age' 'Height' 'Disease (CF=1,H=2,copd=3)' 'FEV1%' 'BMI']\n",
      "0.3983400875474347\n",
      "variance:  0.013126874238303768\n",
      "-------------\n",
      "Correlation\n",
      "[0.24431809444866595, 0.5424851699560207, 0.06991295210084118, 0.1898171597667451, 0.48548360979282806, 0.5841863460077517]\n",
      "[2 3 0 4 1 5]\n",
      "['Height' 'BMI' 'Gender(1=F)' 'FEV1%' 'Age' 'Disease (CF=1,H=2,copd=3)']\n",
      "0.3527005553454754\n",
      "variance:  0.03758029961732187\n",
      "-------------\n"
     ]
    }
   ],
   "source": [
    "predsAbdMCF = bestFeatsDis('/Users/soniasharapova/Documents/FatiResearch/combinedCSV/muscle/combAbdM.csv', features, 1)\n",
    "print(\"-------------\")\n",
    "predsAbdMHealthy = bestFeatsDis('/Users/soniasharapova/Documents/FatiResearch/combinedCSV/muscle/combAbdM.csv', features, 2)\n",
    "print(\"-------------\")\n",
    "predsAbdMCOPD = bestFeatsDis('/Users/soniasharapova/Documents/FatiResearch/combinedCSV/muscle/combAbdM.csv', features, 3)\n",
    "print(\"-------------\")"
   ]
  },
  {
   "cell_type": "code",
   "execution_count": 554,
   "id": "bcfb15a2",
   "metadata": {},
   "outputs": [
    {
     "name": "stdout",
     "output_type": "stream",
     "text": [
      "[0.7003408167608812, 0.6515232171107131, 0.5930595161427177, 0.5211689605345277, 0.47313073297643554, 0.4209060679161691, 0.3997063690649023, 0.3983400875474347, 0.38333290170426726, 0.3784334864551522, 0.3527005553454754, 0.2526973036458073]\n"
     ]
    },
    {
     "data": {
      "image/png": "[encoded data removed]",
      "text/plain": [
       "<Figure size 432x288 with 1 Axes>"
      ]
     },
     "metadata": {
      "needs_background": "light"
     },
     "output_type": "display_data"
    },
    {
     "name": "stdout",
     "output_type": "stream",
     "text": [
      "Prediction Ranking for Muscle Density by Muscle Group and Disease\n"
     ]
    }
   ],
   "source": [
    "\n",
    "predsMuscle = [[predsDiaMCF, \"Dia CF\"], [predsDiaMHealthy, \"Dia Healthy\"], [predsDiaMCOPD, \"Dia COPD\"], \n",
    "               [predsPecsMCF, \"Pecs CF\"], [predsPecsMHealthy, \"Pecs Healthy\"],[predsPecsMCOPD,\"Pecs COPD\"],\n",
    "               [predsParaMCF, \"Para CF\"],[predsParaMHealthy, \"Para Healthy\"], [predsParaMCOPD, \"Para COPD\"],\n",
    "               [predsAbdMCF, \"Abd CF\"],[predsAbdMHealthy, \"Abd Healthy\"],[predsAbdMCOPD, \"Abd COPD\"]]\n",
    "\n",
    "\n",
    "sortedPredM = sorted(predsMuscle, key=getKey, reverse = True)\n",
    "\n",
    "pairM = split(sortedPredM)\n",
    "predsM = pairM[0]\n",
    "namesM = pairM[1]    \n",
    "\n",
    "print(predsM)\n",
    "#print(preds)\n",
    "\n",
    "plotCorrsComb(predsM, namesM, 'Prediction Ranking for Muscle Density') \n",
    "print('Prediction Ranking for Muscle Density by Muscle Group and Disease')"
   ]
  },
  {
   "cell_type": "code",
   "execution_count": 564,
   "id": "34b79a25",
   "metadata": {},
   "outputs": [
    {
     "name": "stdout",
     "output_type": "stream",
     "text": [
      "Linear RF:  0.31458392819272724\n",
      "Linear SVR:  0.31088370701818036\n",
      "Linear OLS:  0.3755589747512014\n",
      "Linear Regression:  0.4604450012670403\n"
     ]
    },
    {
     "data": {
      "text/plain": [
       "0.4604450012670403"
      ]
     },
     "execution_count": 564,
     "metadata": {},
     "output_type": "execute_result"
    }
   ],
   "source": [
    "predictionsRF = [0.37917125045892064, 0.16631013315558762, 0.4073437347938263, 0.3753622997570073, 0.38941464449074953, 0.2583246336435315, 0.39044178132336654, 0.09972899338310094, 0.09972899338310094, 0.26692579607424866, 0.47112743892464337, 0.47112743892464337]\n",
    "predictionsSVR = [0.2276079633838847, 0.4852961151716012, 0.0948631350676279, 0.2935754623496015, 0.6048283982850107, 0.30751618849007034, 0.30667394771772816, 0.142165689489194, 0.142165689489194, 0.584071287693524, 0.2709203035403639, 0.2709203035403639]\n",
    "predictionsOLS = [0.4651156651056024, 0.5086696599726305, 0.4870775920068012, 0.5675282390983607, 0.5236811196003011, 0.3157685803654266, 0.422690566906956, 0.2792566874406841, 0.2792566874406841, 0.4446779450371084, 0.10649247701993106, 0.10649247701993106]\n",
    "#predictionsLinReg = [0.5288504593083474, 0.6207662929397962, 0.4763502854524569, 0.6078571108003195, 0.4998343574459234, 0.3322445196386935, 0.4259986681842303, 0.2856065073951245, 0.2856065073951245, 0.4506911025554504, 0.07974245334145658, 0.07974245334145658]\n",
    "\n",
    "predictionsLinReg = predsM\n",
    "\n",
    "def corrMean(pred):\n",
    "    sumPred = 0\n",
    "    for x in pred:\n",
    "        sumPred = sumPred + x\n",
    "    #print(sumPred / len(pred))\n",
    "    return(sumPred / len(pred))\n",
    "\n",
    "def plotCorrs(p1, p2, p3, p4):\n",
    "    import matplotlib.pyplot as plt\n",
    "    plt.plot(p1)\n",
    "    plt.plot(p2)\n",
    "    plt.plot(p3)\n",
    "    plt.plot(p4)\n",
    "    plt.ylabel('Correlation')\n",
    "    plt.xlabel('Variable Removed')\n",
    "    plt.title('Model Comparison for Average Correlation: Combined')\n",
    "    plt.legend(['Random Forest', 'SVR', 'OLS', 'Linear Regression'])\n",
    "\n",
    "    plt.show()\n",
    "    \n",
    "def plotCorr(p, labels):\n",
    "    import matplotlib.pyplot as plt\n",
    "    plt.plot(p)\n",
    "    plt.ylabel('Correlation')\n",
    "    plt.xlabel('Variable Removed')\n",
    "    plt.title('Correlation Between y_test and y_pred')\n",
    "\n",
    "    plt.show()\n",
    "    \n",
    "    height = p\n",
    "    bars = (labels)\n",
    "    y_pos = np.arange(len(bars))\n",
    "\n",
    "    # Create bars\n",
    "    plt.bar(y_pos, height)\n",
    "\n",
    "    # Create names on the x-axis\n",
    "    plt.xticks(y_pos, bars)\n",
    "\n",
    "    # Show graphic\n",
    "    plt.show()\n",
    "    \n",
    "print(\"Linear RF: \", corrMean(predictionsRF))\n",
    "print(\"Linear SVR: \", corrMean(predictionsSVR))\n",
    "print(\"Linear OLS: \", corrMean(predictionsOLS))\n",
    "print(\"Linear Regression: \", corrMean(predictionsLinReg))\n",
    "\n",
    "corrMean(predictionsRF)\n",
    "corrMean(predictionsSVR)\n",
    "corrMean(predictionsOLS)\n",
    "corrMean(predictionsLinReg)\n",
    "#plotCorr(predictionsLinReg, labels) \n"
   ]
  },
  {
   "cell_type": "code",
   "execution_count": 580,
   "id": "7c4c2bb3",
   "metadata": {},
   "outputs": [],
   "source": [
    "import numpy as np\n",
    "import matplotlib.pyplot as plt\n",
    "import pandas as pd\n",
    "import statsmodels.api as sm\n",
    "\n",
    "features = [0,1,2,3,4,5,6,7]\n",
    "\n",
    "\n",
    "def getTrainTest(csv, labels):\n",
    "    #print(csv)\n",
    "    #print(csv.loc[:, labels])\n",
    "\n",
    "    csv = csv.loc[:, labels]\n",
    "\n",
    "    #csv = csv[0][features]\n",
    "    #newDataset = csv[:,features]\n",
    "    X = csv.iloc[:, :-1].values\n",
    "    #print(X)\n",
    "    y = csv.iloc[:, -1].values    # split into train and test sets\n",
    "    #print(y)\n",
    "    X_train, X_test, y_train, y_test = train_test_split(X, y, test_size=0.33, shuffle=False)\n",
    "    features = y\n",
    "    \n",
    "    return X_train, X_test, y_train, y_test\n",
    "\n",
    "\n",
    "def convertLabels(csv, features):\n",
    "    data = read_csv(csv, header=None)\n",
    "    dataset = data.values\n",
    "    #print(dataset.shape)\n",
    "    #print(dataset[:,features])\n",
    "    labels = dataset[0][features]\n",
    "    \n",
    "    #newDataset = dataset[:,features]\n",
    "    \n",
    "    #print(features)\n",
    "    #print(labels)\n",
    "    \n",
    "    return labels\n",
    "\n",
    "\n",
    "def predictions(csv, feats):\n",
    "    \n",
    "    dataset = pd.read_csv(csv)\n",
    "    \n",
    "    labels = convertLabels(csv, feats)\n",
    "    X_train, X_test, y_train, y_test = getTrainTest(dataset, labels)\n",
    "    \n",
    "    #model = sm.OLS(y_train, X_train).fit() ## sm.OLS(output, input)\n",
    "\n",
    "    model = svm.SVR()\n",
    "    #model = LinearRegression()\n",
    "    #model = RandomForestRegressor()\n",
    "    model.fit(X_train, y_train)\n",
    "    \n",
    "    #print(model.summary())\n",
    "\n",
    "    y_pred = model.predict(X_test)\n",
    "    pred = np.linalg.norm(y_pred - np.array(y_test).astype(float))\n",
    "    #print(pred)\n",
    "    #print(y_test)\n",
    "    corr = correlation(y_pred, y_test)\n",
    "    return(pred, y_test, corr)\n",
    "\n",
    "import seaborn as sns\n",
    "import matplotlib.pyplot as plt\n",
    "\n",
    "\n",
    "def correlation(y_pred, y_test):\n",
    "    covariance = np.cov(y_pred, y_test)\n",
    "    #print(\"Covariance matrix of x:\\n\", np.cov(a))\n",
    "    #print(\"\\nCovariance matrix of the said arrays:\\n\", covariance)\n",
    "\n",
    "    pred = ['y_pred', 'y_test']\n",
    "    \n",
    "    correlation = abs(np.corrcoef(y_pred, y_test))\n",
    "    #print(correlationArray(correlation))\n",
    "    return(correlation[0][1])\n",
    "    #sns.heatmap(covariance, annot=True, fmt='g', xticklabels=pred, yticklabels=pred)\n",
    "    #plt.show()\n",
    "    \n",
    "    # plotting correlation heatmap\n",
    "    #dataplot = sns.heatmap(correlation, cmap=\"YlGnBu\", annot=True, vmax=1, vmin=-1, xticklabels=pred, yticklabels=pred)\n",
    "  \n",
    "    # displaying heatmap\n",
    "    #plt.show()\n",
    "    \n",
    "def corrAvgSq(preds):\n",
    "    newPreds = []\n",
    "    for x in preds:\n",
    "        sqare = x^2\n",
    "        newPreds.append(sqare)\n",
    "    return(newPreds)\n",
    "    \n",
    "def correlationArray(correlation):\n",
    "    return correlation[0][1]\n",
    "    \n",
    "\n",
    "def corrAverage(correlationArray):\n",
    "    sumCorr = 0\n",
    "    #print(x.type())\n",
    "    for x in correlationArray:\n",
    "        sumCorr = sumCorr + abs(float(x))\n",
    "    mean = sumCorr / len(correlationArray)\n",
    "    return mean\n",
    "\n",
    "def bestFeats(csv, feats):\n",
    "    featurePred=[]\n",
    "    featureCorrs=[]\n",
    "    featsCopy = feats\n",
    "    length = len(feats)\n",
    "    \n",
    "    for x in range(length-1):\n",
    "        featsCopy = featsCopy[:x] + featsCopy[(x+1):]\n",
    "        predict = predictions(csv, featsCopy)\n",
    "        featurePred.append(predict[0])\n",
    "        featureCorrs.append(predict[2])\n",
    "        featsCopy = []\n",
    "        featsCopy = feats   \n",
    "        \n",
    "    #print(\"Prediction\")\n",
    "    #print(featurePred)\n",
    "\n",
    "    #featurePred shows the prediction if this feature was removed. If score is low, this means prediction would be lower if this was removed\n",
    "    \n",
    "    L = [ (featurePred[i],i) for i in range(len(featurePred)) ]\n",
    "    L.sort()\n",
    "    sorted_l,permutationL = zip(*L)\n",
    "    permutationNpL = np.array(permutationL)\n",
    "    #print(permutationNpL)\n",
    "    #print(convertLabels(csv, permutationNpL))\n",
    "    #featureCorrs shows the prediction if this feature was removed. If score is low, this means prediction would be lower if this was removed\n",
    "\n",
    "    \n",
    "    #print(\"Correlation\")\n",
    "    #print(featureCorrs)\n",
    "\n",
    "    N = [ (featureCorrs[j],j) for j in range(len(featureCorrs)) ]\n",
    "    N.sort()\n",
    "    sorted_n,permutationN = zip(*N)\n",
    "    permutationNpN = np.array(permutationN)\n",
    "        \n",
    "    #print(permutationNpN)\n",
    "    #print(convertLabels(csv, permutationNpN))\n",
    "\n",
    "    featurePred = np.array(featurePred)\n",
    "   \n",
    "    corrAvg = 0.0\n",
    "    corrAvg = corrAverage(featureCorrs)\n",
    "    #return permutationNpL, permutationNpN\n",
    "    print(corrAvg)\n",
    "    print(\"variance: \", np.var(featureCorrs))\n",
    "    #print(featureCorrs)\n",
    "    #print(corrAvgSq(featureCorrs))\n",
    "\n",
    "    return(corrAvg)\n"
   ]
  },
  {
   "cell_type": "markdown",
   "id": "e6d7b0b9",
   "metadata": {},
   "source": [
    "# CF only"
   ]
  },
  {
   "cell_type": "markdown",
   "id": "a63f151f",
   "metadata": {},
   "source": [
    "Fatty"
   ]
  },
  {
   "cell_type": "code",
   "execution_count": 581,
   "id": "22a798ed",
   "metadata": {},
   "outputs": [
    {
     "name": "stdout",
     "output_type": "stream",
     "text": [
      "0.09284815560335057\n",
      "variance:  0.009831768813999778\n",
      "-------------\n",
      "0.4998165738268287\n",
      "variance:  0.003998459470666973\n",
      "-------------\n",
      "0.5953252903624785\n",
      "variance:  0.0026726258292440416\n",
      "-------------\n",
      "0.31335392469046713\n",
      "variance:  0.00932758900528423\n",
      "-------------\n"
     ]
    }
   ],
   "source": [
    "predsDiaF = bestFeats('/Users/soniasharapova/Documents/FatiResearch/CFonlyCSV/Fatty/RCFDiaF.csv', features)\n",
    "print(\"-------------\")\n",
    "predsPecsF = bestFeats('/Users/soniasharapova/Documents/FatiResearch/CFonlyCSV/Fatty/RCFPecsF.csv', features)\n",
    "print(\"-------------\")\n",
    "predsParaF = bestFeats('/Users/soniasharapova/Documents/FatiResearch/CFonlyCSV/Fatty/RCFParaF.csv', features)\n",
    "print(\"-------------\")\n",
    "predsAbdF = bestFeats('/Users/soniasharapova/Documents/FatiResearch/CFonlyCSV/Fatty/RCFAbdF.csv', features)\n",
    "print(\"-------------\")"
   ]
  },
  {
   "cell_type": "code",
   "execution_count": 582,
   "id": "9747758d",
   "metadata": {},
   "outputs": [
    {
     "name": "stdout",
     "output_type": "stream",
     "text": [
      "[0.5953252903624785, 0.4998165738268287, 0.31335392469046713, 0.09284815560335057]\n"
     ]
    },
    {
     "data": {
      "image/png": "[encoded data removed]",
      "text/plain": [
       "<Figure size 432x288 with 1 Axes>"
      ]
     },
     "metadata": {
      "needs_background": "light"
     },
     "output_type": "display_data"
    }
   ],
   "source": [
    "predsFattyCF = [[predsDiaF, \"Dia\"], \n",
    "               [predsPecsF, \"Pecs\"], \n",
    "               [predsParaF, \"Para\"],\n",
    "               [predsAbdF, \"Abd\"]]\n",
    "\n",
    "\n",
    "sortedPredFattyCF = sorted(predsFattyCF, key=getKey, reverse = True)\n",
    "\n",
    "pairFattyCF = split(sortedPredFattyCF)\n",
    "predsFattyCF = pairFattyCF[0]\n",
    "print(predsFattyCF)\n",
    "namesFattyCF = pairFattyCF[1]    \n",
    "\n",
    "plotCorrsComb(predsFattyCF, namesFattyCF, 'Prediction Rankings Per Muscle Group for Fatty% CF Only LinReg') "
   ]
  },
  {
   "cell_type": "code",
   "execution_count": 583,
   "id": "406eeb1e",
   "metadata": {},
   "outputs": [
    {
     "name": "stdout",
     "output_type": "stream",
     "text": [
      "[0.5953252903624785, 0.4998165738268287, 0.31335392469046713, 0.09284815560335057]\n"
     ]
    }
   ],
   "source": [
    "print(predsFattyCF)"
   ]
  },
  {
   "cell_type": "markdown",
   "id": "d985893a",
   "metadata": {},
   "source": [
    "Muscle"
   ]
  },
  {
   "cell_type": "code",
   "execution_count": 584,
   "id": "26dc630e",
   "metadata": {},
   "outputs": [
    {
     "name": "stdout",
     "output_type": "stream",
     "text": [
      "0.6022833616745551\n",
      "variance:  0.004830359216256916\n",
      "-------------\n",
      "0.5613141170991933\n",
      "variance:  0.0022179159730658375\n",
      "-------------\n",
      "0.5999731186016356\n",
      "variance:  0.010242051200482735\n",
      "-------------\n",
      "0.5821431051131774\n",
      "variance:  0.003978571984670046\n",
      "-------------\n"
     ]
    }
   ],
   "source": [
    "predsDiaM = bestFeats('/Users/soniasharapova/Documents/FatiResearch/CFonlyCSV/Muscle/RCFDiaM.csv', features)\n",
    "print(\"-------------\")\n",
    "predsPecsM = bestFeats('/Users/soniasharapova/Documents/FatiResearch/CFonlyCSV/Muscle/RCFPecsM.csv', features)\n",
    "print(\"-------------\")\n",
    "predsParaM = bestFeats('/Users/soniasharapova/Documents/FatiResearch/CFonlyCSV/Muscle/RCFParaM.csv', features)\n",
    "print(\"-------------\")\n",
    "predsAbdM = bestFeats('/Users/soniasharapova/Documents/FatiResearch/CFonlyCSV/Muscle/RCFAbdM.csv', features)\n",
    "print(\"-------------\")"
   ]
  },
  {
   "cell_type": "code",
   "execution_count": 585,
   "id": "07c8753f",
   "metadata": {},
   "outputs": [
    {
     "name": "stdout",
     "output_type": "stream",
     "text": [
      "[0.6022833616745551, 0.5999731186016356, 0.5821431051131774, 0.5613141170991933]\n"
     ]
    },
    {
     "data": {
      "image/png": "[encoded data removed]",
      "text/plain": [
       "<Figure size 432x288 with 1 Axes>"
      ]
     },
     "metadata": {
      "needs_background": "light"
     },
     "output_type": "display_data"
    }
   ],
   "source": [
    "predsMuscleCF = [[predsDiaM, \"Dia CF\"], \n",
    "               [predsPecsM, \"Pecs CF\"], \n",
    "               [predsParaM, \"Para CF\"],\n",
    "               [predsAbdM, \"Abd CF\"]]\n",
    "\n",
    "\n",
    "sortedPredMuscleCF = sorted(predsMuscleCF, key=getKey, reverse = True)\n",
    "\n",
    "pairMuscleCF = split(sortedPredMuscleCF)\n",
    "predsMuscleCF = pairMuscleCF[0]\n",
    "print(predsMuscleCF)\n",
    "namesMuscleCF = pairMuscleCF[1]    \n",
    "\n",
    "plotCorrsComb(predsMuscleCF, namesMuscleCF, 'Prediction Rankings Per Muscle Group for Muscle Density CF Only SVM') "
   ]
  },
  {
   "cell_type": "code",
   "execution_count": null,
   "id": "4655d998",
   "metadata": {},
   "outputs": [],
   "source": []
  },
  {
   "cell_type": "code",
   "execution_count": 571,
   "id": "c17284f9",
   "metadata": {},
   "outputs": [
    {
     "name": "stdout",
     "output_type": "stream",
     "text": [
      "Random Forest:  0.3908945583482404 \n",
      "SVR:  0.48088220587146074 \n",
      "OLS:  0.40912878669326824 \n",
      "Linear Regression:  0.3099235050532925\n"
     ]
    },
    {
     "data": {
      "text/plain": [
       "0.3099235050532925"
      ]
     },
     "execution_count": 571,
     "metadata": {},
     "output_type": "execute_result"
    }
   ],
   "source": [
    "#predictionsRF = [0.21031504328396733, 0.21153016317975087, 0.33605839072916716, 0.1145958509824098, 0.3380365477230022, 0.7152704085146953, 0.6135640734186211, 0.33229849556152496]\n",
    "#predictionsSVR = [0.09284815560335057, 0.4998165738268287, 0.5953252903624785, 0.31335392469046713, 0.6022833616745551, 0.5613141170991933, 0.5999731186016356, 0.5821431051131774]\n",
    "#predictionsOLS = [0.07188445832267147, 0.40285856321039565, 0.32037567575525067, 0.3752702693123754, 0.3894213130625643, 0.1826928835243566, 0.5486710355494143, 0.43766369867435045]\n",
    "#predictionsLinReg = [0.016853496028915727, 0.46290607330169387, 0.29743283348011207, 0.33641166513552634, 0.34315506564775805, 0.03776268222706607, 0.4406641583954269, 0.4138543623001742]\n",
    "predictionsRF = [0.35235864287679364, 0.2807422831980155, 0.22379702283716923, 0.21715826459443852, 0.6782305592748129, 0.5851496524051603, 0.3949119580972546, 0.3948080835022783]\n",
    "predictionsOLS = [0.40285856321039565, 0.3752702693123754, 0.32037567575525067, 0.12142553198861805, 0.6782305592748129, 0.5851496524051603, 0.3949119580972546, 0.3948080835022783]\n",
    "predictionsSVR = [0.5953252903624785, 0.4998165738268287, 0.31335392469046713, 0.09284815560335057, 0.6022833616745551, 0.5999731186016356, 0.5821431051131774, 0.5613141170991933]\n",
    "predictionsLinReg = [0.46290607330169387, 0.33641166513552634, 0.29743283348011207, 0.06494746854959045, 0.4406641583954269, 0.4138543623001742, 0.34315506564775805, 0.12001641361605807]\n",
    "\n",
    "\n",
    "def corrMean(pred):\n",
    "    sumPred = 0\n",
    "    for x in pred:\n",
    "        sumPred = sumPred + x\n",
    "    #print(sumPred / len(pred))\n",
    "    return(sumPred / len(pred))\n",
    "\n",
    "def plotCorrs(p1, p2, p3, p4):\n",
    "    import matplotlib.pyplot as plt\n",
    "    plt.plot(p1)\n",
    "    plt.plot(p2)\n",
    "    plt.plot(p3)\n",
    "    plt.plot(p4)\n",
    "    plt.ylabel('Correlation')\n",
    "    plt.xlabel('Variable Removed')\n",
    "    plt.title('Model Comparison for Average Correlation: CF Only')\n",
    "    plt.legend(['Random Forest', 'SVR', 'OLS', 'Linear Regression'])\n",
    "\n",
    "    plt.show()\n",
    "    \n",
    "print(\"Random Forest: \", corrMean(predictionsRF),\n",
    "      \"\\nSVR: \", corrMean(predictionsSVR), \n",
    "      \"\\nOLS: \", corrMean(predictionsOLS), \n",
    "      \"\\nLinear Regression: \", corrMean(predictionsLinReg))\n",
    "corrMean(predictionsRF)\n",
    "corrMean(predictionsSVR)\n",
    "corrMean(predictionsOLS)\n",
    "corrMean(predictionsLinReg)\n",
    "#plotCorrs(predictionsRF, predictionsSVR, predictionsOLS, predictionsLinReg) \n"
   ]
  },
  {
   "cell_type": "code",
   "execution_count": null,
   "id": "bb8f4415",
   "metadata": {},
   "outputs": [],
   "source": []
  },
  {
   "cell_type": "code",
   "execution_count": null,
   "id": "fa47ac19",
   "metadata": {},
   "outputs": [],
   "source": []
  },
  {
   "cell_type": "code",
   "execution_count": null,
   "id": "ac202fe6",
   "metadata": {},
   "outputs": [],
   "source": []
  }
 ],
 "metadata": {
  "kernelspec": {
   "display_name": "Python 3",
   "language": "python",
   "name": "python3"
  },
  "language_info": {
   "codemirror_mode": {
    "name": "ipython",
    "version": 3
   },
   "file_extension": ".py",
   "mimetype": "text/x-python",
   "name": "python",
   "nbconvert_exporter": "python",
   "pygments_lexer": "ipython3",
   "version": "3.9.5"
  }
 },
 "nbformat": 4,
 "nbformat_minor": 5
}
