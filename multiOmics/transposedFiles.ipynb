{
 "cells": [
  {
   "cell_type": "code",
   "execution_count": 1,
   "id": "e2dec4e5",
   "metadata": {},
   "outputs": [],
   "source": [
    "import pandas as pd\n",
    "import numpy as np\n",
    "import csv\n",
    "\n",
    "def transpose(fname, outfile):\n",
    "    df = pd.read_fwf(fname, delimiter = \"\\t\")\n",
    "    print(df)\n",
    "    transposed = df.transpose(copy=False)\n",
    "    #print(transposed)\n",
    "\n"
   ]
  },
  {
   "cell_type": "code",
   "execution_count": 2,
   "id": "d9b91d59",
   "metadata": {},
   "outputs": [],
   "source": [
    "def downloadRnaData(fname, **kwargs):\n",
    "    def rewrite_csv_as_tab(fname):\n",
    "        \n",
    "        with open(fname, newline='') as fp:\n",
    "            dialect = csv.Sniffer().sniff(fp.readline())\n",
    "            fp.seek(0)\n",
    "            for row in csv.reader(fp, dialect):\n",
    "                yield \"\\t\".join(row)\n",
    "    return np.recfromtxt(rewrite_csv_as_tab(fname), delimiter='\\t', encoding=None, **kwargs, skip_header=0)\n"
   ]
  },
  {
   "cell_type": "code",
   "execution_count": null,
   "id": "dcf56adb",
   "metadata": {},
   "outputs": [],
   "source": [
    "#recarray.tofile(fid, sep='', format='%s')"
   ]
  },
  {
   "cell_type": "markdown",
   "id": "cc7db3d0",
   "metadata": {},
   "source": [
    "# RNAseq"
   ]
  },
  {
   "cell_type": "code",
   "execution_count": 11,
   "id": "00787220",
   "metadata": {},
   "outputs": [],
   "source": [
    "rnaSeq = \"/Users/soniasharapova/Documents/JunDingResearch/MultiOmics/cBioPortal/data_mrna_seq_v2_rsem_zscores_ref_all_samples.txt\"\n",
    "rnaSeqOutFile = \"/Users/soniasharapova/Documents/JunDingResearch/MultiOmics/cBioPortal/rnaSeq.csv\"\n",
    "rs = downloadRnaData(rnaSeq)\n",
    "transposeRnaSeq = rs.transpose()\n",
    "transposeRnaSeq = transposeRnaSeq.tolist()\n"
   ]
  },
  {
   "cell_type": "code",
   "execution_count": 12,
   "id": "7a98c88b",
   "metadata": {},
   "outputs": [],
   "source": [
    "import pandas as pd\n",
    "\n",
    "def writeToCsv(outfile, infile):\n",
    "    df = pd.DataFrame(infile)\n",
    "    df.to_csv(outfile, sep=',', header=False)\n",
    "    #df = pd.read_csv(infile, sep='\\s+',header=None)\n",
    "    print(type(df.values))\n",
    "\n",
    "#rem col 0 and 7, row 2"
   ]
  },
  {
   "cell_type": "code",
   "execution_count": 13,
   "id": "6ac5548c",
   "metadata": {},
   "outputs": [
    {
     "name": "stdout",
     "output_type": "stream",
     "text": [
      "<class 'numpy.ndarray'>\n"
     ]
    }
   ],
   "source": [
    "writeToCsv(rnaSeqOutFile, transposeRnaSeq)\n"
   ]
  },
  {
   "cell_type": "markdown",
   "id": "c5ddd42f",
   "metadata": {},
   "source": [
    "# Protein"
   ]
  },
  {
   "cell_type": "code",
   "execution_count": 6,
   "id": "bd7709da",
   "metadata": {},
   "outputs": [],
   "source": [
    "protein = \"/Users/soniasharapova/Documents/JunDingResearch/MultiOmics/cBioPortal/data_protein_quantification.txt\"\n",
    "proteinOutFile = \"/Users/soniasharapova/Documents/JunDingResearch/MultiOmics/cBioPortal/protein.csv\"\n",
    "prot = downloadRnaData(protein)\n",
    "transposeProtein = prot.transpose()\n",
    "transposeProtein = transposeProtein.tolist()"
   ]
  },
  {
   "cell_type": "code",
   "execution_count": 7,
   "id": "0968a2f7",
   "metadata": {},
   "outputs": [
    {
     "name": "stdout",
     "output_type": "stream",
     "text": [
      "<class 'numpy.ndarray'>\n"
     ]
    }
   ],
   "source": [
    "writeToCsv(proteinOutFile, transposeProtein)\n"
   ]
  },
  {
   "cell_type": "code",
   "execution_count": null,
   "id": "97ac301c",
   "metadata": {},
   "outputs": [],
   "source": [
    "#toCsv(transposeProtein)\n",
    "#transposeProtein.tofile(proteinOutFile, sep='', format='%s')"
   ]
  },
  {
   "cell_type": "markdown",
   "id": "f0b9ff79",
   "metadata": {},
   "source": [
    "# Methylation"
   ]
  },
  {
   "cell_type": "code",
   "execution_count": 9,
   "id": "3bbfe1bf",
   "metadata": {},
   "outputs": [],
   "source": [
    "methylation = \"/Users/soniasharapova/Documents/JunDingResearch/MultiOmics/cBioPortal/data_methylation_hm27_hm450_merged.txt\"\n",
    "methylOutFile = \"/Users/soniasharapova/Documents/JunDingResearch/MultiOmics/cBioPortal/methylation.csv\"\n",
    "meth = downloadRnaData(methylation)\n",
    "transposeMethylation = meth.transpose()\n",
    "transposeMethylation = transposeMethylation.tolist()"
   ]
  },
  {
   "cell_type": "code",
   "execution_count": 10,
   "id": "c3013a5d",
   "metadata": {},
   "outputs": [
    {
     "name": "stdout",
     "output_type": "stream",
     "text": [
      "<class 'numpy.ndarray'>\n"
     ]
    }
   ],
   "source": [
    "writeToCsv(methylOutFile, transposeMethylation)"
   ]
  },
  {
   "cell_type": "code",
   "execution_count": null,
   "id": "1abaa030",
   "metadata": {},
   "outputs": [],
   "source": [
    "#remove 0,2,3"
   ]
  },
  {
   "cell_type": "code",
   "execution_count": null,
   "id": "82d286a0",
   "metadata": {},
   "outputs": [],
   "source": []
  },
  {
   "cell_type": "code",
   "execution_count": null,
   "id": "780e4284",
   "metadata": {},
   "outputs": [],
   "source": []
  },
  {
   "cell_type": "code",
   "execution_count": null,
   "id": "4563957d",
   "metadata": {},
   "outputs": [],
   "source": []
  }
 ],
 "metadata": {
  "kernelspec": {
   "display_name": "Python 3",
   "language": "python",
   "name": "python3"
  },
  "language_info": {
   "codemirror_mode": {
    "name": "ipython",
    "version": 3
   },
   "file_extension": ".py",
   "mimetype": "text/x-python",
   "name": "python",
   "nbconvert_exporter": "python",
   "pygments_lexer": "ipython3",
   "version": "3.9.5"
  }
 },
 "nbformat": 4,
 "nbformat_minor": 5
}
