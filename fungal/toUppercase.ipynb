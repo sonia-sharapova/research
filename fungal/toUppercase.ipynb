{
 "cells": [
  {
   "cell_type": "code",
   "execution_count": 16,
   "metadata": {},
   "outputs": [],
   "source": [
    "genes = open(\"/Users/Sonia/Work/JunDingResearch/cdfs/UniqueSPathsCDF.csv\", \"r\")\n",
    "upperGenes = []\n",
    "#print(genes.read())\n",
    "\n",
    "for i in genes:\n",
    "\n",
    "    upperGenes.append(i.upper())\n",
    "\n",
    "\n",
    "#print(upperGenes)\n",
    "f = open('/Users/Sonia/Work/JunDingResearch/cdfs/Upper/UniqueSPathsCDFUpper.csv', 'w')\n",
    "\n",
    "for x in upperGenes:\n",
    "    f.write(x)\n",
    "    \n",
    "    \n",
    "\n"
   ]
  },
  {
   "cell_type": "code",
   "execution_count": null,
   "metadata": {
    "collapsed": true
   },
   "outputs": [],
   "source": []
  }
 ],
 "metadata": {
  "kernelspec": {
   "display_name": "Python 3",
   "language": "python",
   "name": "python3"
  },
  "language_info": {
   "codemirror_mode": {
    "name": "ipython",
    "version": 3
   },
   "file_extension": ".py",
   "mimetype": "text/x-python",
   "name": "python",
   "nbconvert_exporter": "python",
   "pygments_lexer": "ipython3",
   "version": "3.6.1"
  }
 },
 "nbformat": 4,
 "nbformat_minor": 2
}
