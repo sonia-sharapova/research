{
 "cells": [
  {
   "cell_type": "code",
   "execution_count": 33,
   "metadata": {},
   "outputs": [
    {
     "name": "stdout",
     "output_type": "stream",
     "text": [
      "65\n",
      "[['CPNE5', '0.9988917478663163\\n'], ['PPIL1', '0.33916240223128213\\n'], ['PI16', '0.9069846680710378\\n'], ['MTCH1', '0.19337442623919704\\n'], ['FGD2', '0.9952181984300277\\n'], ['PIM1', '0.03797502137524891\\n'], ['TBC1D22B', '0.5057904536678758\\n'], ['RNF8', '0.5057904536678758\\n'], ['CMTR1', '0.8777063616204638\\n'], ['CCDC167', '0.9988917478663163\\n'], ['MDGA1', '0.9991134294372677\\n'], ['ZFAND3', '0.7608058793471815\\n'], ['BTBD9', '0.5057904536678758\\n'], ['GLO1', '0.7608058793471815\\n'], ['DNAH8', '0.7830499717011759\\n'], ['GLP1R', '0.6373799454673049\\n'], ['ABCG1', '0.9988917478663163\\n'], ['TFF1', '0.8042790516936366\\n'], ['TMPRSS3', '0.919733242165905\\n'], ['UBASH3A', '0.3124832202718303\\n'], ['RSPH1', '0.9993975330023257\\n'], ['SLC37A1', '0.9816293608692915\\n'], ['PDE9A', '0.9988917478663163\\n'], ['WDR4', '0.662380696697253\\n'], ['NDUFV3', '0.9069846680710378\\n'], ['PKNOX1', '0.8244161260596623\\n'], ['CBS', '0.4441073703577162\\n'], ['U2AF1', '0.3104283933857195\\n'], ['CRYAA', '0.38664224624650917\\n'], ['SIK1', '0.5057904536678758\\n'], ['HSF2BP', '0.9999923470933111\\n'], ['RRP1B', '0.10199884374774942\\n'], ['NOTCH3', '0.16988295775823442\\n'], ['BRD4', '0.01636330249370603\\n'], ['AKAP8L', '0.11656982019990514\\n'], ['WIZ', '0.5057904536678758\\n'], ['RASAL3', '0.9988917478663163\\n'], ['ADAMTS10', '0.9988917478663163\\n'], ['MYO1F', '0.9719651780849309\\n'], ['PRAM1', '0.23196781042644743\\n'], ['HNRNPM', '0.042476087270363165\\n'], ['CCHCR1', '0.5057904536678758\\n'], ['DDR1', '0.2989308147865106\\n'], ['DHX16', '0.7830499717011759\\n'], ['ATAT1', '0.9069846680710378\\n'], ['TRIM40', '0.4240841846314941\\n'], ['BRPF3', '0.6635995521787204\\n'], ['STK38', '0.43205442743907174\\n'], ['SRSF3', '0.7608058793471815\\n'], ['CDKN1A', '0.0747868093737259\\n'], ['TFF3', '0.9988917478663163\\n'], ['AKAP8', '0.43686196023798346\\n'], ['PSORS1C2', '0.999999971410239\\n'], ['VARS2', '0.9988917478663163\\n'], ['GTF2H4', '0.8042790516936366\\n'], ['FLOT1', '0.17519716697867294\\n'], ['NRM', '0.9988917478663163\\n'], ['PPP1R18', '0.5057904536678758\\n'], ['ABCF1', '0.7830499717011759\\n'], ['GNL1', '0.8777063616204638\\n'], ['TRIM26', '0.7082036603328103\\n'], ['TRIM31', '0.24829427536901816\\n'], ['RNF39', '0.8042790516936366\\n'], ['MOG', '0.9069846680710378\\n'], ['GABBR1', '0.6635995521787204\\n']]\n"
     ]
    }
   ],
   "source": [
    "import csv\n",
    "\n",
    "fullScoreList = []\n",
    "newRow = []\n",
    "count = 0\n",
    "\n",
    "with open('/Users/Sonia/Work/JunDingResearch/cdfs/Upper/UniqueSPathsCDFUpper.csv', 'r') as SPathsGenes:\n",
    "    SPathGenes = SPathsGenes.readlines()\n",
    "    \n",
    "    with open('/Users/Sonia/GenesInRegion.csv', 'r') as geneList:\n",
    "        genes = geneList.readlines()\n",
    "    \n",
    "        for line in SPathGenes:\n",
    "            #line.rstrip('\\r\\n')\n",
    "            el = line.split(',')\n",
    "\n",
    "            #for y in el:\n",
    "                #newRow.append(y.rstrip('\\r\\n').strip('\\\"'))\n",
    "        \n",
    "                #print(newRow)\n",
    "            for gene in genes:\n",
    "                el[0] = el[0].rstrip('\\r\\n').strip('\\\"')\n",
    "                gene = gene.rstrip('\\r\\n').strip('\\\"')\n",
    "                \n",
    "                #print(el[0])\n",
    "                #print(gene)\n",
    "                if el[0] == gene:\n",
    "                    #print(el[0])\n",
    "                    #print(gene)\n",
    "                    #print(el[1])\n",
    "                        \n",
    "                    newRow.append(el[0])\n",
    "                    newRow.append(el[1])\n",
    "                        \n",
    "                    #print(el[1].rstrip('\\r\\n').strip('\\\"'))\n",
    "                    \"\"\"\n",
    "                    if el[1].rstrip('\\r\\n').strip('\\\"') == '1':\n",
    "                        #print(\"same\")\n",
    "                        newRow.append(1)\n",
    "                    else:\n",
    "                        newRow.append(0)\n",
    "                    \"\"\"\n",
    "            \n",
    "                \n",
    "            if newRow != []:\n",
    "                fullScoreList.append(newRow)\n",
    "                newRow = []  \n",
    "                count = count + 1\n",
    "print(count)             \n",
    "print(fullScoreList)            \n",
    "\n",
    "\n",
    "with open('/Users/Sonia/SPathsInRegion.csv', 'w') as outFile:\n",
    "    \n",
    "    \n",
    "    write = csv.writer(outFile)\n",
    "      \n",
    "    #write1.writerow(fields)\n",
    "    write.writerows(fullScoreList)\n"
   ]
  },
  {
   "cell_type": "code",
   "execution_count": null,
   "metadata": {
    "collapsed": true
   },
   "outputs": [],
   "source": []
  }
 ],
 "metadata": {
  "kernelspec": {
   "display_name": "Python 3",
   "language": "python",
   "name": "python3"
  },
  "language_info": {
   "codemirror_mode": {
    "name": "ipython",
    "version": 3
   },
   "file_extension": ".py",
   "mimetype": "text/x-python",
   "name": "python",
   "nbconvert_exporter": "python",
   "pygments_lexer": "ipython3",
   "version": "3.6.1"
  }
 },
 "nbformat": 4,
 "nbformat_minor": 2
}
